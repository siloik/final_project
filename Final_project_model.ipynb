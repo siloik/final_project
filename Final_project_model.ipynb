{
 "cells": [
  {
   "cell_type": "code",
   "execution_count": 3,
   "metadata": {},
   "outputs": [],
   "source": [
    "import pandas as pd\n",
    "import numpy as np\n",
    "import matplotlib.pyplot as plt\n",
    "import seaborn as sns\n",
    "from sklearn.model_selection import train_test_split\n",
    "%matplotlib inline\n",
    "\n",
    "from sklearn import preprocessing\n",
    "from sklearn import linear_model\n",
    "from sklearn.neighbors import KNeighborsRegressor\n",
    "from sklearn.preprocessing import Normalizer\n",
    "from sklearn.preprocessing import StandardScaler\n",
    "import warnings\n",
    "from sklearn.preprocessing import OrdinalEncoder\n",
    "warnings.filterwarnings('ignore')\n",
    "pd.set_option('display.max_columns', None)\n",
    "from sklearn.preprocessing import PowerTransformer\n",
    "from sklearn.preprocessing import OneHotEncoder\n",
    "from sklearn.ensemble import RandomForestRegressor\n",
    "from scipy.stats import chi2_contingency\n",
    "from statsmodels.stats.outliers_influence import variance_inflation_factor\n",
    "from sklearn.metrics import mean_absolute_error\n",
    "from sklearn.metrics import mean_squared_error\n",
    "#pd.set_option('display.max_rows', None)\n",
    "from yellowbrick.regressor import ResidualsPlot, PredictionError"
   ]
  },
  {
   "cell_type": "code",
   "execution_count": 5,
   "metadata": {},
   "outputs": [],
   "source": [
    "df = pd.read_csv('/Users/siljaloik/Desktop/Final_project/data_printout3.csv')"
   ]
  },
  {
   "cell_type": "code",
   "execution_count": 6,
   "metadata": {},
   "outputs": [
    {
     "data": {
      "text/html": [
       "<div>\n",
       "<style scoped>\n",
       "    .dataframe tbody tr th:only-of-type {\n",
       "        vertical-align: middle;\n",
       "    }\n",
       "\n",
       "    .dataframe tbody tr th {\n",
       "        vertical-align: top;\n",
       "    }\n",
       "\n",
       "    .dataframe thead th {\n",
       "        text-align: right;\n",
       "    }\n",
       "</style>\n",
       "<table border=\"1\" class=\"dataframe\">\n",
       "  <thead>\n",
       "    <tr style=\"text-align: right;\">\n",
       "      <th></th>\n",
       "      <th>Unnamed: 0</th>\n",
       "      <th>artist</th>\n",
       "      <th>album_title</th>\n",
       "      <th>ratings</th>\n",
       "      <th>community_rating</th>\n",
       "      <th>no_of_have</th>\n",
       "      <th>no_of_want</th>\n",
       "      <th>ratio_community</th>\n",
       "      <th>record_condition</th>\n",
       "      <th>sleeve_condition</th>\n",
       "      <th>label</th>\n",
       "      <th>seller</th>\n",
       "      <th>av_seller_rating</th>\n",
       "      <th>ships_from</th>\n",
       "      <th>release_country</th>\n",
       "      <th>year</th>\n",
       "      <th>record_age</th>\n",
       "      <th>genre</th>\n",
       "      <th>style</th>\n",
       "      <th>tracks</th>\n",
       "      <th>b_side</th>\n",
       "      <th>no_of_records</th>\n",
       "      <th>format_</th>\n",
       "      <th>usd_price</th>\n",
       "    </tr>\n",
       "  </thead>\n",
       "  <tbody>\n",
       "    <tr>\n",
       "      <th>0</th>\n",
       "      <td>0</td>\n",
       "      <td>Crystal Distortion</td>\n",
       "      <td>The Things I4m Not Supposed To Do</td>\n",
       "      <td>1992</td>\n",
       "      <td>4.17</td>\n",
       "      <td>327</td>\n",
       "      <td>100</td>\n",
       "      <td>0.31</td>\n",
       "      <td>Very Good (VG)</td>\n",
       "      <td>Generic</td>\n",
       "      <td>Expressillon</td>\n",
       "      <td>fendersDE</td>\n",
       "      <td>99.80</td>\n",
       "      <td>Germany</td>\n",
       "      <td>France</td>\n",
       "      <td>2004</td>\n",
       "      <td>17</td>\n",
       "      <td>Electronic</td>\n",
       "      <td>Breakbeat</td>\n",
       "      <td>5</td>\n",
       "      <td>1</td>\n",
       "      <td>2</td>\n",
       "      <td>Other</td>\n",
       "      <td>8.92</td>\n",
       "    </tr>\n",
       "    <tr>\n",
       "      <th>1</th>\n",
       "      <td>1</td>\n",
       "      <td>Kristine W</td>\n",
       "      <td>Land Of The Living</td>\n",
       "      <td>1776</td>\n",
       "      <td>4.67</td>\n",
       "      <td>19</td>\n",
       "      <td>32</td>\n",
       "      <td>1.68</td>\n",
       "      <td>Near Mint (NM or M-)</td>\n",
       "      <td>Very Good Plus (VG+)</td>\n",
       "      <td>Champion</td>\n",
       "      <td>discomany</td>\n",
       "      <td>100.00</td>\n",
       "      <td>Italy</td>\n",
       "      <td>UK</td>\n",
       "      <td>1996</td>\n",
       "      <td>25</td>\n",
       "      <td>Electronic</td>\n",
       "      <td>House</td>\n",
       "      <td>9</td>\n",
       "      <td>1</td>\n",
       "      <td>1</td>\n",
       "      <td>LP</td>\n",
       "      <td>80.77</td>\n",
       "    </tr>\n",
       "    <tr>\n",
       "      <th>2</th>\n",
       "      <td>2</td>\n",
       "      <td>DJ Katch</td>\n",
       "      <td>The Horns / Ends Up</td>\n",
       "      <td>33</td>\n",
       "      <td>4.00</td>\n",
       "      <td>32</td>\n",
       "      <td>25</td>\n",
       "      <td>0.78</td>\n",
       "      <td>Mint (M)</td>\n",
       "      <td>Mint (M)</td>\n",
       "      <td>Not On Label (DJ Katch Self-released)</td>\n",
       "      <td>RILLENTRAEGER</td>\n",
       "      <td>100.00</td>\n",
       "      <td>Germany</td>\n",
       "      <td>Germany</td>\n",
       "      <td>2018</td>\n",
       "      <td>3</td>\n",
       "      <td>Electronic</td>\n",
       "      <td>Instrumental</td>\n",
       "      <td>2</td>\n",
       "      <td>0</td>\n",
       "      <td>1</td>\n",
       "      <td>7\"</td>\n",
       "      <td>83.18</td>\n",
       "    </tr>\n",
       "    <tr>\n",
       "      <th>3</th>\n",
       "      <td>3</td>\n",
       "      <td>Sunkids Featuring Chance</td>\n",
       "      <td>Rise Up</td>\n",
       "      <td>438</td>\n",
       "      <td>4.34</td>\n",
       "      <td>540</td>\n",
       "      <td>185</td>\n",
       "      <td>0.34</td>\n",
       "      <td>Very Good Plus (VG+)</td>\n",
       "      <td>Near Mint (NM or M-)</td>\n",
       "      <td>Yellorange</td>\n",
       "      <td>waldweg</td>\n",
       "      <td>100.00</td>\n",
       "      <td>Germany</td>\n",
       "      <td>US</td>\n",
       "      <td>2000</td>\n",
       "      <td>21</td>\n",
       "      <td>Electronic</td>\n",
       "      <td>House</td>\n",
       "      <td>4</td>\n",
       "      <td>0</td>\n",
       "      <td>2</td>\n",
       "      <td>Other</td>\n",
       "      <td>11.89</td>\n",
       "    </tr>\n",
       "    <tr>\n",
       "      <th>4</th>\n",
       "      <td>4</td>\n",
       "      <td>Salt 'N' Pepa</td>\n",
       "      <td>Gitty Up</td>\n",
       "      <td>545</td>\n",
       "      <td>3.80</td>\n",
       "      <td>39</td>\n",
       "      <td>15</td>\n",
       "      <td>0.38</td>\n",
       "      <td>Mint (M)</td>\n",
       "      <td>Generic</td>\n",
       "      <td>FFRR</td>\n",
       "      <td>UNDERTOW_1992</td>\n",
       "      <td>99.80</td>\n",
       "      <td>Germany</td>\n",
       "      <td>UK</td>\n",
       "      <td>1998</td>\n",
       "      <td>23</td>\n",
       "      <td>Electronic</td>\n",
       "      <td>RnB/Swing</td>\n",
       "      <td>1</td>\n",
       "      <td>1</td>\n",
       "      <td>1</td>\n",
       "      <td>12\"</td>\n",
       "      <td>2.08</td>\n",
       "    </tr>\n",
       "    <tr>\n",
       "      <th>5</th>\n",
       "      <td>5</td>\n",
       "      <td>Alta Frecuencia</td>\n",
       "      <td>Cruzando La Linea</td>\n",
       "      <td>100</td>\n",
       "      <td>3.67</td>\n",
       "      <td>6</td>\n",
       "      <td>1</td>\n",
       "      <td>0.17</td>\n",
       "      <td>Very Good Plus (VG+)</td>\n",
       "      <td>Very Good Plus (VG+)</td>\n",
       "      <td>CBS</td>\n",
       "      <td>AsiEmpezoLaCosa</td>\n",
       "      <td>100.00</td>\n",
       "      <td>Colombia</td>\n",
       "      <td>Venezuela</td>\n",
       "      <td>1984</td>\n",
       "      <td>37</td>\n",
       "      <td>Rock</td>\n",
       "      <td>ClassicRock</td>\n",
       "      <td>7</td>\n",
       "      <td>1</td>\n",
       "      <td>1</td>\n",
       "      <td>LP</td>\n",
       "      <td>19.55</td>\n",
       "    </tr>\n",
       "    <tr>\n",
       "      <th>6</th>\n",
       "      <td>6</td>\n",
       "      <td>Trapped Under Ice</td>\n",
       "      <td>Stay Cold</td>\n",
       "      <td>11</td>\n",
       "      <td>4.75</td>\n",
       "      <td>150</td>\n",
       "      <td>49</td>\n",
       "      <td>0.33</td>\n",
       "      <td>Near Mint (NM or M-)</td>\n",
       "      <td>Very Good (VG)</td>\n",
       "      <td>Reaper Records (2)</td>\n",
       "      <td>xheimathafenx</td>\n",
       "      <td>100.00</td>\n",
       "      <td>Germany</td>\n",
       "      <td>US</td>\n",
       "      <td>2010</td>\n",
       "      <td>11</td>\n",
       "      <td>Rock</td>\n",
       "      <td>Hardcore</td>\n",
       "      <td>5</td>\n",
       "      <td>1</td>\n",
       "      <td>1</td>\n",
       "      <td>7\"</td>\n",
       "      <td>13.09</td>\n",
       "    </tr>\n",
       "    <tr>\n",
       "      <th>7</th>\n",
       "      <td>7</td>\n",
       "      <td>Generation Dub</td>\n",
       "      <td>Atomic</td>\n",
       "      <td>14</td>\n",
       "      <td>3.76</td>\n",
       "      <td>189</td>\n",
       "      <td>19</td>\n",
       "      <td>0.10</td>\n",
       "      <td>Very Good (VG)</td>\n",
       "      <td>Generic</td>\n",
       "      <td>Reformed Recordings</td>\n",
       "      <td>TimTheEnchanter</td>\n",
       "      <td>100.00</td>\n",
       "      <td>United Kingdom</td>\n",
       "      <td>UK</td>\n",
       "      <td>2004</td>\n",
       "      <td>17</td>\n",
       "      <td>Electronic</td>\n",
       "      <td>DrumnBass</td>\n",
       "      <td>1</td>\n",
       "      <td>0</td>\n",
       "      <td>1</td>\n",
       "      <td>12\"</td>\n",
       "      <td>0.35</td>\n",
       "    </tr>\n",
       "    <tr>\n",
       "      <th>8</th>\n",
       "      <td>8</td>\n",
       "      <td>D.E.O.</td>\n",
       "      <td>1977 EP</td>\n",
       "      <td>9095</td>\n",
       "      <td>4.57</td>\n",
       "      <td>299</td>\n",
       "      <td>792</td>\n",
       "      <td>2.65</td>\n",
       "      <td>Very Good Plus (VG+)</td>\n",
       "      <td>Very Good Plus (VG+)</td>\n",
       "      <td>Hydraulic Records</td>\n",
       "      <td>dannygnr8</td>\n",
       "      <td>99.56</td>\n",
       "      <td>United Kingdom</td>\n",
       "      <td>US</td>\n",
       "      <td>1997</td>\n",
       "      <td>24</td>\n",
       "      <td>Electronic</td>\n",
       "      <td>Electro</td>\n",
       "      <td>3</td>\n",
       "      <td>1</td>\n",
       "      <td>1</td>\n",
       "      <td>12\"</td>\n",
       "      <td>27.79</td>\n",
       "    </tr>\n",
       "    <tr>\n",
       "      <th>9</th>\n",
       "      <td>9</td>\n",
       "      <td>Robert John</td>\n",
       "      <td>Sad Eyes</td>\n",
       "      <td>740</td>\n",
       "      <td>4.20</td>\n",
       "      <td>19</td>\n",
       "      <td>1</td>\n",
       "      <td>0.05</td>\n",
       "      <td>Very Good (VG)</td>\n",
       "      <td>Generic</td>\n",
       "      <td>EMI America</td>\n",
       "      <td>musiclraider</td>\n",
       "      <td>99.40</td>\n",
       "      <td>United Kingdom</td>\n",
       "      <td>US</td>\n",
       "      <td>1979</td>\n",
       "      <td>42</td>\n",
       "      <td>Pop</td>\n",
       "      <td>Ballad</td>\n",
       "      <td>2</td>\n",
       "      <td>0</td>\n",
       "      <td>1</td>\n",
       "      <td>7\"</td>\n",
       "      <td>2.78</td>\n",
       "    </tr>\n",
       "  </tbody>\n",
       "</table>\n",
       "</div>"
      ],
      "text/plain": [
       "   Unnamed: 0                     artist                          album_title  \\\n",
       "0           0        Crystal Distortion    The Things I4m Not Supposed To Do    \n",
       "1           1                Kristine W                   Land Of The Living    \n",
       "2           2                  DJ Katch                  The Horns / Ends Up    \n",
       "3           3  Sunkids Featuring Chance                              Rise Up    \n",
       "4           4             Salt 'N' Pepa                             Gitty Up    \n",
       "5           5           Alta Frecuencia                    Cruzando La Linea    \n",
       "6           6         Trapped Under Ice                            Stay Cold    \n",
       "7           7            Generation Dub                               Atomic    \n",
       "8           8                    D.E.O.                              1977 EP    \n",
       "9           9               Robert John                             Sad Eyes    \n",
       "\n",
       "   ratings  community_rating  no_of_have  no_of_want  ratio_community  \\\n",
       "0     1992              4.17         327         100             0.31   \n",
       "1     1776              4.67          19          32             1.68   \n",
       "2       33              4.00          32          25             0.78   \n",
       "3      438              4.34         540         185             0.34   \n",
       "4      545              3.80          39          15             0.38   \n",
       "5      100              3.67           6           1             0.17   \n",
       "6       11              4.75         150          49             0.33   \n",
       "7       14              3.76         189          19             0.10   \n",
       "8     9095              4.57         299         792             2.65   \n",
       "9      740              4.20          19           1             0.05   \n",
       "\n",
       "       record_condition      sleeve_condition  \\\n",
       "0        Very Good (VG)               Generic   \n",
       "1  Near Mint (NM or M-)  Very Good Plus (VG+)   \n",
       "2              Mint (M)              Mint (M)   \n",
       "3  Very Good Plus (VG+)  Near Mint (NM or M-)   \n",
       "4              Mint (M)               Generic   \n",
       "5  Very Good Plus (VG+)  Very Good Plus (VG+)   \n",
       "6  Near Mint (NM or M-)        Very Good (VG)   \n",
       "7        Very Good (VG)               Generic   \n",
       "8  Very Good Plus (VG+)  Very Good Plus (VG+)   \n",
       "9        Very Good (VG)               Generic   \n",
       "\n",
       "                                   label           seller  av_seller_rating  \\\n",
       "0                           Expressillon        fendersDE             99.80   \n",
       "1                               Champion        discomany            100.00   \n",
       "2  Not On Label (DJ Katch Self-released)    RILLENTRAEGER            100.00   \n",
       "3                             Yellorange          waldweg            100.00   \n",
       "4                                   FFRR    UNDERTOW_1992             99.80   \n",
       "5                                    CBS  AsiEmpezoLaCosa            100.00   \n",
       "6                     Reaper Records (2)    xheimathafenx            100.00   \n",
       "7                    Reformed Recordings  TimTheEnchanter            100.00   \n",
       "8                      Hydraulic Records        dannygnr8             99.56   \n",
       "9                            EMI America     musiclraider             99.40   \n",
       "\n",
       "       ships_from release_country  year  record_age       genre         style  \\\n",
       "0         Germany          France  2004          17  Electronic     Breakbeat   \n",
       "1           Italy              UK  1996          25  Electronic         House   \n",
       "2         Germany         Germany  2018           3  Electronic  Instrumental   \n",
       "3         Germany              US  2000          21  Electronic         House   \n",
       "4         Germany              UK  1998          23  Electronic     RnB/Swing   \n",
       "5        Colombia       Venezuela  1984          37        Rock   ClassicRock   \n",
       "6         Germany              US  2010          11        Rock      Hardcore   \n",
       "7  United Kingdom              UK  2004          17  Electronic     DrumnBass   \n",
       "8  United Kingdom              US  1997          24  Electronic       Electro   \n",
       "9  United Kingdom              US  1979          42         Pop        Ballad   \n",
       "\n",
       "   tracks  b_side no_of_records format_  usd_price  \n",
       "0       5       1             2   Other       8.92  \n",
       "1       9       1             1      LP      80.77  \n",
       "2       2       0             1      7\"      83.18  \n",
       "3       4       0             2   Other      11.89  \n",
       "4       1       1             1     12\"       2.08  \n",
       "5       7       1             1      LP      19.55  \n",
       "6       5       1             1      7\"      13.09  \n",
       "7       1       0             1     12\"       0.35  \n",
       "8       3       1             1     12\"      27.79  \n",
       "9       2       0             1      7\"       2.78  "
      ]
     },
     "execution_count": 6,
     "metadata": {},
     "output_type": "execute_result"
    }
   ],
   "source": [
    "df.head(10)"
   ]
  },
  {
   "cell_type": "code",
   "execution_count": 7,
   "metadata": {},
   "outputs": [
    {
     "data": {
      "text/plain": [
       "(16675, 24)"
      ]
     },
     "execution_count": 7,
     "metadata": {},
     "output_type": "execute_result"
    }
   ],
   "source": [
    "df.shape"
   ]
  },
  {
   "cell_type": "markdown",
   "metadata": {},
   "source": [
    "## Dropping columns that are unnecessary"
   ]
  },
  {
   "cell_type": "code",
   "execution_count": 8,
   "metadata": {},
   "outputs": [],
   "source": [
    "df.drop(['Unnamed: 0','artist', 'album_title', 'label','seller','ships_from','release_country','style'], axis=1, inplace=True)"
   ]
  },
  {
   "cell_type": "code",
   "execution_count": 9,
   "metadata": {},
   "outputs": [
    {
     "data": {
      "text/plain": [
       "(16675, 16)"
      ]
     },
     "execution_count": 9,
     "metadata": {},
     "output_type": "execute_result"
    }
   ],
   "source": [
    "df.shape"
   ]
  },
  {
   "cell_type": "markdown",
   "metadata": {},
   "source": [
    "# Explore the target column"
   ]
  },
  {
   "cell_type": "code",
   "execution_count": 10,
   "metadata": {},
   "outputs": [
    {
     "data": {
      "image/png": "[encoded data removed]",
      "text/plain": [
       "<Figure size 1440x576 with 2 Axes>"
      ]
     },
     "metadata": {
      "needs_background": "light"
     },
     "output_type": "display_data"
    }
   ],
   "source": [
    "plt.figure(figsize=(20,8))\n",
    "\n",
    "plt.subplot(1,2,1)\n",
    "plt.title('Vinyl Record Price Distribution Plot')\n",
    "sns.distplot(df.usd_price)\n",
    "\n",
    "plt.subplot(1,2,2)\n",
    "plt.title('Vinyl Record Price Spread')\n",
    "sns.boxplot(y=df.usd_price)\n",
    "\n",
    "plt.show()"
   ]
  },
  {
   "cell_type": "markdown",
   "metadata": {},
   "source": [
    "# Outliers"
   ]
  },
  {
   "cell_type": "markdown",
   "metadata": {},
   "source": [
    "## Target outliers"
   ]
  },
  {
   "cell_type": "code",
   "execution_count": 11,
   "metadata": {},
   "outputs": [
    {
     "data": {
      "text/plain": [
       "(16675, 16)"
      ]
     },
     "execution_count": 11,
     "metadata": {},
     "output_type": "execute_result"
    }
   ],
   "source": [
    "#more conventional method - did not drop any rows\n",
    "iqr = np.percentile(df['usd_price'],75) - np.percentile(df['usd_price'],25)\n",
    "upper_limit = np.percentile(df['usd_price'],75) + 3*iqr\n",
    "lower_limit = np.percentile(df['usd_price'],25) - 3*iqr\n",
    "data = df[(df['usd_price']>lower_limit) & (df['usd_price']<upper_limit)]\n",
    "df.shape"
   ]
  },
  {
   "cell_type": "code",
   "execution_count": 12,
   "metadata": {},
   "outputs": [
    {
     "data": {
      "text/plain": [
       "35699.95"
      ]
     },
     "execution_count": 12,
     "metadata": {},
     "output_type": "execute_result"
    }
   ],
   "source": [
    "#checking the disparity between lowest and highest values\n",
    "df['usd_price'].max()-df['usd_price'].min()"
   ]
  },
  {
   "cell_type": "code",
   "execution_count": 13,
   "metadata": {},
   "outputs": [],
   "source": [
    "# manually removing higher priced records since only 4,4% (727 out of 16675) are above USD100\n",
    "#dropping extreme outlier\n",
    "\n",
    "df.drop(df[(df.usd_price > 100)].index, inplace=True)"
   ]
  },
  {
   "cell_type": "code",
   "execution_count": 14,
   "metadata": {},
   "outputs": [
    {
     "data": {
      "text/plain": [
       "(15946, 16)"
      ]
     },
     "execution_count": 14,
     "metadata": {},
     "output_type": "execute_result"
    }
   ],
   "source": [
    "df.shape"
   ]
  },
  {
   "cell_type": "code",
   "execution_count": 15,
   "metadata": {},
   "outputs": [
    {
     "data": {
      "text/plain": [
       "<AxesSubplot:>"
      ]
     },
     "execution_count": 15,
     "metadata": {},
     "output_type": "execute_result"
    },
    {
     "data": {
      "image/png": "[encoded data removed]",
      "text/plain": [
       "<Figure size 432x288 with 1 Axes>"
      ]
     },
     "metadata": {
      "needs_background": "light"
     },
     "output_type": "display_data"
    }
   ],
   "source": [
    "df.usd_price.hist()"
   ]
  },
  {
   "cell_type": "markdown",
   "metadata": {},
   "source": [
    "### Check each feature column for outliers"
   ]
  },
  {
   "cell_type": "code",
   "execution_count": 16,
   "metadata": {},
   "outputs": [
    {
     "data": {
      "image/png": "[encoded data removed]",
      "text/plain": [
       "<Figure size 432x288 with 1 Axes>"
      ]
     },
     "metadata": {
      "needs_background": "light"
     },
     "output_type": "display_data"
    },
    {
     "data": {
      "image/png": "[encoded data removed]",
      "text/plain": [
       "<Figure size 432x288 with 1 Axes>"
      ]
     },
     "metadata": {
      "needs_background": "light"
     },
     "output_type": "display_data"
    },
    {
     "data": {
      "image/png": "[encoded data removed]",
      "text/plain": [
       "<Figure size 432x288 with 1 Axes>"
      ]
     },
     "metadata": {
      "needs_background": "light"
     },
     "output_type": "display_data"
    },
    {
     "data": {
      "image/png": "[encoded data removed]",
      "text/plain": [
       "<Figure size 432x288 with 1 Axes>"
      ]
     },
     "metadata": {
      "needs_background": "light"
     },
     "output_type": "display_data"
    },
    {
     "data": {
      "image/png": "[encoded data removed]",
      "text/plain": [
       "<Figure size 432x288 with 1 Axes>"
      ]
     },
     "metadata": {
      "needs_background": "light"
     },
     "output_type": "display_data"
    },
    {
     "ename": "TypeError",
     "evalue": "Horizontal orientation requires numeric `x` variable.",
     "output_type": "error",
     "traceback": [
      "\u001b[0;31m---------------------------------------------------------------------------\u001b[0m",
      "\u001b[0;31mTypeError\u001b[0m                                 Traceback (most recent call last)",
      "\u001b[0;32m<ipython-input-16-fb98f7f15a4f>\u001b[0m in \u001b[0;36m<module>\u001b[0;34m\u001b[0m\n\u001b[1;32m      1\u001b[0m \u001b[0;32mfor\u001b[0m \u001b[0mval\u001b[0m \u001b[0;32min\u001b[0m \u001b[0mdf\u001b[0m\u001b[0;34m.\u001b[0m\u001b[0mcolumns\u001b[0m\u001b[0;34m:\u001b[0m\u001b[0;34m\u001b[0m\u001b[0;34m\u001b[0m\u001b[0m\n\u001b[0;32m----> 2\u001b[0;31m     \u001b[0msns\u001b[0m\u001b[0;34m.\u001b[0m\u001b[0mboxplot\u001b[0m\u001b[0;34m(\u001b[0m\u001b[0mdf\u001b[0m\u001b[0;34m[\u001b[0m\u001b[0mval\u001b[0m\u001b[0;34m]\u001b[0m\u001b[0;34m)\u001b[0m\u001b[0;34m\u001b[0m\u001b[0;34m\u001b[0m\u001b[0m\n\u001b[0m\u001b[1;32m      3\u001b[0m     \u001b[0mplt\u001b[0m\u001b[0;34m.\u001b[0m\u001b[0mshow\u001b[0m\u001b[0;34m(\u001b[0m\u001b[0;34m)\u001b[0m\u001b[0;34m\u001b[0m\u001b[0;34m\u001b[0m\u001b[0m\n",
      "\u001b[0;32m~/opt/anaconda3/lib/python3.8/site-packages/seaborn/_decorators.py\u001b[0m in \u001b[0;36minner_f\u001b[0;34m(*args, **kwargs)\u001b[0m\n\u001b[1;32m     44\u001b[0m             )\n\u001b[1;32m     45\u001b[0m         \u001b[0mkwargs\u001b[0m\u001b[0;34m.\u001b[0m\u001b[0mupdate\u001b[0m\u001b[0;34m(\u001b[0m\u001b[0;34m{\u001b[0m\u001b[0mk\u001b[0m\u001b[0;34m:\u001b[0m \u001b[0marg\u001b[0m \u001b[0;32mfor\u001b[0m \u001b[0mk\u001b[0m\u001b[0;34m,\u001b[0m \u001b[0marg\u001b[0m \u001b[0;32min\u001b[0m \u001b[0mzip\u001b[0m\u001b[0;34m(\u001b[0m\u001b[0msig\u001b[0m\u001b[0;34m.\u001b[0m\u001b[0mparameters\u001b[0m\u001b[0;34m,\u001b[0m \u001b[0margs\u001b[0m\u001b[0;34m)\u001b[0m\u001b[0;34m}\u001b[0m\u001b[0;34m)\u001b[0m\u001b[0;34m\u001b[0m\u001b[0;34m\u001b[0m\u001b[0m\n\u001b[0;32m---> 46\u001b[0;31m         \u001b[0;32mreturn\u001b[0m \u001b[0mf\u001b[0m\u001b[0;34m(\u001b[0m\u001b[0;34m**\u001b[0m\u001b[0mkwargs\u001b[0m\u001b[0;34m)\u001b[0m\u001b[0;34m\u001b[0m\u001b[0;34m\u001b[0m\u001b[0m\n\u001b[0m\u001b[1;32m     47\u001b[0m     \u001b[0;32mreturn\u001b[0m \u001b[0minner_f\u001b[0m\u001b[0;34m\u001b[0m\u001b[0;34m\u001b[0m\u001b[0m\n\u001b[1;32m     48\u001b[0m \u001b[0;34m\u001b[0m\u001b[0m\n",
      "\u001b[0;32m~/opt/anaconda3/lib/python3.8/site-packages/seaborn/categorical.py\u001b[0m in \u001b[0;36mboxplot\u001b[0;34m(x, y, hue, data, order, hue_order, orient, color, palette, saturation, width, dodge, fliersize, linewidth, whis, ax, **kwargs)\u001b[0m\n\u001b[1;32m   2228\u001b[0m ):\n\u001b[1;32m   2229\u001b[0m \u001b[0;34m\u001b[0m\u001b[0m\n\u001b[0;32m-> 2230\u001b[0;31m     plotter = _BoxPlotter(x, y, hue, data, order, hue_order,\n\u001b[0m\u001b[1;32m   2231\u001b[0m                           \u001b[0morient\u001b[0m\u001b[0;34m,\u001b[0m \u001b[0mcolor\u001b[0m\u001b[0;34m,\u001b[0m \u001b[0mpalette\u001b[0m\u001b[0;34m,\u001b[0m \u001b[0msaturation\u001b[0m\u001b[0;34m,\u001b[0m\u001b[0;34m\u001b[0m\u001b[0;34m\u001b[0m\u001b[0m\n\u001b[1;32m   2232\u001b[0m                           width, dodge, fliersize, linewidth)\n",
      "\u001b[0;32m~/opt/anaconda3/lib/python3.8/site-packages/seaborn/categorical.py\u001b[0m in \u001b[0;36m__init__\u001b[0;34m(self, x, y, hue, data, order, hue_order, orient, color, palette, saturation, width, dodge, fliersize, linewidth)\u001b[0m\n\u001b[1;32m    404\u001b[0m                  width, dodge, fliersize, linewidth):\n\u001b[1;32m    405\u001b[0m \u001b[0;34m\u001b[0m\u001b[0m\n\u001b[0;32m--> 406\u001b[0;31m         \u001b[0mself\u001b[0m\u001b[0;34m.\u001b[0m\u001b[0mestablish_variables\u001b[0m\u001b[0;34m(\u001b[0m\u001b[0mx\u001b[0m\u001b[0;34m,\u001b[0m \u001b[0my\u001b[0m\u001b[0;34m,\u001b[0m \u001b[0mhue\u001b[0m\u001b[0;34m,\u001b[0m \u001b[0mdata\u001b[0m\u001b[0;34m,\u001b[0m \u001b[0morient\u001b[0m\u001b[0;34m,\u001b[0m \u001b[0morder\u001b[0m\u001b[0;34m,\u001b[0m \u001b[0mhue_order\u001b[0m\u001b[0;34m)\u001b[0m\u001b[0;34m\u001b[0m\u001b[0;34m\u001b[0m\u001b[0m\n\u001b[0m\u001b[1;32m    407\u001b[0m         \u001b[0mself\u001b[0m\u001b[0;34m.\u001b[0m\u001b[0mestablish_colors\u001b[0m\u001b[0;34m(\u001b[0m\u001b[0mcolor\u001b[0m\u001b[0;34m,\u001b[0m \u001b[0mpalette\u001b[0m\u001b[0;34m,\u001b[0m \u001b[0msaturation\u001b[0m\u001b[0;34m)\u001b[0m\u001b[0;34m\u001b[0m\u001b[0;34m\u001b[0m\u001b[0m\n\u001b[1;32m    408\u001b[0m \u001b[0;34m\u001b[0m\u001b[0m\n",
      "\u001b[0;32m~/opt/anaconda3/lib/python3.8/site-packages/seaborn/categorical.py\u001b[0m in \u001b[0;36mestablish_variables\u001b[0;34m(self, x, y, hue, data, orient, order, hue_order, units)\u001b[0m\n\u001b[1;32m    154\u001b[0m \u001b[0;34m\u001b[0m\u001b[0m\n\u001b[1;32m    155\u001b[0m             \u001b[0;31m# Figure out the plotting orientation\u001b[0m\u001b[0;34m\u001b[0m\u001b[0;34m\u001b[0m\u001b[0;34m\u001b[0m\u001b[0m\n\u001b[0;32m--> 156\u001b[0;31m             orient = infer_orient(\n\u001b[0m\u001b[1;32m    157\u001b[0m                 \u001b[0mx\u001b[0m\u001b[0;34m,\u001b[0m \u001b[0my\u001b[0m\u001b[0;34m,\u001b[0m \u001b[0morient\u001b[0m\u001b[0;34m,\u001b[0m \u001b[0mrequire_numeric\u001b[0m\u001b[0;34m=\u001b[0m\u001b[0mself\u001b[0m\u001b[0;34m.\u001b[0m\u001b[0mrequire_numeric\u001b[0m\u001b[0;34m\u001b[0m\u001b[0;34m\u001b[0m\u001b[0m\n\u001b[1;32m    158\u001b[0m             )\n",
      "\u001b[0;32m~/opt/anaconda3/lib/python3.8/site-packages/seaborn/_core.py\u001b[0m in \u001b[0;36minfer_orient\u001b[0;34m(x, y, orient, require_numeric)\u001b[0m\n\u001b[1;32m   1303\u001b[0m             \u001b[0mwarnings\u001b[0m\u001b[0;34m.\u001b[0m\u001b[0mwarn\u001b[0m\u001b[0;34m(\u001b[0m\u001b[0msingle_var_warning\u001b[0m\u001b[0;34m.\u001b[0m\u001b[0mformat\u001b[0m\u001b[0;34m(\u001b[0m\u001b[0;34m\"Vertical\"\u001b[0m\u001b[0;34m,\u001b[0m \u001b[0;34m\"x\"\u001b[0m\u001b[0;34m)\u001b[0m\u001b[0;34m)\u001b[0m\u001b[0;34m\u001b[0m\u001b[0;34m\u001b[0m\u001b[0m\n\u001b[1;32m   1304\u001b[0m         \u001b[0;32mif\u001b[0m \u001b[0mrequire_numeric\u001b[0m \u001b[0;32mand\u001b[0m \u001b[0mx_type\u001b[0m \u001b[0;34m!=\u001b[0m \u001b[0;34m\"numeric\"\u001b[0m\u001b[0;34m:\u001b[0m\u001b[0;34m\u001b[0m\u001b[0;34m\u001b[0m\u001b[0m\n\u001b[0;32m-> 1305\u001b[0;31m             \u001b[0;32mraise\u001b[0m \u001b[0mTypeError\u001b[0m\u001b[0;34m(\u001b[0m\u001b[0mnonnumeric_dv_error\u001b[0m\u001b[0;34m.\u001b[0m\u001b[0mformat\u001b[0m\u001b[0;34m(\u001b[0m\u001b[0;34m\"Horizontal\"\u001b[0m\u001b[0;34m,\u001b[0m \u001b[0;34m\"x\"\u001b[0m\u001b[0;34m)\u001b[0m\u001b[0;34m)\u001b[0m\u001b[0;34m\u001b[0m\u001b[0;34m\u001b[0m\u001b[0m\n\u001b[0m\u001b[1;32m   1306\u001b[0m         \u001b[0;32mreturn\u001b[0m \u001b[0;34m\"h\"\u001b[0m\u001b[0;34m\u001b[0m\u001b[0;34m\u001b[0m\u001b[0m\n\u001b[1;32m   1307\u001b[0m \u001b[0;34m\u001b[0m\u001b[0m\n",
      "\u001b[0;31mTypeError\u001b[0m: Horizontal orientation requires numeric `x` variable."
     ]
    }
   ],
   "source": [
    "for val in df.columns:\n",
    "    sns.boxplot(df[val])\n",
    "    plt.show()"
   ]
  },
  {
   "cell_type": "code",
   "execution_count": null,
   "metadata": {},
   "outputs": [],
   "source": [
    "for c in df:\n",
    "    plt.figure(figsize=(10,5))\n",
    "    plt.hist(df[c])\n",
    "    plt.title(c)\n",
    "    plt.show();"
   ]
  },
  {
   "cell_type": "code",
   "execution_count": null,
   "metadata": {},
   "outputs": [],
   "source": [
    "#df[['tracks']].boxplot()\n",
    "df[['no_of_have']].boxplot()\n",
    "#df[['ratings']].boxplot()\n",
    "#df[['no_of_want']].boxplot()\n",
    "\n",
    "\n",
    "plt.show()"
   ]
  },
  {
   "cell_type": "code",
   "execution_count": 17,
   "metadata": {},
   "outputs": [
    {
     "data": {
      "text/plain": [
       "(15946, 16)"
      ]
     },
     "execution_count": 17,
     "metadata": {},
     "output_type": "execute_result"
    }
   ],
   "source": [
    "df.shape"
   ]
  },
  {
   "cell_type": "code",
   "execution_count": 18,
   "metadata": {},
   "outputs": [
    {
     "data": {
      "image/png": "[encoded data removed]",
      "text/plain": [
       "<Figure size 432x288 with 1 Axes>"
      ]
     },
     "metadata": {
      "needs_background": "light"
     },
     "output_type": "display_data"
    }
   ],
   "source": [
    "#df.tracks.hist()\n",
    "#df.no_of_have.hist()\n",
    "#df.ratings.hist()\n",
    "df.no_of_want.hist()\n",
    "\n",
    "\n",
    "plt.show()"
   ]
  },
  {
   "cell_type": "code",
   "execution_count": 19,
   "metadata": {},
   "outputs": [],
   "source": [
    "#manually dropping ratings above 125\n",
    "\n",
    "df.drop(df[(df.tracks > 125)].index, inplace=True)"
   ]
  },
  {
   "cell_type": "code",
   "execution_count": 20,
   "metadata": {},
   "outputs": [],
   "source": [
    "#manually dropping above 7000\n",
    "df.drop(df[(df.ratings > 7000)].index, inplace=True)"
   ]
  },
  {
   "cell_type": "code",
   "execution_count": 21,
   "metadata": {},
   "outputs": [],
   "source": [
    "#manually dropping above 20 000\n",
    "df.drop(df[(df.no_of_have > 20000)].index, inplace=True)"
   ]
  },
  {
   "cell_type": "code",
   "execution_count": 22,
   "metadata": {},
   "outputs": [],
   "source": [
    "#manually dropping ratings above 4000\n",
    "df.drop(df[(df.no_of_want > 4000)].index, inplace=True)"
   ]
  },
  {
   "cell_type": "code",
   "execution_count": 23,
   "metadata": {},
   "outputs": [
    {
     "data": {
      "text/html": [
       "<div>\n",
       "<style scoped>\n",
       "    .dataframe tbody tr th:only-of-type {\n",
       "        vertical-align: middle;\n",
       "    }\n",
       "\n",
       "    .dataframe tbody tr th {\n",
       "        vertical-align: top;\n",
       "    }\n",
       "\n",
       "    .dataframe thead th {\n",
       "        text-align: right;\n",
       "    }\n",
       "</style>\n",
       "<table border=\"1\" class=\"dataframe\">\n",
       "  <thead>\n",
       "    <tr style=\"text-align: right;\">\n",
       "      <th></th>\n",
       "      <th>count</th>\n",
       "      <th>mean</th>\n",
       "      <th>std</th>\n",
       "      <th>min</th>\n",
       "      <th>25%</th>\n",
       "      <th>50%</th>\n",
       "      <th>75%</th>\n",
       "      <th>max</th>\n",
       "      <th>iqr</th>\n",
       "    </tr>\n",
       "  </thead>\n",
       "  <tbody>\n",
       "    <tr>\n",
       "      <th>ratings</th>\n",
       "      <td>10927.0</td>\n",
       "      <td>1387.22</td>\n",
       "      <td>1352.277244</td>\n",
       "      <td>2.00</td>\n",
       "      <td>333.00</td>\n",
       "      <td>797.00</td>\n",
       "      <td>2150.00</td>\n",
       "      <td>6998.0</td>\n",
       "      <td>1817.00</td>\n",
       "    </tr>\n",
       "    <tr>\n",
       "      <th>community_rating</th>\n",
       "      <td>10927.0</td>\n",
       "      <td>4.16</td>\n",
       "      <td>0.544000</td>\n",
       "      <td>1.00</td>\n",
       "      <td>3.94</td>\n",
       "      <td>4.20</td>\n",
       "      <td>4.50</td>\n",
       "      <td>5.0</td>\n",
       "      <td>0.56</td>\n",
       "    </tr>\n",
       "    <tr>\n",
       "      <th>no_of_have</th>\n",
       "      <td>10927.0</td>\n",
       "      <td>302.96</td>\n",
       "      <td>795.561680</td>\n",
       "      <td>1.00</td>\n",
       "      <td>32.00</td>\n",
       "      <td>93.00</td>\n",
       "      <td>262.00</td>\n",
       "      <td>15987.0</td>\n",
       "      <td>230.00</td>\n",
       "    </tr>\n",
       "    <tr>\n",
       "      <th>no_of_want</th>\n",
       "      <td>10927.0</td>\n",
       "      <td>92.96</td>\n",
       "      <td>180.625786</td>\n",
       "      <td>1.00</td>\n",
       "      <td>12.00</td>\n",
       "      <td>35.00</td>\n",
       "      <td>97.00</td>\n",
       "      <td>3022.0</td>\n",
       "      <td>85.00</td>\n",
       "    </tr>\n",
       "    <tr>\n",
       "      <th>ratio_community</th>\n",
       "      <td>10927.0</td>\n",
       "      <td>1.51</td>\n",
       "      <td>7.637441</td>\n",
       "      <td>0.00</td>\n",
       "      <td>0.17</td>\n",
       "      <td>0.35</td>\n",
       "      <td>0.75</td>\n",
       "      <td>97.0</td>\n",
       "      <td>0.58</td>\n",
       "    </tr>\n",
       "    <tr>\n",
       "      <th>av_seller_rating</th>\n",
       "      <td>10927.0</td>\n",
       "      <td>99.45</td>\n",
       "      <td>1.638896</td>\n",
       "      <td>50.00</td>\n",
       "      <td>99.60</td>\n",
       "      <td>100.00</td>\n",
       "      <td>100.00</td>\n",
       "      <td>100.0</td>\n",
       "      <td>0.40</td>\n",
       "    </tr>\n",
       "    <tr>\n",
       "      <th>year</th>\n",
       "      <td>10927.0</td>\n",
       "      <td>1865.88</td>\n",
       "      <td>489.177161</td>\n",
       "      <td>0.00</td>\n",
       "      <td>1979.00</td>\n",
       "      <td>1991.00</td>\n",
       "      <td>2005.00</td>\n",
       "      <td>2021.0</td>\n",
       "      <td>26.00</td>\n",
       "    </tr>\n",
       "    <tr>\n",
       "      <th>record_age</th>\n",
       "      <td>10927.0</td>\n",
       "      <td>25.28</td>\n",
       "      <td>17.088992</td>\n",
       "      <td>0.00</td>\n",
       "      <td>8.00</td>\n",
       "      <td>26.00</td>\n",
       "      <td>39.00</td>\n",
       "      <td>72.0</td>\n",
       "      <td>31.00</td>\n",
       "    </tr>\n",
       "    <tr>\n",
       "      <th>tracks</th>\n",
       "      <td>10927.0</td>\n",
       "      <td>6.85</td>\n",
       "      <td>6.237463</td>\n",
       "      <td>1.00</td>\n",
       "      <td>2.00</td>\n",
       "      <td>5.00</td>\n",
       "      <td>10.00</td>\n",
       "      <td>119.0</td>\n",
       "      <td>8.00</td>\n",
       "    </tr>\n",
       "    <tr>\n",
       "      <th>b_side</th>\n",
       "      <td>10927.0</td>\n",
       "      <td>0.69</td>\n",
       "      <td>0.460902</td>\n",
       "      <td>0.00</td>\n",
       "      <td>0.00</td>\n",
       "      <td>1.00</td>\n",
       "      <td>1.00</td>\n",
       "      <td>1.0</td>\n",
       "      <td>1.00</td>\n",
       "    </tr>\n",
       "    <tr>\n",
       "      <th>usd_price</th>\n",
       "      <td>10927.0</td>\n",
       "      <td>19.44</td>\n",
       "      <td>19.353151</td>\n",
       "      <td>0.05</td>\n",
       "      <td>5.00</td>\n",
       "      <td>12.49</td>\n",
       "      <td>27.78</td>\n",
       "      <td>100.0</td>\n",
       "      <td>22.78</td>\n",
       "    </tr>\n",
       "  </tbody>\n",
       "</table>\n",
       "</div>"
      ],
      "text/plain": [
       "                    count     mean          std    min      25%      50%  \\\n",
       "ratings           10927.0  1387.22  1352.277244   2.00   333.00   797.00   \n",
       "community_rating  10927.0     4.16     0.544000   1.00     3.94     4.20   \n",
       "no_of_have        10927.0   302.96   795.561680   1.00    32.00    93.00   \n",
       "no_of_want        10927.0    92.96   180.625786   1.00    12.00    35.00   \n",
       "ratio_community   10927.0     1.51     7.637441   0.00     0.17     0.35   \n",
       "av_seller_rating  10927.0    99.45     1.638896  50.00    99.60   100.00   \n",
       "year              10927.0  1865.88   489.177161   0.00  1979.00  1991.00   \n",
       "record_age        10927.0    25.28    17.088992   0.00     8.00    26.00   \n",
       "tracks            10927.0     6.85     6.237463   1.00     2.00     5.00   \n",
       "b_side            10927.0     0.69     0.460902   0.00     0.00     1.00   \n",
       "usd_price         10927.0    19.44    19.353151   0.05     5.00    12.49   \n",
       "\n",
       "                      75%      max      iqr  \n",
       "ratings           2150.00   6998.0  1817.00  \n",
       "community_rating     4.50      5.0     0.56  \n",
       "no_of_have         262.00  15987.0   230.00  \n",
       "no_of_want          97.00   3022.0    85.00  \n",
       "ratio_community      0.75     97.0     0.58  \n",
       "av_seller_rating   100.00    100.0     0.40  \n",
       "year              2005.00   2021.0    26.00  \n",
       "record_age          39.00     72.0    31.00  \n",
       "tracks              10.00    119.0     8.00  \n",
       "b_side               1.00      1.0     1.00  \n",
       "usd_price           27.78    100.0    22.78  "
      ]
     },
     "execution_count": 23,
     "metadata": {},
     "output_type": "execute_result"
    }
   ],
   "source": [
    "summary = df.describe().T\n",
    "summary['iqr'] = summary['75%']-summary['25%']\n",
    "summary['mean'] = list(map(lambda x: round(x,2), summary['mean']))#round it to 2 decimal places\n",
    "summary"
   ]
  },
  {
   "cell_type": "code",
   "execution_count": 24,
   "metadata": {},
   "outputs": [
    {
     "data": {
      "text/plain": [
       "(10927, 16)"
      ]
     },
     "execution_count": 24,
     "metadata": {},
     "output_type": "execute_result"
    }
   ],
   "source": [
    "df.shape"
   ]
  },
  {
   "cell_type": "markdown",
   "metadata": {},
   "source": [
    "# Preprocessing data for machine learning algorithm"
   ]
  },
  {
   "cell_type": "markdown",
   "metadata": {},
   "source": [
    "### Adjusting feature values"
   ]
  },
  {
   "cell_type": "code",
   "execution_count": 25,
   "metadata": {},
   "outputs": [
    {
     "data": {
      "text/plain": [
       "1         9795\n",
       "2          977\n",
       "3           77\n",
       "4           26\n",
       "BoxSet      19\n",
       "Other        9\n",
       "5            9\n",
       "6            8\n",
       "10           4\n",
       "9            1\n",
       "8            1\n",
       "7            1\n",
       "Name: no_of_records, dtype: int64"
      ]
     },
     "execution_count": 25,
     "metadata": {},
     "output_type": "execute_result"
    }
   ],
   "source": [
    "df['no_of_records'].value_counts()"
   ]
  },
  {
   "cell_type": "code",
   "execution_count": 26,
   "metadata": {},
   "outputs": [],
   "source": [
    "#in order to make this all numerical column, I have decided to impute BoxSet with most popular numerical value that represents multiple vinyls\n",
    "df['no_of_records'] = df['no_of_records'].replace('BoxSet',2)\n",
    "\n",
    "#in order to make this all numerical column, I have decided to impute Other with most popular numerical value overall\n",
    "df['no_of_records'] = df['no_of_records'].replace('Other',1)"
   ]
  },
  {
   "cell_type": "code",
   "execution_count": 27,
   "metadata": {},
   "outputs": [],
   "source": [
    "#changing it into numerical column\n",
    "df['no_of_records'] = df['no_of_records'].astype(int)"
   ]
  },
  {
   "cell_type": "code",
   "execution_count": 28,
   "metadata": {},
   "outputs": [
    {
     "name": "stdout",
     "output_type": "stream",
     "text": [
      "<class 'pandas.core.frame.DataFrame'>\n",
      "Int64Index: 10927 entries, 0 to 16674\n",
      "Data columns (total 16 columns):\n",
      " #   Column            Non-Null Count  Dtype  \n",
      "---  ------            --------------  -----  \n",
      " 0   ratings           10927 non-null  int64  \n",
      " 1   community_rating  10927 non-null  float64\n",
      " 2   no_of_have        10927 non-null  int64  \n",
      " 3   no_of_want        10927 non-null  int64  \n",
      " 4   ratio_community   10927 non-null  float64\n",
      " 5   record_condition  10927 non-null  object \n",
      " 6   sleeve_condition  10740 non-null  object \n",
      " 7   av_seller_rating  10927 non-null  float64\n",
      " 8   year              10927 non-null  int64  \n",
      " 9   record_age        10927 non-null  int64  \n",
      " 10  genre             10927 non-null  object \n",
      " 11  tracks            10927 non-null  int64  \n",
      " 12  b_side            10927 non-null  int64  \n",
      " 13  no_of_records     10927 non-null  int64  \n",
      " 14  format_           10927 non-null  object \n",
      " 15  usd_price         10927 non-null  float64\n",
      "dtypes: float64(4), int64(8), object(4)\n",
      "memory usage: 3.9 MB\n"
     ]
    }
   ],
   "source": [
    "df.info(memory_usage='deep')"
   ]
  },
  {
   "cell_type": "code",
   "execution_count": 29,
   "metadata": {},
   "outputs": [
    {
     "data": {
      "text/plain": [
       "1     9804\n",
       "2      996\n",
       "3       77\n",
       "4       26\n",
       "5        9\n",
       "6        8\n",
       "10       4\n",
       "7        1\n",
       "9        1\n",
       "8        1\n",
       "Name: no_of_records, dtype: int64"
      ]
     },
     "execution_count": 29,
     "metadata": {},
     "output_type": "execute_result"
    }
   ],
   "source": [
    "df['no_of_records'].value_counts()"
   ]
  },
  {
   "cell_type": "code",
   "execution_count": 30,
   "metadata": {},
   "outputs": [],
   "source": [
    "#drop values that are not occurring often\n",
    "df.drop(df[(df.no_of_records > 6)].index, inplace=True)"
   ]
  },
  {
   "cell_type": "code",
   "execution_count": 31,
   "metadata": {},
   "outputs": [
    {
     "data": {
      "text/plain": [
       "(10920, 16)"
      ]
     },
     "execution_count": 31,
     "metadata": {},
     "output_type": "execute_result"
    }
   ],
   "source": [
    "df.shape"
   ]
  },
  {
   "cell_type": "markdown",
   "metadata": {},
   "source": [
    "### From cleaning section, some categorical values were not cleaned from NaNs to allow to do this now"
   ]
  },
  {
   "cell_type": "code",
   "execution_count": 32,
   "metadata": {},
   "outputs": [
    {
     "data": {
      "text/plain": [
       "['sleeve_condition']"
      ]
     },
     "execution_count": 32,
     "metadata": {},
     "output_type": "execute_result"
    }
   ],
   "source": [
    "# Check for null values\n",
    "[col for col, val in df.isnull().any().items() if val]"
   ]
  },
  {
   "cell_type": "code",
   "execution_count": 33,
   "metadata": {},
   "outputs": [
    {
     "data": {
      "text/plain": [
       "Very Good Plus (VG+)    3801\n",
       "Near Mint (NM or M-)    2248\n",
       "Mint (M)                1695\n",
       "Generic                 1437\n",
       "Very Good (VG)          1106\n",
       "Good Plus (G+)           194\n",
       "Poor (P)                  83\n",
       "Good (G)                  70\n",
       "No Cover                  66\n",
       "Fair (F)                  33\n",
       "Name: sleeve_condition, dtype: int64"
      ]
     },
     "execution_count": 33,
     "metadata": {},
     "output_type": "execute_result"
    }
   ],
   "source": [
    "df['sleeve_condition'].value_counts()"
   ]
  },
  {
   "cell_type": "code",
   "execution_count": 34,
   "metadata": {},
   "outputs": [],
   "source": [
    "#fill empty values with most common values\n",
    "df['sleeve_condition'] = df['sleeve_condition'].replace(np.nan,'Very Good Plus (VG+)')"
   ]
  },
  {
   "cell_type": "code",
   "execution_count": 35,
   "metadata": {},
   "outputs": [
    {
     "data": {
      "text/plain": [
       "(10920, 16)"
      ]
     },
     "execution_count": 35,
     "metadata": {},
     "output_type": "execute_result"
    }
   ],
   "source": [
    "df.shape"
   ]
  },
  {
   "cell_type": "markdown",
   "metadata": {},
   "source": [
    "# Separate data into numeric and categorical"
   ]
  },
  {
   "cell_type": "code",
   "execution_count": 36,
   "metadata": {},
   "outputs": [],
   "source": [
    "x_cat = df.select_dtypes(np.object)\n",
    "x_num = df.select_dtypes(np.number)"
   ]
  },
  {
   "cell_type": "code",
   "execution_count": 37,
   "metadata": {},
   "outputs": [],
   "source": [
    "# moving b_side over to categorical data as it is binary \n",
    "x_cat['b_side'] = x_num['b_side'].astype(object)"
   ]
  },
  {
   "cell_type": "code",
   "execution_count": 38,
   "metadata": {},
   "outputs": [],
   "source": [
    "x_num.drop(['b_side'], axis=1, inplace=True)"
   ]
  },
  {
   "cell_type": "code",
   "execution_count": 39,
   "metadata": {},
   "outputs": [
    {
     "data": {
      "text/html": [
       "<div>\n",
       "<style scoped>\n",
       "    .dataframe tbody tr th:only-of-type {\n",
       "        vertical-align: middle;\n",
       "    }\n",
       "\n",
       "    .dataframe tbody tr th {\n",
       "        vertical-align: top;\n",
       "    }\n",
       "\n",
       "    .dataframe thead th {\n",
       "        text-align: right;\n",
       "    }\n",
       "</style>\n",
       "<table border=\"1\" class=\"dataframe\">\n",
       "  <thead>\n",
       "    <tr style=\"text-align: right;\">\n",
       "      <th></th>\n",
       "      <th>record_condition</th>\n",
       "      <th>sleeve_condition</th>\n",
       "      <th>genre</th>\n",
       "      <th>format_</th>\n",
       "      <th>b_side</th>\n",
       "    </tr>\n",
       "  </thead>\n",
       "  <tbody>\n",
       "    <tr>\n",
       "      <th>0</th>\n",
       "      <td>Very Good (VG)</td>\n",
       "      <td>Generic</td>\n",
       "      <td>Electronic</td>\n",
       "      <td>Other</td>\n",
       "      <td>1</td>\n",
       "    </tr>\n",
       "    <tr>\n",
       "      <th>1</th>\n",
       "      <td>Near Mint (NM or M-)</td>\n",
       "      <td>Very Good Plus (VG+)</td>\n",
       "      <td>Electronic</td>\n",
       "      <td>LP</td>\n",
       "      <td>1</td>\n",
       "    </tr>\n",
       "    <tr>\n",
       "      <th>2</th>\n",
       "      <td>Mint (M)</td>\n",
       "      <td>Mint (M)</td>\n",
       "      <td>Electronic</td>\n",
       "      <td>7\"</td>\n",
       "      <td>0</td>\n",
       "    </tr>\n",
       "    <tr>\n",
       "      <th>3</th>\n",
       "      <td>Very Good Plus (VG+)</td>\n",
       "      <td>Near Mint (NM or M-)</td>\n",
       "      <td>Electronic</td>\n",
       "      <td>Other</td>\n",
       "      <td>0</td>\n",
       "    </tr>\n",
       "    <tr>\n",
       "      <th>4</th>\n",
       "      <td>Mint (M)</td>\n",
       "      <td>Generic</td>\n",
       "      <td>Electronic</td>\n",
       "      <td>12\"</td>\n",
       "      <td>1</td>\n",
       "    </tr>\n",
       "  </tbody>\n",
       "</table>\n",
       "</div>"
      ],
      "text/plain": [
       "       record_condition      sleeve_condition       genre format_ b_side\n",
       "0        Very Good (VG)               Generic  Electronic   Other      1\n",
       "1  Near Mint (NM or M-)  Very Good Plus (VG+)  Electronic      LP      1\n",
       "2              Mint (M)              Mint (M)  Electronic      7\"      0\n",
       "3  Very Good Plus (VG+)  Near Mint (NM or M-)  Electronic   Other      0\n",
       "4              Mint (M)               Generic  Electronic     12\"      1"
      ]
     },
     "execution_count": 39,
     "metadata": {},
     "output_type": "execute_result"
    }
   ],
   "source": [
    "x_cat.head()"
   ]
  },
  {
   "cell_type": "code",
   "execution_count": 40,
   "metadata": {},
   "outputs": [
    {
     "data": {
      "text/html": [
       "<div>\n",
       "<style scoped>\n",
       "    .dataframe tbody tr th:only-of-type {\n",
       "        vertical-align: middle;\n",
       "    }\n",
       "\n",
       "    .dataframe tbody tr th {\n",
       "        vertical-align: top;\n",
       "    }\n",
       "\n",
       "    .dataframe thead th {\n",
       "        text-align: right;\n",
       "    }\n",
       "</style>\n",
       "<table border=\"1\" class=\"dataframe\">\n",
       "  <thead>\n",
       "    <tr style=\"text-align: right;\">\n",
       "      <th></th>\n",
       "      <th>ratings</th>\n",
       "      <th>community_rating</th>\n",
       "      <th>no_of_have</th>\n",
       "      <th>no_of_want</th>\n",
       "      <th>ratio_community</th>\n",
       "      <th>av_seller_rating</th>\n",
       "      <th>year</th>\n",
       "      <th>record_age</th>\n",
       "      <th>tracks</th>\n",
       "      <th>no_of_records</th>\n",
       "      <th>usd_price</th>\n",
       "    </tr>\n",
       "  </thead>\n",
       "  <tbody>\n",
       "    <tr>\n",
       "      <th>0</th>\n",
       "      <td>1992</td>\n",
       "      <td>4.17</td>\n",
       "      <td>327</td>\n",
       "      <td>100</td>\n",
       "      <td>0.31</td>\n",
       "      <td>99.8</td>\n",
       "      <td>2004</td>\n",
       "      <td>17</td>\n",
       "      <td>5</td>\n",
       "      <td>2</td>\n",
       "      <td>8.92</td>\n",
       "    </tr>\n",
       "    <tr>\n",
       "      <th>1</th>\n",
       "      <td>1776</td>\n",
       "      <td>4.67</td>\n",
       "      <td>19</td>\n",
       "      <td>32</td>\n",
       "      <td>1.68</td>\n",
       "      <td>100.0</td>\n",
       "      <td>1996</td>\n",
       "      <td>25</td>\n",
       "      <td>9</td>\n",
       "      <td>1</td>\n",
       "      <td>80.77</td>\n",
       "    </tr>\n",
       "    <tr>\n",
       "      <th>2</th>\n",
       "      <td>33</td>\n",
       "      <td>4.00</td>\n",
       "      <td>32</td>\n",
       "      <td>25</td>\n",
       "      <td>0.78</td>\n",
       "      <td>100.0</td>\n",
       "      <td>2018</td>\n",
       "      <td>3</td>\n",
       "      <td>2</td>\n",
       "      <td>1</td>\n",
       "      <td>83.18</td>\n",
       "    </tr>\n",
       "    <tr>\n",
       "      <th>3</th>\n",
       "      <td>438</td>\n",
       "      <td>4.34</td>\n",
       "      <td>540</td>\n",
       "      <td>185</td>\n",
       "      <td>0.34</td>\n",
       "      <td>100.0</td>\n",
       "      <td>2000</td>\n",
       "      <td>21</td>\n",
       "      <td>4</td>\n",
       "      <td>2</td>\n",
       "      <td>11.89</td>\n",
       "    </tr>\n",
       "    <tr>\n",
       "      <th>4</th>\n",
       "      <td>545</td>\n",
       "      <td>3.80</td>\n",
       "      <td>39</td>\n",
       "      <td>15</td>\n",
       "      <td>0.38</td>\n",
       "      <td>99.8</td>\n",
       "      <td>1998</td>\n",
       "      <td>23</td>\n",
       "      <td>1</td>\n",
       "      <td>1</td>\n",
       "      <td>2.08</td>\n",
       "    </tr>\n",
       "  </tbody>\n",
       "</table>\n",
       "</div>"
      ],
      "text/plain": [
       "   ratings  community_rating  no_of_have  no_of_want  ratio_community  \\\n",
       "0     1992              4.17         327         100             0.31   \n",
       "1     1776              4.67          19          32             1.68   \n",
       "2       33              4.00          32          25             0.78   \n",
       "3      438              4.34         540         185             0.34   \n",
       "4      545              3.80          39          15             0.38   \n",
       "\n",
       "   av_seller_rating  year  record_age  tracks  no_of_records  usd_price  \n",
       "0              99.8  2004          17       5              2       8.92  \n",
       "1             100.0  1996          25       9              1      80.77  \n",
       "2             100.0  2018           3       2              1      83.18  \n",
       "3             100.0  2000          21       4              2      11.89  \n",
       "4              99.8  1998          23       1              1       2.08  "
      ]
     },
     "execution_count": 40,
     "metadata": {},
     "output_type": "execute_result"
    }
   ],
   "source": [
    "x_num.head()"
   ]
  },
  {
   "cell_type": "markdown",
   "metadata": {},
   "source": [
    "# Check for correlation between features"
   ]
  },
  {
   "cell_type": "code",
   "execution_count": 41,
   "metadata": {},
   "outputs": [
    {
     "data": {
      "text/plain": [
       "usd_price           1.000000\n",
       "community_rating    0.301739\n",
       "no_of_want          0.284613\n",
       "tracks              0.232648\n",
       "no_of_records       0.144997\n",
       "b_side              0.131615\n",
       "no_of_have          0.078258\n",
       "av_seller_rating    0.069969\n",
       "ratings             0.050166\n",
       "ratio_community     0.047234\n",
       "year                0.027344\n",
       "record_age         -0.160470\n",
       "Name: usd_price, dtype: float64"
      ]
     },
     "execution_count": 41,
     "metadata": {},
     "output_type": "execute_result"
    }
   ],
   "source": [
    "#list correlation between usd_price vs other features to see which features have highest impact on the price\n",
    "df.corr()['usd_price'].sort_values(ascending=False)"
   ]
  },
  {
   "cell_type": "markdown",
   "metadata": {},
   "source": [
    "TAKEAWAYS: \n",
    "-It seems that no_of_want has highest impact on usd_price\n",
    "- there is negative correlation between the age of the record and its price, meaning records get more expensive as they age"
   ]
  },
  {
   "cell_type": "code",
   "execution_count": 42,
   "metadata": {},
   "outputs": [
    {
     "data": {
      "image/png": "[encoded data removed]",
      "text/plain": [
       "<Figure size 864x864 with 1 Axes>"
      ]
     },
     "metadata": {
      "needs_background": "light"
     },
     "output_type": "display_data"
    }
   ],
   "source": [
    "# Correlation viewed related to asking price\n",
    "corr_series = (df.corr()[[\"usd_price\"]]\n",
    "               .sort_values(by=\"usd_price\", ascending=False))\n",
    "names = [\n",
    "'no_of_want',\n",
    "'tracks',\n",
    "'community_rating',\n",
    "'b_side',\n",
    "'no_of_records',\n",
    "'no_of_have',\n",
    "'ratio_community',\n",
    "'ratings',\n",
    "'av_seller_rating',\n",
    "'year',\n",
    "'record_age']\n",
    "\n",
    "fig, ax = plt.subplots(figsize=(12, 12))\n",
    "heatmap = sns.heatmap(corr_series[1:12], \n",
    "                      vmin=-.5, \n",
    "                      vmax=1, \n",
    "                      annot=True, \n",
    "                      cmap='RdYlGn', \n",
    "                      cbar=False, \n",
    "                      xticklabels=False, \n",
    "                      yticklabels=names[:12],\n",
    "                      annot_kws={'fontsize':14, \n",
    "                                 'weight': 'bold'} \n",
    "                     )\n",
    "heatmap.set_title(\"Feature correlation to vinyl price\", \n",
    "                  fontdict={'fontsize':14}, \n",
    "                  pad=16);"
   ]
  },
  {
   "cell_type": "markdown",
   "metadata": {},
   "source": [
    "## Heatmap for entire dataset"
   ]
  },
  {
   "cell_type": "code",
   "execution_count": 43,
   "metadata": {},
   "outputs": [
    {
     "data": {
      "image/png": "[encoded data removed]",
      "text/plain": [
       "<Figure size 1440x1080 with 2 Axes>"
      ]
     },
     "metadata": {
      "needs_background": "light"
     },
     "output_type": "display_data"
    }
   ],
   "source": [
    "correlations_matrix = df.corr()\n",
    "mask = np.zeros_like(correlations_matrix)\n",
    "mask[np.triu_indices_from(mask)] = True\n",
    "fig, ax = plt.subplots(figsize=(20, 15))\n",
    "ax = sns.heatmap(correlations_matrix, mask=mask, annot=True)\n",
    "plt.show()"
   ]
  },
  {
   "cell_type": "markdown",
   "metadata": {},
   "source": [
    "TAKEAWAYS: \n",
    "- no_of_have & no_of_want have a high correlation with each other. The indication that a record is more desirable also means it is more expensive\n",
    "- tracks is correlated with no_of_records and b_side, which is understandable as they have a relationship between each other\n",
    "- based on this will not drop any further columns"
   ]
  },
  {
   "cell_type": "markdown",
   "metadata": {},
   "source": [
    "## Exploring Numerical columns"
   ]
  },
  {
   "cell_type": "markdown",
   "metadata": {},
   "source": [
    "### Distribution Plots"
   ]
  },
  {
   "cell_type": "markdown",
   "metadata": {},
   "source": [
    "#### Show actual distribution and potential log transformation distribution side-by-side"
   ]
  },
  {
   "cell_type": "code",
   "execution_count": 44,
   "metadata": {},
   "outputs": [],
   "source": [
    "def distribution_plot(data,column):\n",
    "    power = PowerTransformer(method='yeo-johnson', standardize=True)\n",
    "    data_trans = power.fit_transform(data[column].values.reshape(-1,1))\n",
    "    data_trans = [item[0] for item in data_trans]\n",
    "    data_log = data[column].apply(lambda x: np.log(x) if(x>0) else x)  ## Fix this function to not get infs \n",
    "    fig, (ax1, ax2) = plt.subplots(1, 2, figsize = (15,4))\n",
    "   \n",
    "    sns.distplot(data[column], ax=ax1)\n",
    "    ax1.set_title('Actual Distribution')\n",
    "    sns.distplot(data_log, ax=ax2)\n",
    "    ax2.set_title('Log Transformation')\n",
    "\n",
    "    plt.show()"
   ]
  },
  {
   "cell_type": "code",
   "execution_count": 45,
   "metadata": {},
   "outputs": [
    {
     "data": {
      "image/png": "[encoded data removed]",
      "text/plain": [
       "<Figure size 1080x288 with 2 Axes>"
      ]
     },
     "metadata": {
      "needs_background": "light"
     },
     "output_type": "display_data"
    },
    {
     "data": {
      "image/png": "[encoded data removed]",
      "text/plain": [
       "<Figure size 1080x288 with 2 Axes>"
      ]
     },
     "metadata": {
      "needs_background": "light"
     },
     "output_type": "display_data"
    },
    {
     "data": {
      "image/png": "[encoded data removed]",
      "text/plain": [
       "<Figure size 1080x288 with 2 Axes>"
      ]
     },
     "metadata": {
      "needs_background": "light"
     },
     "output_type": "display_data"
    },
    {
     "data": {
      "image/png": "[encoded data removed]",
      "text/plain": [
       "<Figure size 1080x288 with 2 Axes>"
      ]
     },
     "metadata": {
      "needs_background": "light"
     },
     "output_type": "display_data"
    },
    {
     "data": {
      "image/png": "[encoded data removed]",
      "text/plain": [
       "<Figure size 1080x288 with 2 Axes>"
      ]
     },
     "metadata": {
      "needs_background": "light"
     },
     "output_type": "display_data"
    },
    {
     "data": {
      "image/png": "[encoded data removed]",
      "text/plain": [
       "<Figure size 1080x288 with 2 Axes>"
      ]
     },
     "metadata": {
      "needs_background": "light"
     },
     "output_type": "display_data"
    },
    {
     "data": {
      "image/png": "[encoded data removed]",
      "text/plain": [
       "<Figure size 1080x288 with 2 Axes>"
      ]
     },
     "metadata": {
      "needs_background": "light"
     },
     "output_type": "display_data"
    },
    {
     "data": {
      "image/png": "[encoded data removed]",
      "text/plain": [
       "<Figure size 1080x288 with 2 Axes>"
      ]
     },
     "metadata": {
      "needs_background": "light"
     },
     "output_type": "display_data"
    },
    {
     "data": {
      "image/png": "[encoded data removed]",
      "text/plain": [
       "<Figure size 1080x288 with 2 Axes>"
      ]
     },
     "metadata": {
      "needs_background": "light"
     },
     "output_type": "display_data"
    },
    {
     "data": {
      "image/png": "[encoded data removed]",
      "text/plain": [
       "<Figure size 1080x288 with 2 Axes>"
      ]
     },
     "metadata": {
      "needs_background": "light"
     },
     "output_type": "display_data"
    },
    {
     "data": {
      "image/png": "[encoded data removed]",
      "text/plain": [
       "<Figure size 1080x288 with 2 Axes>"
      ]
     },
     "metadata": {
      "needs_background": "light"
     },
     "output_type": "display_data"
    }
   ],
   "source": [
    "for val in x_num.columns:\n",
    "    distribution_plot(x_num,val)"
   ]
  },
  {
   "cell_type": "code",
   "execution_count": 46,
   "metadata": {},
   "outputs": [],
   "source": [
    "apply_log = ['no_of_have', 'no_of_have','ratio_community','record_age','tracks']"
   ]
  },
  {
   "cell_type": "code",
   "execution_count": 47,
   "metadata": {},
   "outputs": [
    {
     "data": {
      "image/png": "[encoded data removed]",
      "text/plain": [
       "<Figure size 360x360 with 1 Axes>"
      ]
     },
     "metadata": {
      "needs_background": "light"
     },
     "output_type": "display_data"
    },
    {
     "data": {
      "image/png": "[encoded data removed]",
      "text/plain": [
       "<Figure size 360x360 with 1 Axes>"
      ]
     },
     "metadata": {
      "needs_background": "light"
     },
     "output_type": "display_data"
    },
    {
     "data": {
      "image/png": "[encoded data removed]",
      "text/plain": [
       "<Figure size 360x360 with 1 Axes>"
      ]
     },
     "metadata": {
      "needs_background": "light"
     },
     "output_type": "display_data"
    },
    {
     "data": {
      "image/png": "[encoded data removed]",
      "text/plain": [
       "<Figure size 360x360 with 1 Axes>"
      ]
     },
     "metadata": {
      "needs_background": "light"
     },
     "output_type": "display_data"
    },
    {
     "data": {
      "image/png": "[encoded data removed]",
      "text/plain": [
       "<Figure size 360x360 with 1 Axes>"
      ]
     },
     "metadata": {
      "needs_background": "light"
     },
     "output_type": "display_data"
    }
   ],
   "source": [
    "for column in apply_log:\n",
    "    x_num[column] = x_num[column].apply(lambda x: np.log(x) if(x>0) else x)\n",
    "    sns.displot(x_num[column])"
   ]
  },
  {
   "cell_type": "code",
   "execution_count": 48,
   "metadata": {},
   "outputs": [
    {
     "data": {
      "image/png": "[encoded data removed]",
      "text/plain": [
       "<Figure size 432x288 with 1 Axes>"
      ]
     },
     "metadata": {
      "needs_background": "light"
     },
     "output_type": "display_data"
    },
    {
     "data": {
      "image/png": "[encoded data removed]",
      "text/plain": [
       "<Figure size 432x288 with 1 Axes>"
      ]
     },
     "metadata": {
      "needs_background": "light"
     },
     "output_type": "display_data"
    },
    {
     "data": {
      "image/png": "[encoded data removed]",
      "text/plain": [
       "<Figure size 432x288 with 1 Axes>"
      ]
     },
     "metadata": {
      "needs_background": "light"
     },
     "output_type": "display_data"
    },
    {
     "data": {
      "image/png": "[encoded data removed]",
      "text/plain": [
       "<Figure size 432x288 with 1 Axes>"
      ]
     },
     "metadata": {
      "needs_background": "light"
     },
     "output_type": "display_data"
    },
    {
     "data": {
      "image/png": "[encoded data removed]",
      "text/plain": [
       "<Figure size 432x288 with 1 Axes>"
      ]
     },
     "metadata": {
      "needs_background": "light"
     },
     "output_type": "display_data"
    },
    {
     "data": {
      "image/png": "[encoded data removed]",
      "text/plain": [
       "<Figure size 432x288 with 1 Axes>"
      ]
     },
     "metadata": {
      "needs_background": "light"
     },
     "output_type": "display_data"
    },
    {
     "data": {
      "image/png": "[encoded data removed]",
      "text/plain": [
       "<Figure size 432x288 with 1 Axes>"
      ]
     },
     "metadata": {
      "needs_background": "light"
     },
     "output_type": "display_data"
    },
    {
     "data": {
      "image/png": "[encoded data removed]",
      "text/plain": [
       "<Figure size 432x288 with 1 Axes>"
      ]
     },
     "metadata": {
      "needs_background": "light"
     },
     "output_type": "display_data"
    },
    {
     "data": {
      "image/png": "[encoded data removed]",
      "text/plain": [
       "<Figure size 432x288 with 1 Axes>"
      ]
     },
     "metadata": {
      "needs_background": "light"
     },
     "output_type": "display_data"
    },
    {
     "data": {
      "image/png": "[encoded data removed]",
      "text/plain": [
       "<Figure size 432x288 with 1 Axes>"
      ]
     },
     "metadata": {
      "needs_background": "light"
     },
     "output_type": "display_data"
    },
    {
     "data": {
      "image/png": "[encoded data removed]",
      "text/plain": [
       "<Figure size 432x288 with 1 Axes>"
      ]
     },
     "metadata": {
      "needs_background": "light"
     },
     "output_type": "display_data"
    }
   ],
   "source": [
    "#check for outliers and how the log transformer worked\n",
    "for val in x_num.columns:\n",
    "    sns.boxplot(x_num[val])\n",
    "    plt.show()"
   ]
  },
  {
   "cell_type": "code",
   "execution_count": 49,
   "metadata": {},
   "outputs": [],
   "source": [
    "def my_heatMap(data, columns):\n",
    "    correlations_matrix = data[columns].corr()\n",
    "    mask = np.zeros_like(correlations_matrix)\n",
    "    mask[np.triu_indices_from(mask)] = True\n",
    "    fig, ax = plt.subplots(figsize=(25, 10))\n",
    "    ax = sns.heatmap(correlations_matrix, mask=mask, annot=True)\n",
    "    plt.show()"
   ]
  },
  {
   "cell_type": "code",
   "execution_count": 50,
   "metadata": {},
   "outputs": [
    {
     "data": {
      "image/png": "[encoded data removed]",
      "text/plain": [
       "<Figure size 1800x720 with 2 Axes>"
      ]
     },
     "metadata": {
      "needs_background": "light"
     },
     "output_type": "display_data"
    }
   ],
   "source": [
    "my_heatMap(x_num,x_num.columns)"
   ]
  },
  {
   "cell_type": "markdown",
   "metadata": {},
   "source": [
    "# Working on categorical columns"
   ]
  },
  {
   "cell_type": "code",
   "execution_count": 56,
   "metadata": {},
   "outputs": [
    {
     "data": {
      "image/png": "[encoded data removed]",
      "text/plain": [
       "<Figure size 720x360 with 1 Axes>"
      ]
     },
     "metadata": {
      "needs_background": "light"
     },
     "output_type": "display_data"
    },
    {
     "data": {
      "image/png": "[encoded data removed]",
      "text/plain": [
       "<Figure size 720x360 with 1 Axes>"
      ]
     },
     "metadata": {
      "needs_background": "light"
     },
     "output_type": "display_data"
    },
    {
     "data": {
      "image/png": "[encoded data removed]",
      "text/plain": [
       "<Figure size 720x360 with 1 Axes>"
      ]
     },
     "metadata": {
      "needs_background": "light"
     },
     "output_type": "display_data"
    },
    {
     "data": {
      "image/png": "[encoded data removed]",
      "text/plain": [
       "<Figure size 720x360 with 1 Axes>"
      ]
     },
     "metadata": {
      "needs_background": "light"
     },
     "output_type": "display_data"
    },
    {
     "data": {
      "image/png": "[encoded data removed]",
      "text/plain": [
       "<Figure size 720x360 with 1 Axes>"
      ]
     },
     "metadata": {
      "needs_background": "light"
     },
     "output_type": "display_data"
    },
    {
     "ename": "KeyError",
     "evalue": "'record_condition_encoded'",
     "output_type": "error",
     "traceback": [
      "\u001b[0;31m---------------------------------------------------------------------------\u001b[0m",
      "\u001b[0;31mKeyError\u001b[0m                                  Traceback (most recent call last)",
      "\u001b[0;32m~/opt/anaconda3/lib/python3.8/site-packages/pandas/core/indexes/base.py\u001b[0m in \u001b[0;36mget_loc\u001b[0;34m(self, key, method, tolerance)\u001b[0m\n\u001b[1;32m   2894\u001b[0m             \u001b[0;32mtry\u001b[0m\u001b[0;34m:\u001b[0m\u001b[0;34m\u001b[0m\u001b[0;34m\u001b[0m\u001b[0m\n\u001b[0;32m-> 2895\u001b[0;31m                 \u001b[0;32mreturn\u001b[0m \u001b[0mself\u001b[0m\u001b[0;34m.\u001b[0m\u001b[0m_engine\u001b[0m\u001b[0;34m.\u001b[0m\u001b[0mget_loc\u001b[0m\u001b[0;34m(\u001b[0m\u001b[0mcasted_key\u001b[0m\u001b[0;34m)\u001b[0m\u001b[0;34m\u001b[0m\u001b[0;34m\u001b[0m\u001b[0m\n\u001b[0m\u001b[1;32m   2896\u001b[0m             \u001b[0;32mexcept\u001b[0m \u001b[0mKeyError\u001b[0m \u001b[0;32mas\u001b[0m \u001b[0merr\u001b[0m\u001b[0;34m:\u001b[0m\u001b[0;34m\u001b[0m\u001b[0;34m\u001b[0m\u001b[0m\n",
      "\u001b[0;32mpandas/_libs/index.pyx\u001b[0m in \u001b[0;36mpandas._libs.index.IndexEngine.get_loc\u001b[0;34m()\u001b[0m\n",
      "\u001b[0;32mpandas/_libs/index.pyx\u001b[0m in \u001b[0;36mpandas._libs.index.IndexEngine.get_loc\u001b[0;34m()\u001b[0m\n",
      "\u001b[0;32mpandas/_libs/hashtable_class_helper.pxi\u001b[0m in \u001b[0;36mpandas._libs.hashtable.PyObjectHashTable.get_item\u001b[0;34m()\u001b[0m\n",
      "\u001b[0;32mpandas/_libs/hashtable_class_helper.pxi\u001b[0m in \u001b[0;36mpandas._libs.hashtable.PyObjectHashTable.get_item\u001b[0;34m()\u001b[0m\n",
      "\u001b[0;31mKeyError\u001b[0m: 'record_condition_encoded'",
      "\nThe above exception was the direct cause of the following exception:\n",
      "\u001b[0;31mKeyError\u001b[0m                                  Traceback (most recent call last)",
      "\u001b[0;32m<ipython-input-56-6fc1fbfb1c36>\u001b[0m in \u001b[0;36m<module>\u001b[0;34m\u001b[0m\n\u001b[1;32m      1\u001b[0m \u001b[0;32mfor\u001b[0m \u001b[0mc\u001b[0m \u001b[0;32min\u001b[0m \u001b[0mx_cat\u001b[0m\u001b[0;34m:\u001b[0m\u001b[0;34m\u001b[0m\u001b[0;34m\u001b[0m\u001b[0m\n\u001b[1;32m      2\u001b[0m     \u001b[0mplt\u001b[0m\u001b[0;34m.\u001b[0m\u001b[0mfigure\u001b[0m\u001b[0;34m(\u001b[0m\u001b[0mfigsize\u001b[0m\u001b[0;34m=\u001b[0m\u001b[0;34m(\u001b[0m\u001b[0;36m10\u001b[0m\u001b[0;34m,\u001b[0m\u001b[0;36m5\u001b[0m\u001b[0;34m)\u001b[0m\u001b[0;34m)\u001b[0m\u001b[0;34m\u001b[0m\u001b[0;34m\u001b[0m\u001b[0m\n\u001b[0;32m----> 3\u001b[0;31m     \u001b[0mplt\u001b[0m\u001b[0;34m.\u001b[0m\u001b[0mbar\u001b[0m\u001b[0;34m(\u001b[0m\u001b[0mdf\u001b[0m\u001b[0;34m[\u001b[0m\u001b[0mc\u001b[0m\u001b[0;34m]\u001b[0m\u001b[0;34m.\u001b[0m\u001b[0munique\u001b[0m\u001b[0;34m(\u001b[0m\u001b[0;34m)\u001b[0m\u001b[0;34m,\u001b[0m \u001b[0mdf\u001b[0m\u001b[0;34m[\u001b[0m\u001b[0mc\u001b[0m\u001b[0;34m]\u001b[0m\u001b[0;34m.\u001b[0m\u001b[0mvalue_counts\u001b[0m\u001b[0;34m(\u001b[0m\u001b[0;34m)\u001b[0m\u001b[0;34m)\u001b[0m\u001b[0;34m\u001b[0m\u001b[0;34m\u001b[0m\u001b[0m\n\u001b[0m\u001b[1;32m      4\u001b[0m     \u001b[0mplt\u001b[0m\u001b[0;34m.\u001b[0m\u001b[0mtitle\u001b[0m\u001b[0;34m(\u001b[0m\u001b[0mc\u001b[0m\u001b[0;34m)\u001b[0m\u001b[0;34m\u001b[0m\u001b[0;34m\u001b[0m\u001b[0m\n\u001b[1;32m      5\u001b[0m     \u001b[0mplt\u001b[0m\u001b[0;34m.\u001b[0m\u001b[0mshow\u001b[0m\u001b[0;34m(\u001b[0m\u001b[0;34m)\u001b[0m\u001b[0;34m;\u001b[0m\u001b[0;34m\u001b[0m\u001b[0;34m\u001b[0m\u001b[0m\n",
      "\u001b[0;32m~/opt/anaconda3/lib/python3.8/site-packages/pandas/core/frame.py\u001b[0m in \u001b[0;36m__getitem__\u001b[0;34m(self, key)\u001b[0m\n\u001b[1;32m   2900\u001b[0m             \u001b[0;32mif\u001b[0m \u001b[0mself\u001b[0m\u001b[0;34m.\u001b[0m\u001b[0mcolumns\u001b[0m\u001b[0;34m.\u001b[0m\u001b[0mnlevels\u001b[0m \u001b[0;34m>\u001b[0m \u001b[0;36m1\u001b[0m\u001b[0;34m:\u001b[0m\u001b[0;34m\u001b[0m\u001b[0;34m\u001b[0m\u001b[0m\n\u001b[1;32m   2901\u001b[0m                 \u001b[0;32mreturn\u001b[0m \u001b[0mself\u001b[0m\u001b[0;34m.\u001b[0m\u001b[0m_getitem_multilevel\u001b[0m\u001b[0;34m(\u001b[0m\u001b[0mkey\u001b[0m\u001b[0;34m)\u001b[0m\u001b[0;34m\u001b[0m\u001b[0;34m\u001b[0m\u001b[0m\n\u001b[0;32m-> 2902\u001b[0;31m             \u001b[0mindexer\u001b[0m \u001b[0;34m=\u001b[0m \u001b[0mself\u001b[0m\u001b[0;34m.\u001b[0m\u001b[0mcolumns\u001b[0m\u001b[0;34m.\u001b[0m\u001b[0mget_loc\u001b[0m\u001b[0;34m(\u001b[0m\u001b[0mkey\u001b[0m\u001b[0;34m)\u001b[0m\u001b[0;34m\u001b[0m\u001b[0;34m\u001b[0m\u001b[0m\n\u001b[0m\u001b[1;32m   2903\u001b[0m             \u001b[0;32mif\u001b[0m \u001b[0mis_integer\u001b[0m\u001b[0;34m(\u001b[0m\u001b[0mindexer\u001b[0m\u001b[0;34m)\u001b[0m\u001b[0;34m:\u001b[0m\u001b[0;34m\u001b[0m\u001b[0;34m\u001b[0m\u001b[0m\n\u001b[1;32m   2904\u001b[0m                 \u001b[0mindexer\u001b[0m \u001b[0;34m=\u001b[0m \u001b[0;34m[\u001b[0m\u001b[0mindexer\u001b[0m\u001b[0;34m]\u001b[0m\u001b[0;34m\u001b[0m\u001b[0;34m\u001b[0m\u001b[0m\n",
      "\u001b[0;32m~/opt/anaconda3/lib/python3.8/site-packages/pandas/core/indexes/base.py\u001b[0m in \u001b[0;36mget_loc\u001b[0;34m(self, key, method, tolerance)\u001b[0m\n\u001b[1;32m   2895\u001b[0m                 \u001b[0;32mreturn\u001b[0m \u001b[0mself\u001b[0m\u001b[0;34m.\u001b[0m\u001b[0m_engine\u001b[0m\u001b[0;34m.\u001b[0m\u001b[0mget_loc\u001b[0m\u001b[0;34m(\u001b[0m\u001b[0mcasted_key\u001b[0m\u001b[0;34m)\u001b[0m\u001b[0;34m\u001b[0m\u001b[0;34m\u001b[0m\u001b[0m\n\u001b[1;32m   2896\u001b[0m             \u001b[0;32mexcept\u001b[0m \u001b[0mKeyError\u001b[0m \u001b[0;32mas\u001b[0m \u001b[0merr\u001b[0m\u001b[0;34m:\u001b[0m\u001b[0;34m\u001b[0m\u001b[0;34m\u001b[0m\u001b[0m\n\u001b[0;32m-> 2897\u001b[0;31m                 \u001b[0;32mraise\u001b[0m \u001b[0mKeyError\u001b[0m\u001b[0;34m(\u001b[0m\u001b[0mkey\u001b[0m\u001b[0;34m)\u001b[0m \u001b[0;32mfrom\u001b[0m \u001b[0merr\u001b[0m\u001b[0;34m\u001b[0m\u001b[0;34m\u001b[0m\u001b[0m\n\u001b[0m\u001b[1;32m   2898\u001b[0m \u001b[0;34m\u001b[0m\u001b[0m\n\u001b[1;32m   2899\u001b[0m         \u001b[0;32mif\u001b[0m \u001b[0mtolerance\u001b[0m \u001b[0;32mis\u001b[0m \u001b[0;32mnot\u001b[0m \u001b[0;32mNone\u001b[0m\u001b[0;34m:\u001b[0m\u001b[0;34m\u001b[0m\u001b[0;34m\u001b[0m\u001b[0m\n",
      "\u001b[0;31mKeyError\u001b[0m: 'record_condition_encoded'"
     ]
    },
    {
     "data": {
      "text/plain": [
       "<Figure size 720x360 with 0 Axes>"
      ]
     },
     "metadata": {},
     "output_type": "display_data"
    }
   ],
   "source": [
    "for c in x_cat:\n",
    "    plt.figure(figsize=(10,5))\n",
    "    plt.bar(df[c].unique(), df[c].value_counts())\n",
    "    plt.title(c)\n",
    "    plt.show();"
   ]
  },
  {
   "cell_type": "code",
   "execution_count": null,
   "metadata": {},
   "outputs": [],
   "source": [
    "x_cat['record_condition_encoded'] = x_cat['record_condition'].map({'Poor (P)':0, \n",
    "                                                                'Fair (F)':1, \n",
    "                                                                'Good (G)':2,\n",
    "                                                                'Good Plus (G+)':3,\n",
    "                                                                'Very Good (VG)':4,\n",
    "                                                                'Very Good Plus (VG+)':5,\n",
    "                                                                'Near Mint (NM or M-)':6,\n",
    "                                                                'Mint (M)':7\n",
    "                                                               })\n",
    "x_cat['record_condition_encoded'].value_counts()"
   ]
  },
  {
   "cell_type": "code",
   "execution_count": null,
   "metadata": {},
   "outputs": [],
   "source": [
    "x_cat['sleeve_condition_encoded'] = x_cat['sleeve_condition'].map({'No Cover':0,\n",
    "                                                                'Generic':1,\n",
    "                                                                'Poor (P)':2, \n",
    "                                                                'Fair (F)':3, \n",
    "                                                                'Good (G)':4, \n",
    "                                                                'Good Plus (G+)':5,\n",
    "                                                                'Very Good (VG)':6,\n",
    "                                                                'Very Good Plus (VG+)':7,\n",
    "                                                                'Near Mint (NM or M-)':8,\n",
    "                                                                'Mint (M)':9\n",
    "                                                               })\n",
    "x_cat['sleeve_condition_encoded'].value_counts()"
   ]
  },
  {
   "cell_type": "code",
   "execution_count": 57,
   "metadata": {
    "scrolled": true
   },
   "outputs": [
    {
     "data": {
      "text/plain": [
       "record_condition            0\n",
       "sleeve_condition            0\n",
       "genre                       0\n",
       "format_                     0\n",
       "b_side                      0\n",
       "record_condition_encoded    0\n",
       "sleeve_condition_encoded    0\n",
       "dtype: int64"
      ]
     },
     "execution_count": 57,
     "metadata": {},
     "output_type": "execute_result"
    }
   ],
   "source": [
    "#check if encoding worked\n",
    "x_cat.isna().sum()"
   ]
  },
  {
   "cell_type": "code",
   "execution_count": 58,
   "metadata": {},
   "outputs": [
    {
     "data": {
      "text/html": [
       "<div>\n",
       "<style scoped>\n",
       "    .dataframe tbody tr th:only-of-type {\n",
       "        vertical-align: middle;\n",
       "    }\n",
       "\n",
       "    .dataframe tbody tr th {\n",
       "        vertical-align: top;\n",
       "    }\n",
       "\n",
       "    .dataframe thead th {\n",
       "        text-align: right;\n",
       "    }\n",
       "</style>\n",
       "<table border=\"1\" class=\"dataframe\">\n",
       "  <thead>\n",
       "    <tr style=\"text-align: right;\">\n",
       "      <th></th>\n",
       "      <th>record_condition</th>\n",
       "      <th>sleeve_condition</th>\n",
       "      <th>genre</th>\n",
       "      <th>format_</th>\n",
       "      <th>b_side</th>\n",
       "      <th>record_condition_encoded</th>\n",
       "      <th>sleeve_condition_encoded</th>\n",
       "    </tr>\n",
       "  </thead>\n",
       "  <tbody>\n",
       "    <tr>\n",
       "      <th>0</th>\n",
       "      <td>Very Good (VG)</td>\n",
       "      <td>Generic</td>\n",
       "      <td>Electronic</td>\n",
       "      <td>Other</td>\n",
       "      <td>1</td>\n",
       "      <td>4</td>\n",
       "      <td>1</td>\n",
       "    </tr>\n",
       "    <tr>\n",
       "      <th>1</th>\n",
       "      <td>Near Mint (NM or M-)</td>\n",
       "      <td>Very Good Plus (VG+)</td>\n",
       "      <td>Electronic</td>\n",
       "      <td>LP</td>\n",
       "      <td>1</td>\n",
       "      <td>6</td>\n",
       "      <td>7</td>\n",
       "    </tr>\n",
       "    <tr>\n",
       "      <th>2</th>\n",
       "      <td>Mint (M)</td>\n",
       "      <td>Mint (M)</td>\n",
       "      <td>Electronic</td>\n",
       "      <td>7\"</td>\n",
       "      <td>0</td>\n",
       "      <td>7</td>\n",
       "      <td>9</td>\n",
       "    </tr>\n",
       "    <tr>\n",
       "      <th>3</th>\n",
       "      <td>Very Good Plus (VG+)</td>\n",
       "      <td>Near Mint (NM or M-)</td>\n",
       "      <td>Electronic</td>\n",
       "      <td>Other</td>\n",
       "      <td>0</td>\n",
       "      <td>5</td>\n",
       "      <td>8</td>\n",
       "    </tr>\n",
       "    <tr>\n",
       "      <th>4</th>\n",
       "      <td>Mint (M)</td>\n",
       "      <td>Generic</td>\n",
       "      <td>Electronic</td>\n",
       "      <td>12\"</td>\n",
       "      <td>1</td>\n",
       "      <td>7</td>\n",
       "      <td>1</td>\n",
       "    </tr>\n",
       "  </tbody>\n",
       "</table>\n",
       "</div>"
      ],
      "text/plain": [
       "       record_condition      sleeve_condition       genre format_ b_side  \\\n",
       "0        Very Good (VG)               Generic  Electronic   Other      1   \n",
       "1  Near Mint (NM or M-)  Very Good Plus (VG+)  Electronic      LP      1   \n",
       "2              Mint (M)              Mint (M)  Electronic      7\"      0   \n",
       "3  Very Good Plus (VG+)  Near Mint (NM or M-)  Electronic   Other      0   \n",
       "4              Mint (M)               Generic  Electronic     12\"      1   \n",
       "\n",
       "   record_condition_encoded  sleeve_condition_encoded  \n",
       "0                         4                         1  \n",
       "1                         6                         7  \n",
       "2                         7                         9  \n",
       "3                         5                         8  \n",
       "4                         7                         1  "
      ]
     },
     "execution_count": 58,
     "metadata": {},
     "output_type": "execute_result"
    }
   ],
   "source": [
    "x_cat.head()"
   ]
  },
  {
   "cell_type": "code",
   "execution_count": 59,
   "metadata": {},
   "outputs": [],
   "source": [
    "#drop the original not encoded columns and assign the rest to a new variable before using OneHotEncoder\n",
    "x_cat.drop(['record_condition','sleeve_condition'], axis=1, inplace=True)"
   ]
  },
  {
   "cell_type": "code",
   "execution_count": 60,
   "metadata": {},
   "outputs": [
    {
     "data": {
      "text/html": [
       "<div>\n",
       "<style scoped>\n",
       "    .dataframe tbody tr th:only-of-type {\n",
       "        vertical-align: middle;\n",
       "    }\n",
       "\n",
       "    .dataframe tbody tr th {\n",
       "        vertical-align: top;\n",
       "    }\n",
       "\n",
       "    .dataframe thead th {\n",
       "        text-align: right;\n",
       "    }\n",
       "</style>\n",
       "<table border=\"1\" class=\"dataframe\">\n",
       "  <thead>\n",
       "    <tr style=\"text-align: right;\">\n",
       "      <th></th>\n",
       "      <th>genre</th>\n",
       "      <th>format_</th>\n",
       "      <th>b_side</th>\n",
       "      <th>record_condition_encoded</th>\n",
       "      <th>sleeve_condition_encoded</th>\n",
       "    </tr>\n",
       "  </thead>\n",
       "  <tbody>\n",
       "    <tr>\n",
       "      <th>0</th>\n",
       "      <td>Electronic</td>\n",
       "      <td>Other</td>\n",
       "      <td>1</td>\n",
       "      <td>4</td>\n",
       "      <td>1</td>\n",
       "    </tr>\n",
       "    <tr>\n",
       "      <th>1</th>\n",
       "      <td>Electronic</td>\n",
       "      <td>LP</td>\n",
       "      <td>1</td>\n",
       "      <td>6</td>\n",
       "      <td>7</td>\n",
       "    </tr>\n",
       "    <tr>\n",
       "      <th>2</th>\n",
       "      <td>Electronic</td>\n",
       "      <td>7\"</td>\n",
       "      <td>0</td>\n",
       "      <td>7</td>\n",
       "      <td>9</td>\n",
       "    </tr>\n",
       "    <tr>\n",
       "      <th>3</th>\n",
       "      <td>Electronic</td>\n",
       "      <td>Other</td>\n",
       "      <td>0</td>\n",
       "      <td>5</td>\n",
       "      <td>8</td>\n",
       "    </tr>\n",
       "    <tr>\n",
       "      <th>4</th>\n",
       "      <td>Electronic</td>\n",
       "      <td>12\"</td>\n",
       "      <td>1</td>\n",
       "      <td>7</td>\n",
       "      <td>1</td>\n",
       "    </tr>\n",
       "    <tr>\n",
       "      <th>...</th>\n",
       "      <td>...</td>\n",
       "      <td>...</td>\n",
       "      <td>...</td>\n",
       "      <td>...</td>\n",
       "      <td>...</td>\n",
       "    </tr>\n",
       "    <tr>\n",
       "      <th>16670</th>\n",
       "      <td>Rock</td>\n",
       "      <td>7\"</td>\n",
       "      <td>0</td>\n",
       "      <td>5</td>\n",
       "      <td>6</td>\n",
       "    </tr>\n",
       "    <tr>\n",
       "      <th>16671</th>\n",
       "      <td>Electronic</td>\n",
       "      <td>LP</td>\n",
       "      <td>1</td>\n",
       "      <td>5</td>\n",
       "      <td>7</td>\n",
       "    </tr>\n",
       "    <tr>\n",
       "      <th>16672</th>\n",
       "      <td>Electronic</td>\n",
       "      <td>12\"</td>\n",
       "      <td>0</td>\n",
       "      <td>6</td>\n",
       "      <td>8</td>\n",
       "    </tr>\n",
       "    <tr>\n",
       "      <th>16673</th>\n",
       "      <td>Classical</td>\n",
       "      <td>Other</td>\n",
       "      <td>1</td>\n",
       "      <td>6</td>\n",
       "      <td>8</td>\n",
       "    </tr>\n",
       "    <tr>\n",
       "      <th>16674</th>\n",
       "      <td>Rock</td>\n",
       "      <td>7\"</td>\n",
       "      <td>0</td>\n",
       "      <td>6</td>\n",
       "      <td>8</td>\n",
       "    </tr>\n",
       "  </tbody>\n",
       "</table>\n",
       "<p>10920 rows × 5 columns</p>\n",
       "</div>"
      ],
      "text/plain": [
       "            genre format_ b_side  record_condition_encoded  \\\n",
       "0      Electronic   Other      1                         4   \n",
       "1      Electronic      LP      1                         6   \n",
       "2      Electronic      7\"      0                         7   \n",
       "3      Electronic   Other      0                         5   \n",
       "4      Electronic     12\"      1                         7   \n",
       "...           ...     ...    ...                       ...   \n",
       "16670        Rock      7\"      0                         5   \n",
       "16671  Electronic      LP      1                         5   \n",
       "16672  Electronic     12\"      0                         6   \n",
       "16673   Classical   Other      1                         6   \n",
       "16674        Rock      7\"      0                         6   \n",
       "\n",
       "       sleeve_condition_encoded  \n",
       "0                             1  \n",
       "1                             7  \n",
       "2                             9  \n",
       "3                             8  \n",
       "4                             1  \n",
       "...                         ...  \n",
       "16670                         6  \n",
       "16671                         7  \n",
       "16672                         8  \n",
       "16673                         8  \n",
       "16674                         8  \n",
       "\n",
       "[10920 rows x 5 columns]"
      ]
     },
     "execution_count": 60,
     "metadata": {},
     "output_type": "execute_result"
    }
   ],
   "source": [
    "x_cat"
   ]
  },
  {
   "cell_type": "code",
   "execution_count": 61,
   "metadata": {},
   "outputs": [],
   "source": [
    "x_cat_copy = x_cat[['genre','format_']]"
   ]
  },
  {
   "cell_type": "code",
   "execution_count": 62,
   "metadata": {},
   "outputs": [],
   "source": [
    "x_cat.drop(['genre','format_'], axis=1, inplace=True)"
   ]
  },
  {
   "cell_type": "code",
   "execution_count": 63,
   "metadata": {},
   "outputs": [
    {
     "data": {
      "text/html": [
       "<div>\n",
       "<style scoped>\n",
       "    .dataframe tbody tr th:only-of-type {\n",
       "        vertical-align: middle;\n",
       "    }\n",
       "\n",
       "    .dataframe tbody tr th {\n",
       "        vertical-align: top;\n",
       "    }\n",
       "\n",
       "    .dataframe thead th {\n",
       "        text-align: right;\n",
       "    }\n",
       "</style>\n",
       "<table border=\"1\" class=\"dataframe\">\n",
       "  <thead>\n",
       "    <tr style=\"text-align: right;\">\n",
       "      <th></th>\n",
       "      <th>b_side</th>\n",
       "      <th>record_condition_encoded</th>\n",
       "      <th>sleeve_condition_encoded</th>\n",
       "    </tr>\n",
       "  </thead>\n",
       "  <tbody>\n",
       "    <tr>\n",
       "      <th>0</th>\n",
       "      <td>1</td>\n",
       "      <td>4</td>\n",
       "      <td>1</td>\n",
       "    </tr>\n",
       "    <tr>\n",
       "      <th>1</th>\n",
       "      <td>1</td>\n",
       "      <td>6</td>\n",
       "      <td>7</td>\n",
       "    </tr>\n",
       "    <tr>\n",
       "      <th>2</th>\n",
       "      <td>0</td>\n",
       "      <td>7</td>\n",
       "      <td>9</td>\n",
       "    </tr>\n",
       "    <tr>\n",
       "      <th>3</th>\n",
       "      <td>0</td>\n",
       "      <td>5</td>\n",
       "      <td>8</td>\n",
       "    </tr>\n",
       "    <tr>\n",
       "      <th>4</th>\n",
       "      <td>1</td>\n",
       "      <td>7</td>\n",
       "      <td>1</td>\n",
       "    </tr>\n",
       "    <tr>\n",
       "      <th>...</th>\n",
       "      <td>...</td>\n",
       "      <td>...</td>\n",
       "      <td>...</td>\n",
       "    </tr>\n",
       "    <tr>\n",
       "      <th>16670</th>\n",
       "      <td>0</td>\n",
       "      <td>5</td>\n",
       "      <td>6</td>\n",
       "    </tr>\n",
       "    <tr>\n",
       "      <th>16671</th>\n",
       "      <td>1</td>\n",
       "      <td>5</td>\n",
       "      <td>7</td>\n",
       "    </tr>\n",
       "    <tr>\n",
       "      <th>16672</th>\n",
       "      <td>0</td>\n",
       "      <td>6</td>\n",
       "      <td>8</td>\n",
       "    </tr>\n",
       "    <tr>\n",
       "      <th>16673</th>\n",
       "      <td>1</td>\n",
       "      <td>6</td>\n",
       "      <td>8</td>\n",
       "    </tr>\n",
       "    <tr>\n",
       "      <th>16674</th>\n",
       "      <td>0</td>\n",
       "      <td>6</td>\n",
       "      <td>8</td>\n",
       "    </tr>\n",
       "  </tbody>\n",
       "</table>\n",
       "<p>10920 rows × 3 columns</p>\n",
       "</div>"
      ],
      "text/plain": [
       "      b_side  record_condition_encoded  sleeve_condition_encoded\n",
       "0          1                         4                         1\n",
       "1          1                         6                         7\n",
       "2          0                         7                         9\n",
       "3          0                         5                         8\n",
       "4          1                         7                         1\n",
       "...      ...                       ...                       ...\n",
       "16670      0                         5                         6\n",
       "16671      1                         5                         7\n",
       "16672      0                         6                         8\n",
       "16673      1                         6                         8\n",
       "16674      0                         6                         8\n",
       "\n",
       "[10920 rows x 3 columns]"
      ]
     },
     "execution_count": 63,
     "metadata": {},
     "output_type": "execute_result"
    }
   ],
   "source": [
    "#only ordinal encoded categorical\n",
    "x_cat"
   ]
  },
  {
   "cell_type": "code",
   "execution_count": 64,
   "metadata": {},
   "outputs": [
    {
     "data": {
      "text/html": [
       "<div>\n",
       "<style scoped>\n",
       "    .dataframe tbody tr th:only-of-type {\n",
       "        vertical-align: middle;\n",
       "    }\n",
       "\n",
       "    .dataframe tbody tr th {\n",
       "        vertical-align: top;\n",
       "    }\n",
       "\n",
       "    .dataframe thead th {\n",
       "        text-align: right;\n",
       "    }\n",
       "</style>\n",
       "<table border=\"1\" class=\"dataframe\">\n",
       "  <thead>\n",
       "    <tr style=\"text-align: right;\">\n",
       "      <th></th>\n",
       "      <th>genre</th>\n",
       "      <th>format_</th>\n",
       "    </tr>\n",
       "  </thead>\n",
       "  <tbody>\n",
       "    <tr>\n",
       "      <th>0</th>\n",
       "      <td>Electronic</td>\n",
       "      <td>Other</td>\n",
       "    </tr>\n",
       "    <tr>\n",
       "      <th>1</th>\n",
       "      <td>Electronic</td>\n",
       "      <td>LP</td>\n",
       "    </tr>\n",
       "    <tr>\n",
       "      <th>2</th>\n",
       "      <td>Electronic</td>\n",
       "      <td>7\"</td>\n",
       "    </tr>\n",
       "    <tr>\n",
       "      <th>3</th>\n",
       "      <td>Electronic</td>\n",
       "      <td>Other</td>\n",
       "    </tr>\n",
       "    <tr>\n",
       "      <th>4</th>\n",
       "      <td>Electronic</td>\n",
       "      <td>12\"</td>\n",
       "    </tr>\n",
       "    <tr>\n",
       "      <th>...</th>\n",
       "      <td>...</td>\n",
       "      <td>...</td>\n",
       "    </tr>\n",
       "    <tr>\n",
       "      <th>16670</th>\n",
       "      <td>Rock</td>\n",
       "      <td>7\"</td>\n",
       "    </tr>\n",
       "    <tr>\n",
       "      <th>16671</th>\n",
       "      <td>Electronic</td>\n",
       "      <td>LP</td>\n",
       "    </tr>\n",
       "    <tr>\n",
       "      <th>16672</th>\n",
       "      <td>Electronic</td>\n",
       "      <td>12\"</td>\n",
       "    </tr>\n",
       "    <tr>\n",
       "      <th>16673</th>\n",
       "      <td>Classical</td>\n",
       "      <td>Other</td>\n",
       "    </tr>\n",
       "    <tr>\n",
       "      <th>16674</th>\n",
       "      <td>Rock</td>\n",
       "      <td>7\"</td>\n",
       "    </tr>\n",
       "  </tbody>\n",
       "</table>\n",
       "<p>10920 rows × 2 columns</p>\n",
       "</div>"
      ],
      "text/plain": [
       "            genre format_\n",
       "0      Electronic   Other\n",
       "1      Electronic      LP\n",
       "2      Electronic      7\"\n",
       "3      Electronic   Other\n",
       "4      Electronic     12\"\n",
       "...           ...     ...\n",
       "16670        Rock      7\"\n",
       "16671  Electronic      LP\n",
       "16672  Electronic     12\"\n",
       "16673   Classical   Other\n",
       "16674        Rock      7\"\n",
       "\n",
       "[10920 rows x 2 columns]"
      ]
     },
     "execution_count": 64,
     "metadata": {},
     "output_type": "execute_result"
    }
   ],
   "source": [
    "# categoricals to put through OneHotEncoder\n",
    "x_cat_copy"
   ]
  },
  {
   "cell_type": "code",
   "execution_count": 65,
   "metadata": {},
   "outputs": [],
   "source": [
    "#scaling ordinal encoded values\n",
    "\n",
    "scaler = preprocessing.StandardScaler().fit(x_cat)\n",
    "ordinal_encoded_scaled = scaler.transform(x_cat)\n",
    "ordinal_encoded_scaled = pd.DataFrame(ordinal_encoded_scaled)"
   ]
  },
  {
   "cell_type": "code",
   "execution_count": 66,
   "metadata": {},
   "outputs": [
    {
     "data": {
      "text/html": [
       "<div>\n",
       "<style scoped>\n",
       "    .dataframe tbody tr th:only-of-type {\n",
       "        vertical-align: middle;\n",
       "    }\n",
       "\n",
       "    .dataframe tbody tr th {\n",
       "        vertical-align: top;\n",
       "    }\n",
       "\n",
       "    .dataframe thead th {\n",
       "        text-align: right;\n",
       "    }\n",
       "</style>\n",
       "<table border=\"1\" class=\"dataframe\">\n",
       "  <thead>\n",
       "    <tr style=\"text-align: right;\">\n",
       "      <th></th>\n",
       "      <th>0</th>\n",
       "      <th>1</th>\n",
       "      <th>2</th>\n",
       "    </tr>\n",
       "  </thead>\n",
       "  <tbody>\n",
       "    <tr>\n",
       "      <th>0</th>\n",
       "      <td>0.664088</td>\n",
       "      <td>-1.615285</td>\n",
       "      <td>-2.226051</td>\n",
       "    </tr>\n",
       "    <tr>\n",
       "      <th>1</th>\n",
       "      <td>0.664088</td>\n",
       "      <td>0.366838</td>\n",
       "      <td>0.211989</td>\n",
       "    </tr>\n",
       "    <tr>\n",
       "      <th>2</th>\n",
       "      <td>-1.505824</td>\n",
       "      <td>1.357899</td>\n",
       "      <td>1.024669</td>\n",
       "    </tr>\n",
       "    <tr>\n",
       "      <th>3</th>\n",
       "      <td>-1.505824</td>\n",
       "      <td>-0.624223</td>\n",
       "      <td>0.618329</td>\n",
       "    </tr>\n",
       "    <tr>\n",
       "      <th>4</th>\n",
       "      <td>0.664088</td>\n",
       "      <td>1.357899</td>\n",
       "      <td>-2.226051</td>\n",
       "    </tr>\n",
       "    <tr>\n",
       "      <th>...</th>\n",
       "      <td>...</td>\n",
       "      <td>...</td>\n",
       "      <td>...</td>\n",
       "    </tr>\n",
       "    <tr>\n",
       "      <th>10915</th>\n",
       "      <td>-1.505824</td>\n",
       "      <td>-0.624223</td>\n",
       "      <td>-0.194351</td>\n",
       "    </tr>\n",
       "    <tr>\n",
       "      <th>10916</th>\n",
       "      <td>0.664088</td>\n",
       "      <td>-0.624223</td>\n",
       "      <td>0.211989</td>\n",
       "    </tr>\n",
       "    <tr>\n",
       "      <th>10917</th>\n",
       "      <td>-1.505824</td>\n",
       "      <td>0.366838</td>\n",
       "      <td>0.618329</td>\n",
       "    </tr>\n",
       "    <tr>\n",
       "      <th>10918</th>\n",
       "      <td>0.664088</td>\n",
       "      <td>0.366838</td>\n",
       "      <td>0.618329</td>\n",
       "    </tr>\n",
       "    <tr>\n",
       "      <th>10919</th>\n",
       "      <td>-1.505824</td>\n",
       "      <td>0.366838</td>\n",
       "      <td>0.618329</td>\n",
       "    </tr>\n",
       "  </tbody>\n",
       "</table>\n",
       "<p>10920 rows × 3 columns</p>\n",
       "</div>"
      ],
      "text/plain": [
       "              0         1         2\n",
       "0      0.664088 -1.615285 -2.226051\n",
       "1      0.664088  0.366838  0.211989\n",
       "2     -1.505824  1.357899  1.024669\n",
       "3     -1.505824 -0.624223  0.618329\n",
       "4      0.664088  1.357899 -2.226051\n",
       "...         ...       ...       ...\n",
       "10915 -1.505824 -0.624223 -0.194351\n",
       "10916  0.664088 -0.624223  0.211989\n",
       "10917 -1.505824  0.366838  0.618329\n",
       "10918  0.664088  0.366838  0.618329\n",
       "10919 -1.505824  0.366838  0.618329\n",
       "\n",
       "[10920 rows x 3 columns]"
      ]
     },
     "execution_count": 66,
     "metadata": {},
     "output_type": "execute_result"
    }
   ],
   "source": [
    "ordinal_encoded_scaled"
   ]
  },
  {
   "cell_type": "markdown",
   "metadata": {},
   "source": [
    "### Applying OneHotEncoder on the rest of categorical features"
   ]
  },
  {
   "cell_type": "code",
   "execution_count": 67,
   "metadata": {},
   "outputs": [],
   "source": [
    "from sklearn.preprocessing import OneHotEncoder\n",
    "\n",
    "encoder = OneHotEncoder(handle_unknown='error', drop='first')\n",
    "encoded_df = pd.DataFrame(encoder.fit_transform(x_cat_copy).toarray())"
   ]
  },
  {
   "cell_type": "code",
   "execution_count": 68,
   "metadata": {},
   "outputs": [
    {
     "data": {
      "text/html": [
       "<div>\n",
       "<style scoped>\n",
       "    .dataframe tbody tr th:only-of-type {\n",
       "        vertical-align: middle;\n",
       "    }\n",
       "\n",
       "    .dataframe tbody tr th {\n",
       "        vertical-align: top;\n",
       "    }\n",
       "\n",
       "    .dataframe thead th {\n",
       "        text-align: right;\n",
       "    }\n",
       "</style>\n",
       "<table border=\"1\" class=\"dataframe\">\n",
       "  <thead>\n",
       "    <tr style=\"text-align: right;\">\n",
       "      <th></th>\n",
       "      <th>0</th>\n",
       "      <th>1</th>\n",
       "      <th>2</th>\n",
       "      <th>3</th>\n",
       "      <th>4</th>\n",
       "      <th>5</th>\n",
       "      <th>6</th>\n",
       "      <th>7</th>\n",
       "      <th>8</th>\n",
       "      <th>9</th>\n",
       "      <th>10</th>\n",
       "      <th>11</th>\n",
       "      <th>12</th>\n",
       "      <th>13</th>\n",
       "      <th>14</th>\n",
       "      <th>15</th>\n",
       "      <th>16</th>\n",
       "      <th>17</th>\n",
       "      <th>18</th>\n",
       "      <th>19</th>\n",
       "      <th>20</th>\n",
       "    </tr>\n",
       "  </thead>\n",
       "  <tbody>\n",
       "    <tr>\n",
       "      <th>0</th>\n",
       "      <td>0.0</td>\n",
       "      <td>0.0</td>\n",
       "      <td>0.0</td>\n",
       "      <td>1.0</td>\n",
       "      <td>0.0</td>\n",
       "      <td>0.0</td>\n",
       "      <td>0.0</td>\n",
       "      <td>0.0</td>\n",
       "      <td>0.0</td>\n",
       "      <td>0.0</td>\n",
       "      <td>0.0</td>\n",
       "      <td>0.0</td>\n",
       "      <td>0.0</td>\n",
       "      <td>0.0</td>\n",
       "      <td>0.0</td>\n",
       "      <td>0.0</td>\n",
       "      <td>0.0</td>\n",
       "      <td>0.0</td>\n",
       "      <td>0.0</td>\n",
       "      <td>1.0</td>\n",
       "      <td>0.0</td>\n",
       "    </tr>\n",
       "    <tr>\n",
       "      <th>1</th>\n",
       "      <td>0.0</td>\n",
       "      <td>0.0</td>\n",
       "      <td>0.0</td>\n",
       "      <td>1.0</td>\n",
       "      <td>0.0</td>\n",
       "      <td>0.0</td>\n",
       "      <td>0.0</td>\n",
       "      <td>0.0</td>\n",
       "      <td>0.0</td>\n",
       "      <td>0.0</td>\n",
       "      <td>0.0</td>\n",
       "      <td>0.0</td>\n",
       "      <td>0.0</td>\n",
       "      <td>0.0</td>\n",
       "      <td>0.0</td>\n",
       "      <td>0.0</td>\n",
       "      <td>0.0</td>\n",
       "      <td>1.0</td>\n",
       "      <td>0.0</td>\n",
       "      <td>0.0</td>\n",
       "      <td>0.0</td>\n",
       "    </tr>\n",
       "    <tr>\n",
       "      <th>2</th>\n",
       "      <td>0.0</td>\n",
       "      <td>0.0</td>\n",
       "      <td>0.0</td>\n",
       "      <td>1.0</td>\n",
       "      <td>0.0</td>\n",
       "      <td>0.0</td>\n",
       "      <td>0.0</td>\n",
       "      <td>0.0</td>\n",
       "      <td>0.0</td>\n",
       "      <td>0.0</td>\n",
       "      <td>0.0</td>\n",
       "      <td>0.0</td>\n",
       "      <td>0.0</td>\n",
       "      <td>0.0</td>\n",
       "      <td>0.0</td>\n",
       "      <td>1.0</td>\n",
       "      <td>0.0</td>\n",
       "      <td>0.0</td>\n",
       "      <td>0.0</td>\n",
       "      <td>0.0</td>\n",
       "      <td>0.0</td>\n",
       "    </tr>\n",
       "    <tr>\n",
       "      <th>3</th>\n",
       "      <td>0.0</td>\n",
       "      <td>0.0</td>\n",
       "      <td>0.0</td>\n",
       "      <td>1.0</td>\n",
       "      <td>0.0</td>\n",
       "      <td>0.0</td>\n",
       "      <td>0.0</td>\n",
       "      <td>0.0</td>\n",
       "      <td>0.0</td>\n",
       "      <td>0.0</td>\n",
       "      <td>0.0</td>\n",
       "      <td>0.0</td>\n",
       "      <td>0.0</td>\n",
       "      <td>0.0</td>\n",
       "      <td>0.0</td>\n",
       "      <td>0.0</td>\n",
       "      <td>0.0</td>\n",
       "      <td>0.0</td>\n",
       "      <td>0.0</td>\n",
       "      <td>1.0</td>\n",
       "      <td>0.0</td>\n",
       "    </tr>\n",
       "    <tr>\n",
       "      <th>4</th>\n",
       "      <td>0.0</td>\n",
       "      <td>0.0</td>\n",
       "      <td>0.0</td>\n",
       "      <td>1.0</td>\n",
       "      <td>0.0</td>\n",
       "      <td>0.0</td>\n",
       "      <td>0.0</td>\n",
       "      <td>0.0</td>\n",
       "      <td>0.0</td>\n",
       "      <td>0.0</td>\n",
       "      <td>0.0</td>\n",
       "      <td>0.0</td>\n",
       "      <td>0.0</td>\n",
       "      <td>0.0</td>\n",
       "      <td>1.0</td>\n",
       "      <td>0.0</td>\n",
       "      <td>0.0</td>\n",
       "      <td>0.0</td>\n",
       "      <td>0.0</td>\n",
       "      <td>0.0</td>\n",
       "      <td>0.0</td>\n",
       "    </tr>\n",
       "    <tr>\n",
       "      <th>...</th>\n",
       "      <td>...</td>\n",
       "      <td>...</td>\n",
       "      <td>...</td>\n",
       "      <td>...</td>\n",
       "      <td>...</td>\n",
       "      <td>...</td>\n",
       "      <td>...</td>\n",
       "      <td>...</td>\n",
       "      <td>...</td>\n",
       "      <td>...</td>\n",
       "      <td>...</td>\n",
       "      <td>...</td>\n",
       "      <td>...</td>\n",
       "      <td>...</td>\n",
       "      <td>...</td>\n",
       "      <td>...</td>\n",
       "      <td>...</td>\n",
       "      <td>...</td>\n",
       "      <td>...</td>\n",
       "      <td>...</td>\n",
       "      <td>...</td>\n",
       "    </tr>\n",
       "    <tr>\n",
       "      <th>10915</th>\n",
       "      <td>0.0</td>\n",
       "      <td>0.0</td>\n",
       "      <td>0.0</td>\n",
       "      <td>0.0</td>\n",
       "      <td>0.0</td>\n",
       "      <td>0.0</td>\n",
       "      <td>0.0</td>\n",
       "      <td>0.0</td>\n",
       "      <td>0.0</td>\n",
       "      <td>0.0</td>\n",
       "      <td>0.0</td>\n",
       "      <td>0.0</td>\n",
       "      <td>1.0</td>\n",
       "      <td>0.0</td>\n",
       "      <td>0.0</td>\n",
       "      <td>1.0</td>\n",
       "      <td>0.0</td>\n",
       "      <td>0.0</td>\n",
       "      <td>0.0</td>\n",
       "      <td>0.0</td>\n",
       "      <td>0.0</td>\n",
       "    </tr>\n",
       "    <tr>\n",
       "      <th>10916</th>\n",
       "      <td>0.0</td>\n",
       "      <td>0.0</td>\n",
       "      <td>0.0</td>\n",
       "      <td>1.0</td>\n",
       "      <td>0.0</td>\n",
       "      <td>0.0</td>\n",
       "      <td>0.0</td>\n",
       "      <td>0.0</td>\n",
       "      <td>0.0</td>\n",
       "      <td>0.0</td>\n",
       "      <td>0.0</td>\n",
       "      <td>0.0</td>\n",
       "      <td>0.0</td>\n",
       "      <td>0.0</td>\n",
       "      <td>0.0</td>\n",
       "      <td>0.0</td>\n",
       "      <td>0.0</td>\n",
       "      <td>1.0</td>\n",
       "      <td>0.0</td>\n",
       "      <td>0.0</td>\n",
       "      <td>0.0</td>\n",
       "    </tr>\n",
       "    <tr>\n",
       "      <th>10917</th>\n",
       "      <td>0.0</td>\n",
       "      <td>0.0</td>\n",
       "      <td>0.0</td>\n",
       "      <td>1.0</td>\n",
       "      <td>0.0</td>\n",
       "      <td>0.0</td>\n",
       "      <td>0.0</td>\n",
       "      <td>0.0</td>\n",
       "      <td>0.0</td>\n",
       "      <td>0.0</td>\n",
       "      <td>0.0</td>\n",
       "      <td>0.0</td>\n",
       "      <td>0.0</td>\n",
       "      <td>0.0</td>\n",
       "      <td>1.0</td>\n",
       "      <td>0.0</td>\n",
       "      <td>0.0</td>\n",
       "      <td>0.0</td>\n",
       "      <td>0.0</td>\n",
       "      <td>0.0</td>\n",
       "      <td>0.0</td>\n",
       "    </tr>\n",
       "    <tr>\n",
       "      <th>10918</th>\n",
       "      <td>0.0</td>\n",
       "      <td>0.0</td>\n",
       "      <td>1.0</td>\n",
       "      <td>0.0</td>\n",
       "      <td>0.0</td>\n",
       "      <td>0.0</td>\n",
       "      <td>0.0</td>\n",
       "      <td>0.0</td>\n",
       "      <td>0.0</td>\n",
       "      <td>0.0</td>\n",
       "      <td>0.0</td>\n",
       "      <td>0.0</td>\n",
       "      <td>0.0</td>\n",
       "      <td>0.0</td>\n",
       "      <td>0.0</td>\n",
       "      <td>0.0</td>\n",
       "      <td>0.0</td>\n",
       "      <td>0.0</td>\n",
       "      <td>0.0</td>\n",
       "      <td>1.0</td>\n",
       "      <td>0.0</td>\n",
       "    </tr>\n",
       "    <tr>\n",
       "      <th>10919</th>\n",
       "      <td>0.0</td>\n",
       "      <td>0.0</td>\n",
       "      <td>0.0</td>\n",
       "      <td>0.0</td>\n",
       "      <td>0.0</td>\n",
       "      <td>0.0</td>\n",
       "      <td>0.0</td>\n",
       "      <td>0.0</td>\n",
       "      <td>0.0</td>\n",
       "      <td>0.0</td>\n",
       "      <td>0.0</td>\n",
       "      <td>0.0</td>\n",
       "      <td>1.0</td>\n",
       "      <td>0.0</td>\n",
       "      <td>0.0</td>\n",
       "      <td>1.0</td>\n",
       "      <td>0.0</td>\n",
       "      <td>0.0</td>\n",
       "      <td>0.0</td>\n",
       "      <td>0.0</td>\n",
       "      <td>0.0</td>\n",
       "    </tr>\n",
       "  </tbody>\n",
       "</table>\n",
       "<p>10920 rows × 21 columns</p>\n",
       "</div>"
      ],
      "text/plain": [
       "        0    1    2    3    4    5    6    7    8    9    10   11   12   13  \\\n",
       "0      0.0  0.0  0.0  1.0  0.0  0.0  0.0  0.0  0.0  0.0  0.0  0.0  0.0  0.0   \n",
       "1      0.0  0.0  0.0  1.0  0.0  0.0  0.0  0.0  0.0  0.0  0.0  0.0  0.0  0.0   \n",
       "2      0.0  0.0  0.0  1.0  0.0  0.0  0.0  0.0  0.0  0.0  0.0  0.0  0.0  0.0   \n",
       "3      0.0  0.0  0.0  1.0  0.0  0.0  0.0  0.0  0.0  0.0  0.0  0.0  0.0  0.0   \n",
       "4      0.0  0.0  0.0  1.0  0.0  0.0  0.0  0.0  0.0  0.0  0.0  0.0  0.0  0.0   \n",
       "...    ...  ...  ...  ...  ...  ...  ...  ...  ...  ...  ...  ...  ...  ...   \n",
       "10915  0.0  0.0  0.0  0.0  0.0  0.0  0.0  0.0  0.0  0.0  0.0  0.0  1.0  0.0   \n",
       "10916  0.0  0.0  0.0  1.0  0.0  0.0  0.0  0.0  0.0  0.0  0.0  0.0  0.0  0.0   \n",
       "10917  0.0  0.0  0.0  1.0  0.0  0.0  0.0  0.0  0.0  0.0  0.0  0.0  0.0  0.0   \n",
       "10918  0.0  0.0  1.0  0.0  0.0  0.0  0.0  0.0  0.0  0.0  0.0  0.0  0.0  0.0   \n",
       "10919  0.0  0.0  0.0  0.0  0.0  0.0  0.0  0.0  0.0  0.0  0.0  0.0  1.0  0.0   \n",
       "\n",
       "        14   15   16   17   18   19   20  \n",
       "0      0.0  0.0  0.0  0.0  0.0  1.0  0.0  \n",
       "1      0.0  0.0  0.0  1.0  0.0  0.0  0.0  \n",
       "2      0.0  1.0  0.0  0.0  0.0  0.0  0.0  \n",
       "3      0.0  0.0  0.0  0.0  0.0  1.0  0.0  \n",
       "4      1.0  0.0  0.0  0.0  0.0  0.0  0.0  \n",
       "...    ...  ...  ...  ...  ...  ...  ...  \n",
       "10915  0.0  1.0  0.0  0.0  0.0  0.0  0.0  \n",
       "10916  0.0  0.0  0.0  1.0  0.0  0.0  0.0  \n",
       "10917  1.0  0.0  0.0  0.0  0.0  0.0  0.0  \n",
       "10918  0.0  0.0  0.0  0.0  0.0  1.0  0.0  \n",
       "10919  0.0  1.0  0.0  0.0  0.0  0.0  0.0  \n",
       "\n",
       "[10920 rows x 21 columns]"
      ]
     },
     "execution_count": 68,
     "metadata": {},
     "output_type": "execute_result"
    }
   ],
   "source": [
    "encoded_df"
   ]
  },
  {
   "cell_type": "code",
   "execution_count": 69,
   "metadata": {},
   "outputs": [],
   "source": [
    "cat_data = pd.concat([ordinal_encoded_scaled, encoded_df], axis=1)"
   ]
  },
  {
   "cell_type": "code",
   "execution_count": 70,
   "metadata": {},
   "outputs": [
    {
     "data": {
      "text/html": [
       "<div>\n",
       "<style scoped>\n",
       "    .dataframe tbody tr th:only-of-type {\n",
       "        vertical-align: middle;\n",
       "    }\n",
       "\n",
       "    .dataframe tbody tr th {\n",
       "        vertical-align: top;\n",
       "    }\n",
       "\n",
       "    .dataframe thead th {\n",
       "        text-align: right;\n",
       "    }\n",
       "</style>\n",
       "<table border=\"1\" class=\"dataframe\">\n",
       "  <thead>\n",
       "    <tr style=\"text-align: right;\">\n",
       "      <th></th>\n",
       "      <th>0</th>\n",
       "      <th>1</th>\n",
       "      <th>2</th>\n",
       "      <th>0</th>\n",
       "      <th>1</th>\n",
       "      <th>2</th>\n",
       "      <th>3</th>\n",
       "      <th>4</th>\n",
       "      <th>5</th>\n",
       "      <th>6</th>\n",
       "      <th>7</th>\n",
       "      <th>8</th>\n",
       "      <th>9</th>\n",
       "      <th>10</th>\n",
       "      <th>11</th>\n",
       "      <th>12</th>\n",
       "      <th>13</th>\n",
       "      <th>14</th>\n",
       "      <th>15</th>\n",
       "      <th>16</th>\n",
       "      <th>17</th>\n",
       "      <th>18</th>\n",
       "      <th>19</th>\n",
       "      <th>20</th>\n",
       "    </tr>\n",
       "  </thead>\n",
       "  <tbody>\n",
       "    <tr>\n",
       "      <th>0</th>\n",
       "      <td>0.664088</td>\n",
       "      <td>-1.615285</td>\n",
       "      <td>-2.226051</td>\n",
       "      <td>0.0</td>\n",
       "      <td>0.0</td>\n",
       "      <td>0.0</td>\n",
       "      <td>1.0</td>\n",
       "      <td>0.0</td>\n",
       "      <td>0.0</td>\n",
       "      <td>0.0</td>\n",
       "      <td>0.0</td>\n",
       "      <td>0.0</td>\n",
       "      <td>0.0</td>\n",
       "      <td>0.0</td>\n",
       "      <td>0.0</td>\n",
       "      <td>0.0</td>\n",
       "      <td>0.0</td>\n",
       "      <td>0.0</td>\n",
       "      <td>0.0</td>\n",
       "      <td>0.0</td>\n",
       "      <td>0.0</td>\n",
       "      <td>0.0</td>\n",
       "      <td>1.0</td>\n",
       "      <td>0.0</td>\n",
       "    </tr>\n",
       "    <tr>\n",
       "      <th>1</th>\n",
       "      <td>0.664088</td>\n",
       "      <td>0.366838</td>\n",
       "      <td>0.211989</td>\n",
       "      <td>0.0</td>\n",
       "      <td>0.0</td>\n",
       "      <td>0.0</td>\n",
       "      <td>1.0</td>\n",
       "      <td>0.0</td>\n",
       "      <td>0.0</td>\n",
       "      <td>0.0</td>\n",
       "      <td>0.0</td>\n",
       "      <td>0.0</td>\n",
       "      <td>0.0</td>\n",
       "      <td>0.0</td>\n",
       "      <td>0.0</td>\n",
       "      <td>0.0</td>\n",
       "      <td>0.0</td>\n",
       "      <td>0.0</td>\n",
       "      <td>0.0</td>\n",
       "      <td>0.0</td>\n",
       "      <td>1.0</td>\n",
       "      <td>0.0</td>\n",
       "      <td>0.0</td>\n",
       "      <td>0.0</td>\n",
       "    </tr>\n",
       "    <tr>\n",
       "      <th>2</th>\n",
       "      <td>-1.505824</td>\n",
       "      <td>1.357899</td>\n",
       "      <td>1.024669</td>\n",
       "      <td>0.0</td>\n",
       "      <td>0.0</td>\n",
       "      <td>0.0</td>\n",
       "      <td>1.0</td>\n",
       "      <td>0.0</td>\n",
       "      <td>0.0</td>\n",
       "      <td>0.0</td>\n",
       "      <td>0.0</td>\n",
       "      <td>0.0</td>\n",
       "      <td>0.0</td>\n",
       "      <td>0.0</td>\n",
       "      <td>0.0</td>\n",
       "      <td>0.0</td>\n",
       "      <td>0.0</td>\n",
       "      <td>0.0</td>\n",
       "      <td>1.0</td>\n",
       "      <td>0.0</td>\n",
       "      <td>0.0</td>\n",
       "      <td>0.0</td>\n",
       "      <td>0.0</td>\n",
       "      <td>0.0</td>\n",
       "    </tr>\n",
       "    <tr>\n",
       "      <th>3</th>\n",
       "      <td>-1.505824</td>\n",
       "      <td>-0.624223</td>\n",
       "      <td>0.618329</td>\n",
       "      <td>0.0</td>\n",
       "      <td>0.0</td>\n",
       "      <td>0.0</td>\n",
       "      <td>1.0</td>\n",
       "      <td>0.0</td>\n",
       "      <td>0.0</td>\n",
       "      <td>0.0</td>\n",
       "      <td>0.0</td>\n",
       "      <td>0.0</td>\n",
       "      <td>0.0</td>\n",
       "      <td>0.0</td>\n",
       "      <td>0.0</td>\n",
       "      <td>0.0</td>\n",
       "      <td>0.0</td>\n",
       "      <td>0.0</td>\n",
       "      <td>0.0</td>\n",
       "      <td>0.0</td>\n",
       "      <td>0.0</td>\n",
       "      <td>0.0</td>\n",
       "      <td>1.0</td>\n",
       "      <td>0.0</td>\n",
       "    </tr>\n",
       "    <tr>\n",
       "      <th>4</th>\n",
       "      <td>0.664088</td>\n",
       "      <td>1.357899</td>\n",
       "      <td>-2.226051</td>\n",
       "      <td>0.0</td>\n",
       "      <td>0.0</td>\n",
       "      <td>0.0</td>\n",
       "      <td>1.0</td>\n",
       "      <td>0.0</td>\n",
       "      <td>0.0</td>\n",
       "      <td>0.0</td>\n",
       "      <td>0.0</td>\n",
       "      <td>0.0</td>\n",
       "      <td>0.0</td>\n",
       "      <td>0.0</td>\n",
       "      <td>0.0</td>\n",
       "      <td>0.0</td>\n",
       "      <td>0.0</td>\n",
       "      <td>1.0</td>\n",
       "      <td>0.0</td>\n",
       "      <td>0.0</td>\n",
       "      <td>0.0</td>\n",
       "      <td>0.0</td>\n",
       "      <td>0.0</td>\n",
       "      <td>0.0</td>\n",
       "    </tr>\n",
       "    <tr>\n",
       "      <th>...</th>\n",
       "      <td>...</td>\n",
       "      <td>...</td>\n",
       "      <td>...</td>\n",
       "      <td>...</td>\n",
       "      <td>...</td>\n",
       "      <td>...</td>\n",
       "      <td>...</td>\n",
       "      <td>...</td>\n",
       "      <td>...</td>\n",
       "      <td>...</td>\n",
       "      <td>...</td>\n",
       "      <td>...</td>\n",
       "      <td>...</td>\n",
       "      <td>...</td>\n",
       "      <td>...</td>\n",
       "      <td>...</td>\n",
       "      <td>...</td>\n",
       "      <td>...</td>\n",
       "      <td>...</td>\n",
       "      <td>...</td>\n",
       "      <td>...</td>\n",
       "      <td>...</td>\n",
       "      <td>...</td>\n",
       "      <td>...</td>\n",
       "    </tr>\n",
       "    <tr>\n",
       "      <th>10915</th>\n",
       "      <td>-1.505824</td>\n",
       "      <td>-0.624223</td>\n",
       "      <td>-0.194351</td>\n",
       "      <td>0.0</td>\n",
       "      <td>0.0</td>\n",
       "      <td>0.0</td>\n",
       "      <td>0.0</td>\n",
       "      <td>0.0</td>\n",
       "      <td>0.0</td>\n",
       "      <td>0.0</td>\n",
       "      <td>0.0</td>\n",
       "      <td>0.0</td>\n",
       "      <td>0.0</td>\n",
       "      <td>0.0</td>\n",
       "      <td>0.0</td>\n",
       "      <td>1.0</td>\n",
       "      <td>0.0</td>\n",
       "      <td>0.0</td>\n",
       "      <td>1.0</td>\n",
       "      <td>0.0</td>\n",
       "      <td>0.0</td>\n",
       "      <td>0.0</td>\n",
       "      <td>0.0</td>\n",
       "      <td>0.0</td>\n",
       "    </tr>\n",
       "    <tr>\n",
       "      <th>10916</th>\n",
       "      <td>0.664088</td>\n",
       "      <td>-0.624223</td>\n",
       "      <td>0.211989</td>\n",
       "      <td>0.0</td>\n",
       "      <td>0.0</td>\n",
       "      <td>0.0</td>\n",
       "      <td>1.0</td>\n",
       "      <td>0.0</td>\n",
       "      <td>0.0</td>\n",
       "      <td>0.0</td>\n",
       "      <td>0.0</td>\n",
       "      <td>0.0</td>\n",
       "      <td>0.0</td>\n",
       "      <td>0.0</td>\n",
       "      <td>0.0</td>\n",
       "      <td>0.0</td>\n",
       "      <td>0.0</td>\n",
       "      <td>0.0</td>\n",
       "      <td>0.0</td>\n",
       "      <td>0.0</td>\n",
       "      <td>1.0</td>\n",
       "      <td>0.0</td>\n",
       "      <td>0.0</td>\n",
       "      <td>0.0</td>\n",
       "    </tr>\n",
       "    <tr>\n",
       "      <th>10917</th>\n",
       "      <td>-1.505824</td>\n",
       "      <td>0.366838</td>\n",
       "      <td>0.618329</td>\n",
       "      <td>0.0</td>\n",
       "      <td>0.0</td>\n",
       "      <td>0.0</td>\n",
       "      <td>1.0</td>\n",
       "      <td>0.0</td>\n",
       "      <td>0.0</td>\n",
       "      <td>0.0</td>\n",
       "      <td>0.0</td>\n",
       "      <td>0.0</td>\n",
       "      <td>0.0</td>\n",
       "      <td>0.0</td>\n",
       "      <td>0.0</td>\n",
       "      <td>0.0</td>\n",
       "      <td>0.0</td>\n",
       "      <td>1.0</td>\n",
       "      <td>0.0</td>\n",
       "      <td>0.0</td>\n",
       "      <td>0.0</td>\n",
       "      <td>0.0</td>\n",
       "      <td>0.0</td>\n",
       "      <td>0.0</td>\n",
       "    </tr>\n",
       "    <tr>\n",
       "      <th>10918</th>\n",
       "      <td>0.664088</td>\n",
       "      <td>0.366838</td>\n",
       "      <td>0.618329</td>\n",
       "      <td>0.0</td>\n",
       "      <td>0.0</td>\n",
       "      <td>1.0</td>\n",
       "      <td>0.0</td>\n",
       "      <td>0.0</td>\n",
       "      <td>0.0</td>\n",
       "      <td>0.0</td>\n",
       "      <td>0.0</td>\n",
       "      <td>0.0</td>\n",
       "      <td>0.0</td>\n",
       "      <td>0.0</td>\n",
       "      <td>0.0</td>\n",
       "      <td>0.0</td>\n",
       "      <td>0.0</td>\n",
       "      <td>0.0</td>\n",
       "      <td>0.0</td>\n",
       "      <td>0.0</td>\n",
       "      <td>0.0</td>\n",
       "      <td>0.0</td>\n",
       "      <td>1.0</td>\n",
       "      <td>0.0</td>\n",
       "    </tr>\n",
       "    <tr>\n",
       "      <th>10919</th>\n",
       "      <td>-1.505824</td>\n",
       "      <td>0.366838</td>\n",
       "      <td>0.618329</td>\n",
       "      <td>0.0</td>\n",
       "      <td>0.0</td>\n",
       "      <td>0.0</td>\n",
       "      <td>0.0</td>\n",
       "      <td>0.0</td>\n",
       "      <td>0.0</td>\n",
       "      <td>0.0</td>\n",
       "      <td>0.0</td>\n",
       "      <td>0.0</td>\n",
       "      <td>0.0</td>\n",
       "      <td>0.0</td>\n",
       "      <td>0.0</td>\n",
       "      <td>1.0</td>\n",
       "      <td>0.0</td>\n",
       "      <td>0.0</td>\n",
       "      <td>1.0</td>\n",
       "      <td>0.0</td>\n",
       "      <td>0.0</td>\n",
       "      <td>0.0</td>\n",
       "      <td>0.0</td>\n",
       "      <td>0.0</td>\n",
       "    </tr>\n",
       "  </tbody>\n",
       "</table>\n",
       "<p>10920 rows × 24 columns</p>\n",
       "</div>"
      ],
      "text/plain": [
       "             0         1         2    0    1    2    3    4    5    6    7   \\\n",
       "0      0.664088 -1.615285 -2.226051  0.0  0.0  0.0  1.0  0.0  0.0  0.0  0.0   \n",
       "1      0.664088  0.366838  0.211989  0.0  0.0  0.0  1.0  0.0  0.0  0.0  0.0   \n",
       "2     -1.505824  1.357899  1.024669  0.0  0.0  0.0  1.0  0.0  0.0  0.0  0.0   \n",
       "3     -1.505824 -0.624223  0.618329  0.0  0.0  0.0  1.0  0.0  0.0  0.0  0.0   \n",
       "4      0.664088  1.357899 -2.226051  0.0  0.0  0.0  1.0  0.0  0.0  0.0  0.0   \n",
       "...         ...       ...       ...  ...  ...  ...  ...  ...  ...  ...  ...   \n",
       "10915 -1.505824 -0.624223 -0.194351  0.0  0.0  0.0  0.0  0.0  0.0  0.0  0.0   \n",
       "10916  0.664088 -0.624223  0.211989  0.0  0.0  0.0  1.0  0.0  0.0  0.0  0.0   \n",
       "10917 -1.505824  0.366838  0.618329  0.0  0.0  0.0  1.0  0.0  0.0  0.0  0.0   \n",
       "10918  0.664088  0.366838  0.618329  0.0  0.0  1.0  0.0  0.0  0.0  0.0  0.0   \n",
       "10919 -1.505824  0.366838  0.618329  0.0  0.0  0.0  0.0  0.0  0.0  0.0  0.0   \n",
       "\n",
       "        8    9    10   11   12   13   14   15   16   17   18   19   20  \n",
       "0      0.0  0.0  0.0  0.0  0.0  0.0  0.0  0.0  0.0  0.0  0.0  1.0  0.0  \n",
       "1      0.0  0.0  0.0  0.0  0.0  0.0  0.0  0.0  0.0  1.0  0.0  0.0  0.0  \n",
       "2      0.0  0.0  0.0  0.0  0.0  0.0  0.0  1.0  0.0  0.0  0.0  0.0  0.0  \n",
       "3      0.0  0.0  0.0  0.0  0.0  0.0  0.0  0.0  0.0  0.0  0.0  1.0  0.0  \n",
       "4      0.0  0.0  0.0  0.0  0.0  0.0  1.0  0.0  0.0  0.0  0.0  0.0  0.0  \n",
       "...    ...  ...  ...  ...  ...  ...  ...  ...  ...  ...  ...  ...  ...  \n",
       "10915  0.0  0.0  0.0  0.0  1.0  0.0  0.0  1.0  0.0  0.0  0.0  0.0  0.0  \n",
       "10916  0.0  0.0  0.0  0.0  0.0  0.0  0.0  0.0  0.0  1.0  0.0  0.0  0.0  \n",
       "10917  0.0  0.0  0.0  0.0  0.0  0.0  1.0  0.0  0.0  0.0  0.0  0.0  0.0  \n",
       "10918  0.0  0.0  0.0  0.0  0.0  0.0  0.0  0.0  0.0  0.0  0.0  1.0  0.0  \n",
       "10919  0.0  0.0  0.0  0.0  1.0  0.0  0.0  1.0  0.0  0.0  0.0  0.0  0.0  \n",
       "\n",
       "[10920 rows x 24 columns]"
      ]
     },
     "execution_count": 70,
     "metadata": {},
     "output_type": "execute_result"
    }
   ],
   "source": [
    "cat_data"
   ]
  },
  {
   "cell_type": "code",
   "execution_count": 71,
   "metadata": {},
   "outputs": [],
   "source": [
    "#cat_data.drop(['genre','style','format_'], axis=1, inplace=True)"
   ]
  },
  {
   "cell_type": "markdown",
   "metadata": {},
   "source": [
    "# Split X and Y"
   ]
  },
  {
   "cell_type": "code",
   "execution_count": 72,
   "metadata": {},
   "outputs": [],
   "source": [
    "y = x_num['usd_price']\n",
    "x_num = x_num.drop(['usd_price'],axis = 1)"
   ]
  },
  {
   "cell_type": "code",
   "execution_count": 73,
   "metadata": {},
   "outputs": [
    {
     "data": {
      "text/html": [
       "<div>\n",
       "<style scoped>\n",
       "    .dataframe tbody tr th:only-of-type {\n",
       "        vertical-align: middle;\n",
       "    }\n",
       "\n",
       "    .dataframe tbody tr th {\n",
       "        vertical-align: top;\n",
       "    }\n",
       "\n",
       "    .dataframe thead th {\n",
       "        text-align: right;\n",
       "    }\n",
       "</style>\n",
       "<table border=\"1\" class=\"dataframe\">\n",
       "  <thead>\n",
       "    <tr style=\"text-align: right;\">\n",
       "      <th></th>\n",
       "      <th>ratings</th>\n",
       "      <th>community_rating</th>\n",
       "      <th>no_of_have</th>\n",
       "      <th>no_of_want</th>\n",
       "      <th>ratio_community</th>\n",
       "      <th>av_seller_rating</th>\n",
       "      <th>year</th>\n",
       "      <th>record_age</th>\n",
       "      <th>tracks</th>\n",
       "      <th>no_of_records</th>\n",
       "    </tr>\n",
       "  </thead>\n",
       "  <tbody>\n",
       "    <tr>\n",
       "      <th>0</th>\n",
       "      <td>1992</td>\n",
       "      <td>4.17</td>\n",
       "      <td>1.756125</td>\n",
       "      <td>100</td>\n",
       "      <td>-1.171183</td>\n",
       "      <td>99.8</td>\n",
       "      <td>2004</td>\n",
       "      <td>2.833213</td>\n",
       "      <td>1.609438</td>\n",
       "      <td>2</td>\n",
       "    </tr>\n",
       "    <tr>\n",
       "      <th>1</th>\n",
       "      <td>1776</td>\n",
       "      <td>4.67</td>\n",
       "      <td>1.079918</td>\n",
       "      <td>32</td>\n",
       "      <td>0.518794</td>\n",
       "      <td>100.0</td>\n",
       "      <td>1996</td>\n",
       "      <td>3.218876</td>\n",
       "      <td>2.197225</td>\n",
       "      <td>1</td>\n",
       "    </tr>\n",
       "    <tr>\n",
       "      <th>2</th>\n",
       "      <td>33</td>\n",
       "      <td>4.00</td>\n",
       "      <td>1.242925</td>\n",
       "      <td>25</td>\n",
       "      <td>-0.248461</td>\n",
       "      <td>100.0</td>\n",
       "      <td>2018</td>\n",
       "      <td>1.098612</td>\n",
       "      <td>0.693147</td>\n",
       "      <td>1</td>\n",
       "    </tr>\n",
       "    <tr>\n",
       "      <th>3</th>\n",
       "      <td>438</td>\n",
       "      <td>4.34</td>\n",
       "      <td>1.839211</td>\n",
       "      <td>185</td>\n",
       "      <td>-1.078810</td>\n",
       "      <td>100.0</td>\n",
       "      <td>2000</td>\n",
       "      <td>3.044522</td>\n",
       "      <td>1.386294</td>\n",
       "      <td>2</td>\n",
       "    </tr>\n",
       "    <tr>\n",
       "      <th>4</th>\n",
       "      <td>545</td>\n",
       "      <td>3.80</td>\n",
       "      <td>1.298436</td>\n",
       "      <td>15</td>\n",
       "      <td>-0.967584</td>\n",
       "      <td>99.8</td>\n",
       "      <td>1998</td>\n",
       "      <td>3.135494</td>\n",
       "      <td>0.000000</td>\n",
       "      <td>1</td>\n",
       "    </tr>\n",
       "    <tr>\n",
       "      <th>...</th>\n",
       "      <td>...</td>\n",
       "      <td>...</td>\n",
       "      <td>...</td>\n",
       "      <td>...</td>\n",
       "      <td>...</td>\n",
       "      <td>...</td>\n",
       "      <td>...</td>\n",
       "      <td>...</td>\n",
       "      <td>...</td>\n",
       "      <td>...</td>\n",
       "    </tr>\n",
       "    <tr>\n",
       "      <th>16670</th>\n",
       "      <td>2969</td>\n",
       "      <td>3.00</td>\n",
       "      <td>1.142787</td>\n",
       "      <td>97</td>\n",
       "      <td>1.439835</td>\n",
       "      <td>100.0</td>\n",
       "      <td>2008</td>\n",
       "      <td>2.564949</td>\n",
       "      <td>0.000000</td>\n",
       "      <td>1</td>\n",
       "    </tr>\n",
       "    <tr>\n",
       "      <th>16671</th>\n",
       "      <td>2969</td>\n",
       "      <td>4.22</td>\n",
       "      <td>1.324738</td>\n",
       "      <td>46</td>\n",
       "      <td>0.067659</td>\n",
       "      <td>100.0</td>\n",
       "      <td>1989</td>\n",
       "      <td>3.465736</td>\n",
       "      <td>1.609438</td>\n",
       "      <td>1</td>\n",
       "    </tr>\n",
       "    <tr>\n",
       "      <th>16672</th>\n",
       "      <td>2969</td>\n",
       "      <td>3.45</td>\n",
       "      <td>1.678327</td>\n",
       "      <td>11</td>\n",
       "      <td>-2.995732</td>\n",
       "      <td>100.0</td>\n",
       "      <td>2006</td>\n",
       "      <td>2.708050</td>\n",
       "      <td>0.693147</td>\n",
       "      <td>1</td>\n",
       "    </tr>\n",
       "    <tr>\n",
       "      <th>16673</th>\n",
       "      <td>2969</td>\n",
       "      <td>3.71</td>\n",
       "      <td>1.664533</td>\n",
       "      <td>13</td>\n",
       "      <td>-2.659260</td>\n",
       "      <td>100.0</td>\n",
       "      <td>1979</td>\n",
       "      <td>3.737670</td>\n",
       "      <td>2.484907</td>\n",
       "      <td>3</td>\n",
       "    </tr>\n",
       "    <tr>\n",
       "      <th>16674</th>\n",
       "      <td>2969</td>\n",
       "      <td>4.20</td>\n",
       "      <td>0.787195</td>\n",
       "      <td>10</td>\n",
       "      <td>0.104360</td>\n",
       "      <td>100.0</td>\n",
       "      <td>1996</td>\n",
       "      <td>3.218876</td>\n",
       "      <td>0.000000</td>\n",
       "      <td>1</td>\n",
       "    </tr>\n",
       "  </tbody>\n",
       "</table>\n",
       "<p>10920 rows × 10 columns</p>\n",
       "</div>"
      ],
      "text/plain": [
       "       ratings  community_rating  no_of_have  no_of_want  ratio_community  \\\n",
       "0         1992              4.17    1.756125         100        -1.171183   \n",
       "1         1776              4.67    1.079918          32         0.518794   \n",
       "2           33              4.00    1.242925          25        -0.248461   \n",
       "3          438              4.34    1.839211         185        -1.078810   \n",
       "4          545              3.80    1.298436          15        -0.967584   \n",
       "...        ...               ...         ...         ...              ...   \n",
       "16670     2969              3.00    1.142787          97         1.439835   \n",
       "16671     2969              4.22    1.324738          46         0.067659   \n",
       "16672     2969              3.45    1.678327          11        -2.995732   \n",
       "16673     2969              3.71    1.664533          13        -2.659260   \n",
       "16674     2969              4.20    0.787195          10         0.104360   \n",
       "\n",
       "       av_seller_rating  year  record_age    tracks  no_of_records  \n",
       "0                  99.8  2004    2.833213  1.609438              2  \n",
       "1                 100.0  1996    3.218876  2.197225              1  \n",
       "2                 100.0  2018    1.098612  0.693147              1  \n",
       "3                 100.0  2000    3.044522  1.386294              2  \n",
       "4                  99.8  1998    3.135494  0.000000              1  \n",
       "...                 ...   ...         ...       ...            ...  \n",
       "16670             100.0  2008    2.564949  0.000000              1  \n",
       "16671             100.0  1989    3.465736  1.609438              1  \n",
       "16672             100.0  2006    2.708050  0.693147              1  \n",
       "16673             100.0  1979    3.737670  2.484907              3  \n",
       "16674             100.0  1996    3.218876  0.000000              1  \n",
       "\n",
       "[10920 rows x 10 columns]"
      ]
     },
     "execution_count": 73,
     "metadata": {},
     "output_type": "execute_result"
    }
   ],
   "source": [
    "x_num"
   ]
  },
  {
   "cell_type": "markdown",
   "metadata": {},
   "source": [
    "# Concatenate numerical and categorical x features"
   ]
  },
  {
   "cell_type": "code",
   "execution_count": 74,
   "metadata": {},
   "outputs": [
    {
     "data": {
      "text/html": [
       "<div>\n",
       "<style scoped>\n",
       "    .dataframe tbody tr th:only-of-type {\n",
       "        vertical-align: middle;\n",
       "    }\n",
       "\n",
       "    .dataframe tbody tr th {\n",
       "        vertical-align: top;\n",
       "    }\n",
       "\n",
       "    .dataframe thead th {\n",
       "        text-align: right;\n",
       "    }\n",
       "</style>\n",
       "<table border=\"1\" class=\"dataframe\">\n",
       "  <thead>\n",
       "    <tr style=\"text-align: right;\">\n",
       "      <th></th>\n",
       "      <th>ratings</th>\n",
       "      <th>community_rating</th>\n",
       "      <th>no_of_have</th>\n",
       "      <th>no_of_want</th>\n",
       "      <th>ratio_community</th>\n",
       "      <th>av_seller_rating</th>\n",
       "      <th>year</th>\n",
       "      <th>record_age</th>\n",
       "      <th>tracks</th>\n",
       "      <th>no_of_records</th>\n",
       "      <th>0</th>\n",
       "      <th>1</th>\n",
       "      <th>2</th>\n",
       "      <th>0</th>\n",
       "      <th>1</th>\n",
       "      <th>2</th>\n",
       "      <th>3</th>\n",
       "      <th>4</th>\n",
       "      <th>5</th>\n",
       "      <th>6</th>\n",
       "      <th>7</th>\n",
       "      <th>8</th>\n",
       "      <th>9</th>\n",
       "      <th>10</th>\n",
       "      <th>11</th>\n",
       "      <th>12</th>\n",
       "      <th>13</th>\n",
       "      <th>14</th>\n",
       "      <th>15</th>\n",
       "      <th>16</th>\n",
       "      <th>17</th>\n",
       "      <th>18</th>\n",
       "      <th>19</th>\n",
       "      <th>20</th>\n",
       "    </tr>\n",
       "  </thead>\n",
       "  <tbody>\n",
       "    <tr>\n",
       "      <th>0</th>\n",
       "      <td>1992</td>\n",
       "      <td>4.17</td>\n",
       "      <td>1.756125</td>\n",
       "      <td>100</td>\n",
       "      <td>-1.171183</td>\n",
       "      <td>99.8</td>\n",
       "      <td>2004</td>\n",
       "      <td>2.833213</td>\n",
       "      <td>1.609438</td>\n",
       "      <td>2</td>\n",
       "      <td>0.664088</td>\n",
       "      <td>-1.615285</td>\n",
       "      <td>-2.226051</td>\n",
       "      <td>0.0</td>\n",
       "      <td>0.0</td>\n",
       "      <td>0.0</td>\n",
       "      <td>1.0</td>\n",
       "      <td>0.0</td>\n",
       "      <td>0.0</td>\n",
       "      <td>0.0</td>\n",
       "      <td>0.0</td>\n",
       "      <td>0.0</td>\n",
       "      <td>0.0</td>\n",
       "      <td>0.0</td>\n",
       "      <td>0.0</td>\n",
       "      <td>0.0</td>\n",
       "      <td>0.0</td>\n",
       "      <td>0.0</td>\n",
       "      <td>0.0</td>\n",
       "      <td>0.0</td>\n",
       "      <td>0.0</td>\n",
       "      <td>0.0</td>\n",
       "      <td>1.0</td>\n",
       "      <td>0.0</td>\n",
       "    </tr>\n",
       "    <tr>\n",
       "      <th>1</th>\n",
       "      <td>1776</td>\n",
       "      <td>4.67</td>\n",
       "      <td>1.079918</td>\n",
       "      <td>32</td>\n",
       "      <td>0.518794</td>\n",
       "      <td>100.0</td>\n",
       "      <td>1996</td>\n",
       "      <td>3.218876</td>\n",
       "      <td>2.197225</td>\n",
       "      <td>1</td>\n",
       "      <td>0.664088</td>\n",
       "      <td>0.366838</td>\n",
       "      <td>0.211989</td>\n",
       "      <td>0.0</td>\n",
       "      <td>0.0</td>\n",
       "      <td>0.0</td>\n",
       "      <td>1.0</td>\n",
       "      <td>0.0</td>\n",
       "      <td>0.0</td>\n",
       "      <td>0.0</td>\n",
       "      <td>0.0</td>\n",
       "      <td>0.0</td>\n",
       "      <td>0.0</td>\n",
       "      <td>0.0</td>\n",
       "      <td>0.0</td>\n",
       "      <td>0.0</td>\n",
       "      <td>0.0</td>\n",
       "      <td>0.0</td>\n",
       "      <td>0.0</td>\n",
       "      <td>0.0</td>\n",
       "      <td>1.0</td>\n",
       "      <td>0.0</td>\n",
       "      <td>0.0</td>\n",
       "      <td>0.0</td>\n",
       "    </tr>\n",
       "    <tr>\n",
       "      <th>2</th>\n",
       "      <td>33</td>\n",
       "      <td>4.00</td>\n",
       "      <td>1.242925</td>\n",
       "      <td>25</td>\n",
       "      <td>-0.248461</td>\n",
       "      <td>100.0</td>\n",
       "      <td>2018</td>\n",
       "      <td>1.098612</td>\n",
       "      <td>0.693147</td>\n",
       "      <td>1</td>\n",
       "      <td>-1.505824</td>\n",
       "      <td>1.357899</td>\n",
       "      <td>1.024669</td>\n",
       "      <td>0.0</td>\n",
       "      <td>0.0</td>\n",
       "      <td>0.0</td>\n",
       "      <td>1.0</td>\n",
       "      <td>0.0</td>\n",
       "      <td>0.0</td>\n",
       "      <td>0.0</td>\n",
       "      <td>0.0</td>\n",
       "      <td>0.0</td>\n",
       "      <td>0.0</td>\n",
       "      <td>0.0</td>\n",
       "      <td>0.0</td>\n",
       "      <td>0.0</td>\n",
       "      <td>0.0</td>\n",
       "      <td>0.0</td>\n",
       "      <td>1.0</td>\n",
       "      <td>0.0</td>\n",
       "      <td>0.0</td>\n",
       "      <td>0.0</td>\n",
       "      <td>0.0</td>\n",
       "      <td>0.0</td>\n",
       "    </tr>\n",
       "    <tr>\n",
       "      <th>3</th>\n",
       "      <td>438</td>\n",
       "      <td>4.34</td>\n",
       "      <td>1.839211</td>\n",
       "      <td>185</td>\n",
       "      <td>-1.078810</td>\n",
       "      <td>100.0</td>\n",
       "      <td>2000</td>\n",
       "      <td>3.044522</td>\n",
       "      <td>1.386294</td>\n",
       "      <td>2</td>\n",
       "      <td>-1.505824</td>\n",
       "      <td>-0.624223</td>\n",
       "      <td>0.618329</td>\n",
       "      <td>0.0</td>\n",
       "      <td>0.0</td>\n",
       "      <td>0.0</td>\n",
       "      <td>1.0</td>\n",
       "      <td>0.0</td>\n",
       "      <td>0.0</td>\n",
       "      <td>0.0</td>\n",
       "      <td>0.0</td>\n",
       "      <td>0.0</td>\n",
       "      <td>0.0</td>\n",
       "      <td>0.0</td>\n",
       "      <td>0.0</td>\n",
       "      <td>0.0</td>\n",
       "      <td>0.0</td>\n",
       "      <td>0.0</td>\n",
       "      <td>0.0</td>\n",
       "      <td>0.0</td>\n",
       "      <td>0.0</td>\n",
       "      <td>0.0</td>\n",
       "      <td>1.0</td>\n",
       "      <td>0.0</td>\n",
       "    </tr>\n",
       "    <tr>\n",
       "      <th>4</th>\n",
       "      <td>545</td>\n",
       "      <td>3.80</td>\n",
       "      <td>1.298436</td>\n",
       "      <td>15</td>\n",
       "      <td>-0.967584</td>\n",
       "      <td>99.8</td>\n",
       "      <td>1998</td>\n",
       "      <td>3.135494</td>\n",
       "      <td>0.000000</td>\n",
       "      <td>1</td>\n",
       "      <td>0.664088</td>\n",
       "      <td>1.357899</td>\n",
       "      <td>-2.226051</td>\n",
       "      <td>0.0</td>\n",
       "      <td>0.0</td>\n",
       "      <td>0.0</td>\n",
       "      <td>1.0</td>\n",
       "      <td>0.0</td>\n",
       "      <td>0.0</td>\n",
       "      <td>0.0</td>\n",
       "      <td>0.0</td>\n",
       "      <td>0.0</td>\n",
       "      <td>0.0</td>\n",
       "      <td>0.0</td>\n",
       "      <td>0.0</td>\n",
       "      <td>0.0</td>\n",
       "      <td>0.0</td>\n",
       "      <td>1.0</td>\n",
       "      <td>0.0</td>\n",
       "      <td>0.0</td>\n",
       "      <td>0.0</td>\n",
       "      <td>0.0</td>\n",
       "      <td>0.0</td>\n",
       "      <td>0.0</td>\n",
       "    </tr>\n",
       "    <tr>\n",
       "      <th>5</th>\n",
       "      <td>100</td>\n",
       "      <td>3.67</td>\n",
       "      <td>0.583198</td>\n",
       "      <td>1</td>\n",
       "      <td>-1.771957</td>\n",
       "      <td>100.0</td>\n",
       "      <td>1984</td>\n",
       "      <td>3.610918</td>\n",
       "      <td>1.945910</td>\n",
       "      <td>1</td>\n",
       "      <td>0.664088</td>\n",
       "      <td>-0.624223</td>\n",
       "      <td>0.211989</td>\n",
       "      <td>0.0</td>\n",
       "      <td>0.0</td>\n",
       "      <td>0.0</td>\n",
       "      <td>0.0</td>\n",
       "      <td>0.0</td>\n",
       "      <td>0.0</td>\n",
       "      <td>0.0</td>\n",
       "      <td>0.0</td>\n",
       "      <td>0.0</td>\n",
       "      <td>0.0</td>\n",
       "      <td>0.0</td>\n",
       "      <td>0.0</td>\n",
       "      <td>1.0</td>\n",
       "      <td>0.0</td>\n",
       "      <td>0.0</td>\n",
       "      <td>0.0</td>\n",
       "      <td>0.0</td>\n",
       "      <td>1.0</td>\n",
       "      <td>0.0</td>\n",
       "      <td>0.0</td>\n",
       "      <td>0.0</td>\n",
       "    </tr>\n",
       "  </tbody>\n",
       "</table>\n",
       "</div>"
      ],
      "text/plain": [
       "   ratings  community_rating  no_of_have  no_of_want  ratio_community  \\\n",
       "0     1992              4.17    1.756125         100        -1.171183   \n",
       "1     1776              4.67    1.079918          32         0.518794   \n",
       "2       33              4.00    1.242925          25        -0.248461   \n",
       "3      438              4.34    1.839211         185        -1.078810   \n",
       "4      545              3.80    1.298436          15        -0.967584   \n",
       "5      100              3.67    0.583198           1        -1.771957   \n",
       "\n",
       "   av_seller_rating  year  record_age    tracks  no_of_records         0  \\\n",
       "0              99.8  2004    2.833213  1.609438              2  0.664088   \n",
       "1             100.0  1996    3.218876  2.197225              1  0.664088   \n",
       "2             100.0  2018    1.098612  0.693147              1 -1.505824   \n",
       "3             100.0  2000    3.044522  1.386294              2 -1.505824   \n",
       "4              99.8  1998    3.135494  0.000000              1  0.664088   \n",
       "5             100.0  1984    3.610918  1.945910              1  0.664088   \n",
       "\n",
       "          1         2    0    1    2    3    4    5    6    7    8    9   10  \\\n",
       "0 -1.615285 -2.226051  0.0  0.0  0.0  1.0  0.0  0.0  0.0  0.0  0.0  0.0  0.0   \n",
       "1  0.366838  0.211989  0.0  0.0  0.0  1.0  0.0  0.0  0.0  0.0  0.0  0.0  0.0   \n",
       "2  1.357899  1.024669  0.0  0.0  0.0  1.0  0.0  0.0  0.0  0.0  0.0  0.0  0.0   \n",
       "3 -0.624223  0.618329  0.0  0.0  0.0  1.0  0.0  0.0  0.0  0.0  0.0  0.0  0.0   \n",
       "4  1.357899 -2.226051  0.0  0.0  0.0  1.0  0.0  0.0  0.0  0.0  0.0  0.0  0.0   \n",
       "5 -0.624223  0.211989  0.0  0.0  0.0  0.0  0.0  0.0  0.0  0.0  0.0  0.0  0.0   \n",
       "\n",
       "    11   12   13   14   15   16   17   18   19   20  \n",
       "0  0.0  0.0  0.0  0.0  0.0  0.0  0.0  0.0  1.0  0.0  \n",
       "1  0.0  0.0  0.0  0.0  0.0  0.0  1.0  0.0  0.0  0.0  \n",
       "2  0.0  0.0  0.0  0.0  1.0  0.0  0.0  0.0  0.0  0.0  \n",
       "3  0.0  0.0  0.0  0.0  0.0  0.0  0.0  0.0  1.0  0.0  \n",
       "4  0.0  0.0  0.0  1.0  0.0  0.0  0.0  0.0  0.0  0.0  \n",
       "5  0.0  1.0  0.0  0.0  0.0  0.0  1.0  0.0  0.0  0.0  "
      ]
     },
     "execution_count": 74,
     "metadata": {},
     "output_type": "execute_result"
    }
   ],
   "source": [
    "df = pd.concat([x_num.reset_index(drop=True), cat_data.reset_index(drop=True)], axis=1)\n",
    "df.head(6)"
   ]
  },
  {
   "cell_type": "code",
   "execution_count": 75,
   "metadata": {},
   "outputs": [
    {
     "data": {
      "text/plain": [
       "(10920, 34)"
      ]
     },
     "execution_count": 75,
     "metadata": {},
     "output_type": "execute_result"
    }
   ],
   "source": [
    "df.shape"
   ]
  },
  {
   "cell_type": "markdown",
   "metadata": {},
   "source": [
    "# Split Train & Test Data"
   ]
  },
  {
   "cell_type": "code",
   "execution_count": 76,
   "metadata": {},
   "outputs": [],
   "source": [
    "X_train, X_test, y_train, y_test = train_test_split(df, y, test_size = 0.2, random_state=100)"
   ]
  },
  {
   "cell_type": "markdown",
   "metadata": {},
   "source": [
    "# Scale data"
   ]
  },
  {
   "cell_type": "markdown",
   "metadata": {},
   "source": [
    "## Using StandardScaler"
   ]
  },
  {
   "cell_type": "code",
   "execution_count": 77,
   "metadata": {},
   "outputs": [
    {
     "data": {
      "text/html": [
       "<div>\n",
       "<style scoped>\n",
       "    .dataframe tbody tr th:only-of-type {\n",
       "        vertical-align: middle;\n",
       "    }\n",
       "\n",
       "    .dataframe tbody tr th {\n",
       "        vertical-align: top;\n",
       "    }\n",
       "\n",
       "    .dataframe thead th {\n",
       "        text-align: right;\n",
       "    }\n",
       "</style>\n",
       "<table border=\"1\" class=\"dataframe\">\n",
       "  <thead>\n",
       "    <tr style=\"text-align: right;\">\n",
       "      <th></th>\n",
       "      <th>0</th>\n",
       "      <th>1</th>\n",
       "      <th>2</th>\n",
       "      <th>3</th>\n",
       "      <th>4</th>\n",
       "      <th>5</th>\n",
       "      <th>6</th>\n",
       "      <th>7</th>\n",
       "      <th>8</th>\n",
       "      <th>9</th>\n",
       "      <th>10</th>\n",
       "      <th>11</th>\n",
       "      <th>12</th>\n",
       "      <th>13</th>\n",
       "      <th>14</th>\n",
       "      <th>15</th>\n",
       "      <th>16</th>\n",
       "      <th>17</th>\n",
       "      <th>18</th>\n",
       "      <th>19</th>\n",
       "      <th>20</th>\n",
       "      <th>21</th>\n",
       "      <th>22</th>\n",
       "      <th>23</th>\n",
       "      <th>24</th>\n",
       "      <th>25</th>\n",
       "      <th>26</th>\n",
       "      <th>27</th>\n",
       "      <th>28</th>\n",
       "      <th>29</th>\n",
       "      <th>30</th>\n",
       "      <th>31</th>\n",
       "      <th>32</th>\n",
       "      <th>33</th>\n",
       "    </tr>\n",
       "  </thead>\n",
       "  <tbody>\n",
       "    <tr>\n",
       "      <th>0</th>\n",
       "      <td>1.018989</td>\n",
       "      <td>-2.124869</td>\n",
       "      <td>-0.251392</td>\n",
       "      <td>-0.502439</td>\n",
       "      <td>-1.521167</td>\n",
       "      <td>-0.308837</td>\n",
       "      <td>0.229331</td>\n",
       "      <td>0.856992</td>\n",
       "      <td>-0.907999</td>\n",
       "      <td>-0.297703</td>\n",
       "      <td>-1.512178</td>\n",
       "      <td>0.363719</td>\n",
       "      <td>0.209613</td>\n",
       "      <td>-0.021403</td>\n",
       "      <td>-0.044156</td>\n",
       "      <td>-0.155789</td>\n",
       "      <td>-0.737199</td>\n",
       "      <td>-0.169865</td>\n",
       "      <td>-0.212664</td>\n",
       "      <td>-0.264695</td>\n",
       "      <td>-0.284230</td>\n",
       "      <td>-0.107608</td>\n",
       "      <td>-0.085229</td>\n",
       "      <td>4.802720</td>\n",
       "      <td>-0.202463</td>\n",
       "      <td>-0.652014</td>\n",
       "      <td>-0.087913</td>\n",
       "      <td>-0.685540</td>\n",
       "      <td>2.385189</td>\n",
       "      <td>-0.021403</td>\n",
       "      <td>-0.850139</td>\n",
       "      <td>-0.037088</td>\n",
       "      <td>-0.336378</td>\n",
       "      <td>-0.018534</td>\n",
       "    </tr>\n",
       "    <tr>\n",
       "      <th>1</th>\n",
       "      <td>3.035938</td>\n",
       "      <td>0.540212</td>\n",
       "      <td>1.384919</td>\n",
       "      <td>2.346029</td>\n",
       "      <td>-0.305289</td>\n",
       "      <td>-1.130324</td>\n",
       "      <td>-3.737730</td>\n",
       "      <td>-2.177441</td>\n",
       "      <td>0.081437</td>\n",
       "      <td>-0.297703</td>\n",
       "      <td>-1.512178</td>\n",
       "      <td>1.359784</td>\n",
       "      <td>0.616451</td>\n",
       "      <td>-0.021403</td>\n",
       "      <td>-0.044156</td>\n",
       "      <td>6.418948</td>\n",
       "      <td>-0.737199</td>\n",
       "      <td>-0.169865</td>\n",
       "      <td>-0.212664</td>\n",
       "      <td>-0.264695</td>\n",
       "      <td>-0.284230</td>\n",
       "      <td>-0.107608</td>\n",
       "      <td>-0.085229</td>\n",
       "      <td>-0.208215</td>\n",
       "      <td>-0.202463</td>\n",
       "      <td>-0.652014</td>\n",
       "      <td>-0.087913</td>\n",
       "      <td>-0.685540</td>\n",
       "      <td>2.385189</td>\n",
       "      <td>-0.021403</td>\n",
       "      <td>-0.850139</td>\n",
       "      <td>-0.037088</td>\n",
       "      <td>-0.336378</td>\n",
       "      <td>-0.018534</td>\n",
       "    </tr>\n",
       "    <tr>\n",
       "      <th>2</th>\n",
       "      <td>-0.745009</td>\n",
       "      <td>1.551104</td>\n",
       "      <td>-0.701732</td>\n",
       "      <td>-0.094717</td>\n",
       "      <td>1.703394</td>\n",
       "      <td>0.336617</td>\n",
       "      <td>-3.737730</td>\n",
       "      <td>-2.177441</td>\n",
       "      <td>-1.656479</td>\n",
       "      <td>-0.297703</td>\n",
       "      <td>-1.512178</td>\n",
       "      <td>-2.624477</td>\n",
       "      <td>0.209613</td>\n",
       "      <td>-0.021403</td>\n",
       "      <td>-0.044156</td>\n",
       "      <td>-0.155789</td>\n",
       "      <td>-0.737199</td>\n",
       "      <td>-0.169865</td>\n",
       "      <td>-0.212664</td>\n",
       "      <td>-0.264695</td>\n",
       "      <td>-0.284230</td>\n",
       "      <td>-0.107608</td>\n",
       "      <td>-0.085229</td>\n",
       "      <td>-0.208215</td>\n",
       "      <td>4.939165</td>\n",
       "      <td>-0.652014</td>\n",
       "      <td>-0.087913</td>\n",
       "      <td>-0.685540</td>\n",
       "      <td>2.385189</td>\n",
       "      <td>-0.021403</td>\n",
       "      <td>-0.850139</td>\n",
       "      <td>-0.037088</td>\n",
       "      <td>-0.336378</td>\n",
       "      <td>-0.018534</td>\n",
       "    </tr>\n",
       "    <tr>\n",
       "      <th>3</th>\n",
       "      <td>0.590748</td>\n",
       "      <td>-1.205876</td>\n",
       "      <td>-0.110757</td>\n",
       "      <td>-0.418661</td>\n",
       "      <td>-0.095547</td>\n",
       "      <td>-1.423712</td>\n",
       "      <td>0.259460</td>\n",
       "      <td>0.544204</td>\n",
       "      <td>-1.656479</td>\n",
       "      <td>-0.297703</td>\n",
       "      <td>-1.512178</td>\n",
       "      <td>0.363719</td>\n",
       "      <td>0.209613</td>\n",
       "      <td>-0.021403</td>\n",
       "      <td>-0.044156</td>\n",
       "      <td>-0.155789</td>\n",
       "      <td>-0.737199</td>\n",
       "      <td>-0.169865</td>\n",
       "      <td>-0.212664</td>\n",
       "      <td>-0.264695</td>\n",
       "      <td>-0.284230</td>\n",
       "      <td>-0.107608</td>\n",
       "      <td>-0.085229</td>\n",
       "      <td>-0.208215</td>\n",
       "      <td>4.939165</td>\n",
       "      <td>-0.652014</td>\n",
       "      <td>-0.087913</td>\n",
       "      <td>1.458705</td>\n",
       "      <td>-0.419254</td>\n",
       "      <td>-0.021403</td>\n",
       "      <td>-0.850139</td>\n",
       "      <td>-0.037088</td>\n",
       "      <td>-0.336378</td>\n",
       "      <td>-0.018534</td>\n",
       "    </tr>\n",
       "    <tr>\n",
       "      <th>4</th>\n",
       "      <td>-0.448421</td>\n",
       "      <td>-0.286882</td>\n",
       "      <td>0.749411</td>\n",
       "      <td>-0.245519</td>\n",
       "      <td>-0.691201</td>\n",
       "      <td>0.277940</td>\n",
       "      <td>0.279546</td>\n",
       "      <td>0.235530</td>\n",
       "      <td>0.081437</td>\n",
       "      <td>-0.297703</td>\n",
       "      <td>0.661298</td>\n",
       "      <td>-0.632346</td>\n",
       "      <td>-2.231416</td>\n",
       "      <td>-0.021403</td>\n",
       "      <td>-0.044156</td>\n",
       "      <td>-0.155789</td>\n",
       "      <td>-0.737199</td>\n",
       "      <td>-0.169865</td>\n",
       "      <td>-0.212664</td>\n",
       "      <td>3.777926</td>\n",
       "      <td>-0.284230</td>\n",
       "      <td>-0.107608</td>\n",
       "      <td>-0.085229</td>\n",
       "      <td>-0.208215</td>\n",
       "      <td>-0.202463</td>\n",
       "      <td>-0.652014</td>\n",
       "      <td>-0.087913</td>\n",
       "      <td>1.458705</td>\n",
       "      <td>-0.419254</td>\n",
       "      <td>-0.021403</td>\n",
       "      <td>-0.850139</td>\n",
       "      <td>-0.037088</td>\n",
       "      <td>-0.336378</td>\n",
       "      <td>-0.018534</td>\n",
       "    </tr>\n",
       "    <tr>\n",
       "      <th>...</th>\n",
       "      <td>...</td>\n",
       "      <td>...</td>\n",
       "      <td>...</td>\n",
       "      <td>...</td>\n",
       "      <td>...</td>\n",
       "      <td>...</td>\n",
       "      <td>...</td>\n",
       "      <td>...</td>\n",
       "      <td>...</td>\n",
       "      <td>...</td>\n",
       "      <td>...</td>\n",
       "      <td>...</td>\n",
       "      <td>...</td>\n",
       "      <td>...</td>\n",
       "      <td>...</td>\n",
       "      <td>...</td>\n",
       "      <td>...</td>\n",
       "      <td>...</td>\n",
       "      <td>...</td>\n",
       "      <td>...</td>\n",
       "      <td>...</td>\n",
       "      <td>...</td>\n",
       "      <td>...</td>\n",
       "      <td>...</td>\n",
       "      <td>...</td>\n",
       "      <td>...</td>\n",
       "      <td>...</td>\n",
       "      <td>...</td>\n",
       "      <td>...</td>\n",
       "      <td>...</td>\n",
       "      <td>...</td>\n",
       "      <td>...</td>\n",
       "      <td>...</td>\n",
       "      <td>...</td>\n",
       "    </tr>\n",
       "    <tr>\n",
       "      <th>8731</th>\n",
       "      <td>-0.159229</td>\n",
       "      <td>1.551104</td>\n",
       "      <td>-1.162180</td>\n",
       "      <td>-0.502439</td>\n",
       "      <td>-0.596644</td>\n",
       "      <td>0.336617</td>\n",
       "      <td>0.263477</td>\n",
       "      <td>0.491347</td>\n",
       "      <td>0.444769</td>\n",
       "      <td>-0.297703</td>\n",
       "      <td>0.661298</td>\n",
       "      <td>1.359784</td>\n",
       "      <td>1.023289</td>\n",
       "      <td>-0.021403</td>\n",
       "      <td>-0.044156</td>\n",
       "      <td>-0.155789</td>\n",
       "      <td>-0.737199</td>\n",
       "      <td>-0.169865</td>\n",
       "      <td>-0.212664</td>\n",
       "      <td>-0.264695</td>\n",
       "      <td>-0.284230</td>\n",
       "      <td>-0.107608</td>\n",
       "      <td>-0.085229</td>\n",
       "      <td>-0.208215</td>\n",
       "      <td>-0.202463</td>\n",
       "      <td>1.533709</td>\n",
       "      <td>-0.087913</td>\n",
       "      <td>-0.685540</td>\n",
       "      <td>-0.419254</td>\n",
       "      <td>-0.021403</td>\n",
       "      <td>1.176278</td>\n",
       "      <td>-0.037088</td>\n",
       "      <td>-0.336378</td>\n",
       "      <td>-0.018534</td>\n",
       "    </tr>\n",
       "    <tr>\n",
       "      <th>8732</th>\n",
       "      <td>-0.551968</td>\n",
       "      <td>1.220267</td>\n",
       "      <td>0.596611</td>\n",
       "      <td>-0.256689</td>\n",
       "      <td>-0.437007</td>\n",
       "      <td>0.336617</td>\n",
       "      <td>0.319719</td>\n",
       "      <td>-2.177441</td>\n",
       "      <td>0.588960</td>\n",
       "      <td>-0.297703</td>\n",
       "      <td>0.661298</td>\n",
       "      <td>0.363719</td>\n",
       "      <td>0.616451</td>\n",
       "      <td>-0.021403</td>\n",
       "      <td>-0.044156</td>\n",
       "      <td>-0.155789</td>\n",
       "      <td>-0.737199</td>\n",
       "      <td>-0.169865</td>\n",
       "      <td>4.702245</td>\n",
       "      <td>-0.264695</td>\n",
       "      <td>-0.284230</td>\n",
       "      <td>-0.107608</td>\n",
       "      <td>-0.085229</td>\n",
       "      <td>-0.208215</td>\n",
       "      <td>-0.202463</td>\n",
       "      <td>-0.652014</td>\n",
       "      <td>-0.087913</td>\n",
       "      <td>-0.685540</td>\n",
       "      <td>-0.419254</td>\n",
       "      <td>-0.021403</td>\n",
       "      <td>1.176278</td>\n",
       "      <td>-0.037088</td>\n",
       "      <td>-0.336378</td>\n",
       "      <td>-0.018534</td>\n",
       "    </tr>\n",
       "    <tr>\n",
       "      <th>8733</th>\n",
       "      <td>-0.577115</td>\n",
       "      <td>0.172614</td>\n",
       "      <td>-0.208688</td>\n",
       "      <td>-0.066791</td>\n",
       "      <td>1.194414</td>\n",
       "      <td>0.219262</td>\n",
       "      <td>0.319719</td>\n",
       "      <td>-2.177441</td>\n",
       "      <td>0.081437</td>\n",
       "      <td>-0.297703</td>\n",
       "      <td>0.661298</td>\n",
       "      <td>0.363719</td>\n",
       "      <td>0.209613</td>\n",
       "      <td>-0.021403</td>\n",
       "      <td>-0.044156</td>\n",
       "      <td>-0.155789</td>\n",
       "      <td>1.356485</td>\n",
       "      <td>-0.169865</td>\n",
       "      <td>-0.212664</td>\n",
       "      <td>-0.264695</td>\n",
       "      <td>-0.284230</td>\n",
       "      <td>-0.107608</td>\n",
       "      <td>-0.085229</td>\n",
       "      <td>-0.208215</td>\n",
       "      <td>-0.202463</td>\n",
       "      <td>-0.652014</td>\n",
       "      <td>-0.087913</td>\n",
       "      <td>-0.685540</td>\n",
       "      <td>-0.419254</td>\n",
       "      <td>-0.021403</td>\n",
       "      <td>1.176278</td>\n",
       "      <td>-0.037088</td>\n",
       "      <td>-0.336378</td>\n",
       "      <td>-0.018534</td>\n",
       "    </tr>\n",
       "    <tr>\n",
       "      <th>8734</th>\n",
       "      <td>3.035198</td>\n",
       "      <td>0.080715</td>\n",
       "      <td>-1.566014</td>\n",
       "      <td>-0.485684</td>\n",
       "      <td>0.380871</td>\n",
       "      <td>-1.130324</td>\n",
       "      <td>0.315702</td>\n",
       "      <td>-1.306723</td>\n",
       "      <td>1.193249</td>\n",
       "      <td>-0.297703</td>\n",
       "      <td>0.661298</td>\n",
       "      <td>1.359784</td>\n",
       "      <td>0.616451</td>\n",
       "      <td>-0.021403</td>\n",
       "      <td>-0.044156</td>\n",
       "      <td>-0.155789</td>\n",
       "      <td>-0.737199</td>\n",
       "      <td>-0.169865</td>\n",
       "      <td>-0.212664</td>\n",
       "      <td>-0.264695</td>\n",
       "      <td>3.518274</td>\n",
       "      <td>-0.107608</td>\n",
       "      <td>-0.085229</td>\n",
       "      <td>-0.208215</td>\n",
       "      <td>-0.202463</td>\n",
       "      <td>-0.652014</td>\n",
       "      <td>-0.087913</td>\n",
       "      <td>-0.685540</td>\n",
       "      <td>-0.419254</td>\n",
       "      <td>-0.021403</td>\n",
       "      <td>1.176278</td>\n",
       "      <td>-0.037088</td>\n",
       "      <td>-0.336378</td>\n",
       "      <td>-0.018534</td>\n",
       "    </tr>\n",
       "    <tr>\n",
       "      <th>8735</th>\n",
       "      <td>-0.515726</td>\n",
       "      <td>0.080715</td>\n",
       "      <td>-4.056567</td>\n",
       "      <td>0.028158</td>\n",
       "      <td>3.674408</td>\n",
       "      <td>0.336617</td>\n",
       "      <td>-3.737730</td>\n",
       "      <td>-2.177441</td>\n",
       "      <td>0.081437</td>\n",
       "      <td>-0.297703</td>\n",
       "      <td>0.661298</td>\n",
       "      <td>0.363719</td>\n",
       "      <td>-2.231416</td>\n",
       "      <td>-0.021403</td>\n",
       "      <td>-0.044156</td>\n",
       "      <td>-0.155789</td>\n",
       "      <td>1.356485</td>\n",
       "      <td>-0.169865</td>\n",
       "      <td>-0.212664</td>\n",
       "      <td>-0.264695</td>\n",
       "      <td>-0.284230</td>\n",
       "      <td>-0.107608</td>\n",
       "      <td>-0.085229</td>\n",
       "      <td>-0.208215</td>\n",
       "      <td>-0.202463</td>\n",
       "      <td>-0.652014</td>\n",
       "      <td>-0.087913</td>\n",
       "      <td>1.458705</td>\n",
       "      <td>-0.419254</td>\n",
       "      <td>-0.021403</td>\n",
       "      <td>-0.850139</td>\n",
       "      <td>-0.037088</td>\n",
       "      <td>-0.336378</td>\n",
       "      <td>-0.018534</td>\n",
       "    </tr>\n",
       "  </tbody>\n",
       "</table>\n",
       "<p>8736 rows × 34 columns</p>\n",
       "</div>"
      ],
      "text/plain": [
       "            0         1         2         3         4         5         6   \\\n",
       "0     1.018989 -2.124869 -0.251392 -0.502439 -1.521167 -0.308837  0.229331   \n",
       "1     3.035938  0.540212  1.384919  2.346029 -0.305289 -1.130324 -3.737730   \n",
       "2    -0.745009  1.551104 -0.701732 -0.094717  1.703394  0.336617 -3.737730   \n",
       "3     0.590748 -1.205876 -0.110757 -0.418661 -0.095547 -1.423712  0.259460   \n",
       "4    -0.448421 -0.286882  0.749411 -0.245519 -0.691201  0.277940  0.279546   \n",
       "...        ...       ...       ...       ...       ...       ...       ...   \n",
       "8731 -0.159229  1.551104 -1.162180 -0.502439 -0.596644  0.336617  0.263477   \n",
       "8732 -0.551968  1.220267  0.596611 -0.256689 -0.437007  0.336617  0.319719   \n",
       "8733 -0.577115  0.172614 -0.208688 -0.066791  1.194414  0.219262  0.319719   \n",
       "8734  3.035198  0.080715 -1.566014 -0.485684  0.380871 -1.130324  0.315702   \n",
       "8735 -0.515726  0.080715 -4.056567  0.028158  3.674408  0.336617 -3.737730   \n",
       "\n",
       "            7         8         9         10        11        12        13  \\\n",
       "0     0.856992 -0.907999 -0.297703 -1.512178  0.363719  0.209613 -0.021403   \n",
       "1    -2.177441  0.081437 -0.297703 -1.512178  1.359784  0.616451 -0.021403   \n",
       "2    -2.177441 -1.656479 -0.297703 -1.512178 -2.624477  0.209613 -0.021403   \n",
       "3     0.544204 -1.656479 -0.297703 -1.512178  0.363719  0.209613 -0.021403   \n",
       "4     0.235530  0.081437 -0.297703  0.661298 -0.632346 -2.231416 -0.021403   \n",
       "...        ...       ...       ...       ...       ...       ...       ...   \n",
       "8731  0.491347  0.444769 -0.297703  0.661298  1.359784  1.023289 -0.021403   \n",
       "8732 -2.177441  0.588960 -0.297703  0.661298  0.363719  0.616451 -0.021403   \n",
       "8733 -2.177441  0.081437 -0.297703  0.661298  0.363719  0.209613 -0.021403   \n",
       "8734 -1.306723  1.193249 -0.297703  0.661298  1.359784  0.616451 -0.021403   \n",
       "8735 -2.177441  0.081437 -0.297703  0.661298  0.363719 -2.231416 -0.021403   \n",
       "\n",
       "            14        15        16        17        18        19        20  \\\n",
       "0    -0.044156 -0.155789 -0.737199 -0.169865 -0.212664 -0.264695 -0.284230   \n",
       "1    -0.044156  6.418948 -0.737199 -0.169865 -0.212664 -0.264695 -0.284230   \n",
       "2    -0.044156 -0.155789 -0.737199 -0.169865 -0.212664 -0.264695 -0.284230   \n",
       "3    -0.044156 -0.155789 -0.737199 -0.169865 -0.212664 -0.264695 -0.284230   \n",
       "4    -0.044156 -0.155789 -0.737199 -0.169865 -0.212664  3.777926 -0.284230   \n",
       "...        ...       ...       ...       ...       ...       ...       ...   \n",
       "8731 -0.044156 -0.155789 -0.737199 -0.169865 -0.212664 -0.264695 -0.284230   \n",
       "8732 -0.044156 -0.155789 -0.737199 -0.169865  4.702245 -0.264695 -0.284230   \n",
       "8733 -0.044156 -0.155789  1.356485 -0.169865 -0.212664 -0.264695 -0.284230   \n",
       "8734 -0.044156 -0.155789 -0.737199 -0.169865 -0.212664 -0.264695  3.518274   \n",
       "8735 -0.044156 -0.155789  1.356485 -0.169865 -0.212664 -0.264695 -0.284230   \n",
       "\n",
       "            21        22        23        24        25        26        27  \\\n",
       "0    -0.107608 -0.085229  4.802720 -0.202463 -0.652014 -0.087913 -0.685540   \n",
       "1    -0.107608 -0.085229 -0.208215 -0.202463 -0.652014 -0.087913 -0.685540   \n",
       "2    -0.107608 -0.085229 -0.208215  4.939165 -0.652014 -0.087913 -0.685540   \n",
       "3    -0.107608 -0.085229 -0.208215  4.939165 -0.652014 -0.087913  1.458705   \n",
       "4    -0.107608 -0.085229 -0.208215 -0.202463 -0.652014 -0.087913  1.458705   \n",
       "...        ...       ...       ...       ...       ...       ...       ...   \n",
       "8731 -0.107608 -0.085229 -0.208215 -0.202463  1.533709 -0.087913 -0.685540   \n",
       "8732 -0.107608 -0.085229 -0.208215 -0.202463 -0.652014 -0.087913 -0.685540   \n",
       "8733 -0.107608 -0.085229 -0.208215 -0.202463 -0.652014 -0.087913 -0.685540   \n",
       "8734 -0.107608 -0.085229 -0.208215 -0.202463 -0.652014 -0.087913 -0.685540   \n",
       "8735 -0.107608 -0.085229 -0.208215 -0.202463 -0.652014 -0.087913  1.458705   \n",
       "\n",
       "            28        29        30        31        32        33  \n",
       "0     2.385189 -0.021403 -0.850139 -0.037088 -0.336378 -0.018534  \n",
       "1     2.385189 -0.021403 -0.850139 -0.037088 -0.336378 -0.018534  \n",
       "2     2.385189 -0.021403 -0.850139 -0.037088 -0.336378 -0.018534  \n",
       "3    -0.419254 -0.021403 -0.850139 -0.037088 -0.336378 -0.018534  \n",
       "4    -0.419254 -0.021403 -0.850139 -0.037088 -0.336378 -0.018534  \n",
       "...        ...       ...       ...       ...       ...       ...  \n",
       "8731 -0.419254 -0.021403  1.176278 -0.037088 -0.336378 -0.018534  \n",
       "8732 -0.419254 -0.021403  1.176278 -0.037088 -0.336378 -0.018534  \n",
       "8733 -0.419254 -0.021403  1.176278 -0.037088 -0.336378 -0.018534  \n",
       "8734 -0.419254 -0.021403  1.176278 -0.037088 -0.336378 -0.018534  \n",
       "8735 -0.419254 -0.021403 -0.850139 -0.037088 -0.336378 -0.018534  \n",
       "\n",
       "[8736 rows x 34 columns]"
      ]
     },
     "execution_count": 77,
     "metadata": {},
     "output_type": "execute_result"
    }
   ],
   "source": [
    "scaler = preprocessing.StandardScaler()\n",
    "X_train = scaler.fit_transform(X_train)\n",
    "X_test = scaler.transform(X_test)\n",
    "x_scaled = pd.DataFrame(X_train)\n",
    "\n",
    "x_scaled"
   ]
  },
  {
   "cell_type": "code",
   "execution_count": 78,
   "metadata": {},
   "outputs": [],
   "source": [
    "#for i in range(x_scaled.shape[1]):\n",
    "#    sns.distplot(x_scaled[i])\n",
    "#    plt.show()"
   ]
  },
  {
   "cell_type": "markdown",
   "metadata": {},
   "source": [
    "# Implement models"
   ]
  },
  {
   "cell_type": "code",
   "execution_count": 81,
   "metadata": {},
   "outputs": [],
   "source": [
    "def models_automation(models, X_train, y_train, X_test, y_test):\n",
    "    lis = []\n",
    "    lis1 = []\n",
    "    for i,model in enumerate(models):\n",
    "        lis.append([])\n",
    "        lis1.append([])\n",
    "        model.fit(X_train, y_train)\n",
    "        print(f\"{str(model)}: Test -> {model.score(X_test, y_test)}\")\n",
    "        lis[i].append(model.score(X_test, y_test))\n",
    "        y_predict = model.predict(X_test)\n",
    "        lis1[i].append(list(y_predict))\n",
    "        lis[i].append(mean_absolute_error(y_test,y_predict))\n",
    "        lis[i].append(mean_squared_error(y_test,y_predict))\n",
    "        lis[i].append(mean_squared_error(y_test, y_predict, squared=False))\n",
    "    return lis,lis1"
   ]
  },
  {
   "cell_type": "code",
   "execution_count": 82,
   "metadata": {},
   "outputs": [
    {
     "name": "stdout",
     "output_type": "stream",
     "text": [
      "LinearRegression(): Test -> 0.3922435328300329\n",
      "KNeighborsRegressor(n_neighbors=7): Test -> 0.4050927945954036\n",
      "RandomForestRegressor(random_state=0): Test -> 0.6180078789344272\n"
     ]
    }
   ],
   "source": [
    "model1 = linear_model.LinearRegression()\n",
    "model2 = KNeighborsRegressor(7)\n",
    "model3 = RandomForestRegressor(random_state=0)\n",
    "linear_models = [model1,model2,model3]\n",
    "my_list,my_list1 = models_automation(linear_models, X_train, y_train, X_test, y_test)"
   ]
  },
  {
   "cell_type": "markdown",
   "metadata": {},
   "source": [
    "# Scores of each model applied"
   ]
  },
  {
   "cell_type": "code",
   "execution_count": 83,
   "metadata": {},
   "outputs": [],
   "source": [
    "def my_scores(lis):\n",
    "    results = pd.DataFrame(lis,columns = ['R_squared', 'MAE','MSE','RMSE'])\n",
    "    results.insert(0,'Models',['Linear Regression', 'KNneighborsRegressor', 'RandomForestRegressor'])\n",
    "    results = results.T\n",
    "    return results"
   ]
  },
  {
   "cell_type": "code",
   "execution_count": 84,
   "metadata": {},
   "outputs": [
    {
     "data": {
      "text/html": [
       "<div>\n",
       "<style scoped>\n",
       "    .dataframe tbody tr th:only-of-type {\n",
       "        vertical-align: middle;\n",
       "    }\n",
       "\n",
       "    .dataframe tbody tr th {\n",
       "        vertical-align: top;\n",
       "    }\n",
       "\n",
       "    .dataframe thead th {\n",
       "        text-align: right;\n",
       "    }\n",
       "</style>\n",
       "<table border=\"1\" class=\"dataframe\">\n",
       "  <thead>\n",
       "    <tr style=\"text-align: right;\">\n",
       "      <th></th>\n",
       "      <th>0</th>\n",
       "      <th>1</th>\n",
       "      <th>2</th>\n",
       "    </tr>\n",
       "  </thead>\n",
       "  <tbody>\n",
       "    <tr>\n",
       "      <th>Models</th>\n",
       "      <td>Linear Regression</td>\n",
       "      <td>KNneighborsRegressor</td>\n",
       "      <td>RandomForestRegressor</td>\n",
       "    </tr>\n",
       "    <tr>\n",
       "      <th>R_squared</th>\n",
       "      <td>0.392244</td>\n",
       "      <td>0.405093</td>\n",
       "      <td>0.618008</td>\n",
       "    </tr>\n",
       "    <tr>\n",
       "      <th>MAE</th>\n",
       "      <td>10.9916</td>\n",
       "      <td>10.2332</td>\n",
       "      <td>7.83666</td>\n",
       "    </tr>\n",
       "    <tr>\n",
       "      <th>MSE</th>\n",
       "      <td>244.66</td>\n",
       "      <td>239.488</td>\n",
       "      <td>153.776</td>\n",
       "    </tr>\n",
       "    <tr>\n",
       "      <th>RMSE</th>\n",
       "      <td>15.6416</td>\n",
       "      <td>15.4754</td>\n",
       "      <td>12.4006</td>\n",
       "    </tr>\n",
       "  </tbody>\n",
       "</table>\n",
       "</div>"
      ],
      "text/plain": [
       "                           0                     1                      2\n",
       "Models     Linear Regression  KNneighborsRegressor  RandomForestRegressor\n",
       "R_squared           0.392244              0.405093               0.618008\n",
       "MAE                  10.9916               10.2332                7.83666\n",
       "MSE                   244.66               239.488                153.776\n",
       "RMSE                 15.6416               15.4754                12.4006"
      ]
     },
     "execution_count": 84,
     "metadata": {},
     "output_type": "execute_result"
    }
   ],
   "source": [
    "data1 = my_scores(my_list)\n",
    "data1.head()"
   ]
  },
  {
   "cell_type": "code",
   "execution_count": 85,
   "metadata": {},
   "outputs": [],
   "source": [
    "def visualize_model(plot, model, train, test):\n",
    "    visualizer = plot(model)\n",
    "    visualizer.fit(*train)\n",
    "    visualizer.score(*test)\n",
    "    visualizer.show()"
   ]
  },
  {
   "cell_type": "code",
   "execution_count": 86,
   "metadata": {},
   "outputs": [
    {
     "data": {
      "image/png": "[encoded data removed]",
      "text/plain": [
       "<Figure size 432x288 with 2 Axes>"
      ]
     },
     "metadata": {
      "needs_background": "light"
     },
     "output_type": "display_data"
    },
    {
     "data": {
      "image/png": "[encoded data removed]",
      "text/plain": [
       "<Figure size 432x288 with 1 Axes>"
      ]
     },
     "metadata": {
      "needs_background": "light"
     },
     "output_type": "display_data"
    }
   ],
   "source": [
    "for i, plot in enumerate([ResidualsPlot, PredictionError]):\n",
    "    visualize_model(plot, model1, (X_train, y_train), (X_test, y_test))"
   ]
  },
  {
   "cell_type": "markdown",
   "metadata": {},
   "source": [
    "# Actual prices compared to predicted prices"
   ]
  },
  {
   "cell_type": "code",
   "execution_count": 87,
   "metadata": {},
   "outputs": [
    {
     "data": {
      "text/html": [
       "<div>\n",
       "<style scoped>\n",
       "    .dataframe tbody tr th:only-of-type {\n",
       "        vertical-align: middle;\n",
       "    }\n",
       "\n",
       "    .dataframe tbody tr th {\n",
       "        vertical-align: top;\n",
       "    }\n",
       "\n",
       "    .dataframe thead th {\n",
       "        text-align: right;\n",
       "    }\n",
       "</style>\n",
       "<table border=\"1\" class=\"dataframe\">\n",
       "  <thead>\n",
       "    <tr style=\"text-align: right;\">\n",
       "      <th></th>\n",
       "      <th>Actual_price</th>\n",
       "      <th>LinearRegression</th>\n",
       "      <th>KNeighborsRegressor</th>\n",
       "      <th>RandomForestRegressor</th>\n",
       "    </tr>\n",
       "  </thead>\n",
       "  <tbody>\n",
       "    <tr>\n",
       "      <th>14785</th>\n",
       "      <td>41.64</td>\n",
       "      <td>36</td>\n",
       "      <td>30</td>\n",
       "      <td>39</td>\n",
       "    </tr>\n",
       "    <tr>\n",
       "      <th>2931</th>\n",
       "      <td>10.71</td>\n",
       "      <td>19</td>\n",
       "      <td>17</td>\n",
       "      <td>14</td>\n",
       "    </tr>\n",
       "    <tr>\n",
       "      <th>10662</th>\n",
       "      <td>13.39</td>\n",
       "      <td>24</td>\n",
       "      <td>27</td>\n",
       "      <td>17</td>\n",
       "    </tr>\n",
       "    <tr>\n",
       "      <th>6608</th>\n",
       "      <td>29.75</td>\n",
       "      <td>33</td>\n",
       "      <td>30</td>\n",
       "      <td>41</td>\n",
       "    </tr>\n",
       "    <tr>\n",
       "      <th>756</th>\n",
       "      <td>29.74</td>\n",
       "      <td>28</td>\n",
       "      <td>44</td>\n",
       "      <td>32</td>\n",
       "    </tr>\n",
       "    <tr>\n",
       "      <th>...</th>\n",
       "      <td>...</td>\n",
       "      <td>...</td>\n",
       "      <td>...</td>\n",
       "      <td>...</td>\n",
       "    </tr>\n",
       "    <tr>\n",
       "      <th>8931</th>\n",
       "      <td>29.74</td>\n",
       "      <td>25</td>\n",
       "      <td>9</td>\n",
       "      <td>19</td>\n",
       "    </tr>\n",
       "    <tr>\n",
       "      <th>7747</th>\n",
       "      <td>42.82</td>\n",
       "      <td>20</td>\n",
       "      <td>30</td>\n",
       "      <td>35</td>\n",
       "    </tr>\n",
       "    <tr>\n",
       "      <th>853</th>\n",
       "      <td>10.00</td>\n",
       "      <td>16</td>\n",
       "      <td>9</td>\n",
       "      <td>21</td>\n",
       "    </tr>\n",
       "    <tr>\n",
       "      <th>14129</th>\n",
       "      <td>3.47</td>\n",
       "      <td>8</td>\n",
       "      <td>4</td>\n",
       "      <td>3</td>\n",
       "    </tr>\n",
       "    <tr>\n",
       "      <th>611</th>\n",
       "      <td>47.59</td>\n",
       "      <td>39</td>\n",
       "      <td>46</td>\n",
       "      <td>42</td>\n",
       "    </tr>\n",
       "  </tbody>\n",
       "</table>\n",
       "<p>2184 rows × 4 columns</p>\n",
       "</div>"
      ],
      "text/plain": [
       "       Actual_price  LinearRegression  KNeighborsRegressor  \\\n",
       "14785         41.64                36                   30   \n",
       "2931          10.71                19                   17   \n",
       "10662         13.39                24                   27   \n",
       "6608          29.75                33                   30   \n",
       "756           29.74                28                   44   \n",
       "...             ...               ...                  ...   \n",
       "8931          29.74                25                    9   \n",
       "7747          42.82                20                   30   \n",
       "853           10.00                16                    9   \n",
       "14129          3.47                 8                    4   \n",
       "611           47.59                39                   46   \n",
       "\n",
       "       RandomForestRegressor  \n",
       "14785                     39  \n",
       "2931                      14  \n",
       "10662                     17  \n",
       "6608                      41  \n",
       "756                       32  \n",
       "...                      ...  \n",
       "8931                      19  \n",
       "7747                      35  \n",
       "853                       21  \n",
       "14129                      3  \n",
       "611                       42  \n",
       "\n",
       "[2184 rows x 4 columns]"
      ]
     },
     "execution_count": 87,
     "metadata": {},
     "output_type": "execute_result"
    }
   ],
   "source": [
    "predicted_val= pd.DataFrame({'Actual_price': y_test,'LinearRegression': my_list1[0][0],\n",
    "                             'KNeighborsRegressor': my_list1[1][0],\n",
    "                             'RandomForestRegressor':\n",
    "                             my_list1[2][0]})\n",
    "predicted_val[['LinearRegression','KNeighborsRegressor','RandomForestRegressor']] = predicted_val[\n",
    "    ['LinearRegression','KNeighborsRegressor','RandomForestRegressor']\n",
    "    ].astype('int64')\n",
    "predicted_val"
   ]
  },
  {
   "cell_type": "code",
   "execution_count": 88,
   "metadata": {},
   "outputs": [],
   "source": [
    "predicted_val.to_csv('/Users/siljaloik/Desktop/predicted_values.csv')"
   ]
  },
  {
   "cell_type": "markdown",
   "metadata": {},
   "source": [
    "## Model validation"
   ]
  },
  {
   "cell_type": "code",
   "execution_count": 90,
   "metadata": {},
   "outputs": [],
   "source": [
    "from sklearn.model_selection import cross_val_score"
   ]
  },
  {
   "cell_type": "code",
   "execution_count": 91,
   "metadata": {},
   "outputs": [
    {
     "name": "stdout",
     "output_type": "stream",
     "text": [
      "['ratings', 'community_rating', 'no_of_have', 'no_of_want', 'ratio_community', 'av_seller_rating', 'year', 'record_age', 'tracks', 'no_of_records', 0, 1, 2, 0, 1, 2, 3, 4, 5, 6, 7, 8, 9, 10, 11, 12, 13, 14, 15, 16, 17, 18, 19, 20]\n",
      "The features weights in Random Forest model are {'ratings': 0.13392469535589066, 'community_rating': 0.06924437038121622, 'no_of_have': 0.04810892104494013, 'no_of_want': 0.15259876168991482, 'ratio_community': 0.1465032193373842, 'av_seller_rating': 0.05118987017527782, 'year': 0.04224847874052309, 'record_age': 0.03940259414863308, 'tracks': 0.04390706727249562, 'no_of_records': 0.006174111277828172, 0: 1.9198709085061387e-05, 1: 0.0003935992400367091, 2: 0.0033418986132531577, 3: 0.007332389156442291, 4: 0.0018529387387026031, 5: 0.003412426253315412, 6: 0.0038033757474339254, 7: 0.00495404017858994, 8: 0.001076564951285105, 9: 0.00040351497250938444, 10: 0.0026882111030628406, 11: 0.002749995689972376, 12: 0.0116243973593682, 13: 0.0005544635339815723, 14: 0.018581378916496298, 15: 0.0031472131539071195, 16: 1.069624705533455e-06, 17: 0.010336338052560248, 18: 0.0006616648500891735, 19: 0.0023440280716374396, 20: 2.203793687284232e-06}\n",
      "The mean score of Random Forest Regressor at max_depth = 15 is 0.5636124631206056\n"
     ]
    }
   ],
   "source": [
    "model2 = RandomForestRegressor(max_depth = 15).fit(X_train,y_train)\n",
    "my_features = model2.feature_importances_\n",
    "y_pred1 = model2.predict(X_test)\n",
    "my_features = my_features.reshape(-1,1)\n",
    "index = []\n",
    "value = []\n",
    "for i, val in enumerate(my_features):\n",
    "    if val > 0.0:\n",
    "        index.append(i)\n",
    "        value.append(val)\n",
    "features = {}\n",
    "\n",
    "Rand_Forest_considered = []\n",
    "for i, ii in zip(index,value):\n",
    "    features[df.columns[i]] = (float(ii))\n",
    "    Rand_Forest_considered.append(df.columns[i])\n",
    "RF_scores = cross_val_score(model2, X_train, y_train, cv=5) #cross-validation 5 times\n",
    "mean = np.mean(RF_scores)\n",
    "print(Rand_Forest_considered)\n",
    "print('The features weights in Random Forest model are {}'.format(features)print('The mean score of Random Forest Regressor at max_depth = 15 is {}'.format(mean))"
   ]
  }
 ],
 "metadata": {
  "kernelspec": {
   "display_name": "Python 3",
   "language": "python",
   "name": "python3"
  },
  "language_info": {
   "codemirror_mode": {
    "name": "ipython",
    "version": 3
   },
   "file_extension": ".py",
   "mimetype": "text/x-python",
   "name": "python",
   "nbconvert_exporter": "python",
   "pygments_lexer": "ipython3",
   "version": "3.8.5"
  }
 },
 "nbformat": 4,
 "nbformat_minor": 4
}
